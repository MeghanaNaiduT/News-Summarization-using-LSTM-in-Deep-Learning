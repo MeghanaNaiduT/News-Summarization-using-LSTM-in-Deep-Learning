{
  "nbformat": 4,
  "nbformat_minor": 0,
  "metadata": {
    "colab": {
      "provenance": [],
      "gpuType": "T4"
    },
    "kernelspec": {
      "name": "python3",
      "display_name": "Python 3"
    },
    "accelerator": "GPU"
  },
  "cells": [
    {
      "cell_type": "code",
      "source": [
        "import psutil\n",
        "import multiprocessing\n",
        "\n",
        "# Get CPU information\n",
        "cpu_freq = psutil.cpu_freq()  # CPU frequency\n",
        "cpu_cores = multiprocessing.cpu_count()  # Total cores\n",
        "cpu_load = psutil.cpu_percent(interval=1)  # CPU usage in percentage\n",
        "\n",
        "print(f\"CPU Frequency: {cpu_freq.max:.2f} MHz\")\n",
        "print(f\"Total CPU Cores: {cpu_cores}\")\n",
        "print(f\"CPU Usage: {cpu_load}%\")\n"
      ],
      "metadata": {
        "id": "6tP4YgeX1Xdx",
        "outputId": "09a383f6-e7a3-4ece-856b-d575ae765d4a",
        "colab": {
          "base_uri": "https://localhost:8080/"
        }
      },
      "execution_count": null,
      "outputs": [
        {
          "output_type": "stream",
          "name": "stdout",
          "text": [
            "CPU Frequency: 0.00 MHz\n",
            "Total CPU Cores: 2\n",
            "CPU Usage: 94.0%\n"
          ]
        }
      ]
    },
    {
      "cell_type": "code",
      "metadata": {
        "id": "TcjgaweoqLlJ"
      },
      "source": [
        "import numpy as np\n",
        "import pandas as pd"
      ],
      "execution_count": null,
      "outputs": []
    },
    {
      "cell_type": "code",
      "source": [
        "from google.colab import drive\n",
        "drive.mount('/content/drive')\n"
      ],
      "metadata": {
        "colab": {
          "base_uri": "https://localhost:8080/"
        },
        "id": "YfL0fhyBaYUi",
        "outputId": "6968c586-9c39-48a3-8cb7-9dae2d91c5c9"
      },
      "execution_count": null,
      "outputs": [
        {
          "output_type": "stream",
          "name": "stdout",
          "text": [
            "Mounted at /content/drive\n"
          ]
        }
      ]
    },
    {
      "cell_type": "code",
      "source": [
        "!ls \"/content/drive/My Drive/Colab Notebooks/\""
      ],
      "metadata": {
        "colab": {
          "base_uri": "https://localhost:8080/"
        },
        "id": "OTjhf0hHabwh",
        "outputId": "058605b4-8f0a-4f9a-de9f-8c1468d5a446"
      },
      "execution_count": null,
      "outputs": [
        {
          "output_type": "stream",
          "name": "stdout",
          "text": [
            "'1000 of Text Summarization LSTM-DL NEWS.ipynb'       news_summary.csv\n",
            "'2 layers of Text Summarization LSTM-DL NEWS.ipynb'   news_summary.gsheet\n",
            " attention.py\t\t\t\t\t      news_summary_more.csv\n",
            "'Copy of Text Summarization LSTM-DL NEWS.ipynb'       news_summary_more.gsheet\n",
            "'DL PROJECT.ipynb'\t\t\t\t     'nlp lab 11.ipynb'\n",
            "'HMM .ipynb'\t\t\t\t\t      __pycache__\n",
            "'Image Captioning .ipynb'\t\t\t      Reviews.csv\n",
            " Lab3.ipynb\t\t\t\t\t     'Text Summarization LSTM-DL NEWS.ipynb'\n",
            "'lab 5.ipynb'\t\t\t\t\t      Untitled0.ipynb\n",
            "'llm-detect-ai-generated-text (1).ipynb'\t      Untitled1.ipynb\n",
            "'llm-detect-ai-generated-text (2).ipynb'\t      Untitled4.ipynb\n",
            " llm-detect-ai-generated-text.ipynb\n"
          ]
        }
      ]
    },
    {
      "cell_type": "code",
      "metadata": {
        "id": "8W-wlzB1q7tG",
        "outputId": "fbb32136-e817-4f6a-8041-9fc79fd3b385",
        "colab": {
          "base_uri": "https://localhost:8080/",
          "height": 380
        }
      },
      "source": [
        "summary = pd.read_csv(\"/content/drive/My Drive/Colab Notebooks/news_summary.csv\",encoding='iso-8859-1', nrows=1000)\n",
        "summary.head()"
      ],
      "execution_count": null,
      "outputs": [
        {
          "output_type": "execute_result",
          "data": {
            "text/plain": [
              "               author                  date  \\\n",
              "0        Chhavi Tyagi  03 Aug 2017,Thursday   \n",
              "1         Daisy Mowke  03 Aug 2017,Thursday   \n",
              "2      Arshiya Chopra  03 Aug 2017,Thursday   \n",
              "3       Sumedha Sehra  03 Aug 2017,Thursday   \n",
              "4  Aarushi Maheshwari  03 Aug 2017,Thursday   \n",
              "\n",
              "                                           headlines  \\\n",
              "0  Daman & Diu revokes mandatory Rakshabandhan in...   \n",
              "1  Malaika slams user who trolled her for 'divorc...   \n",
              "2  'Virgin' now corrected to 'Unmarried' in IGIMS...   \n",
              "3  Aaj aapne pakad liya: LeT man Dujana before be...   \n",
              "4  Hotel staff to get training to spot signs of s...   \n",
              "\n",
              "                                           read_more  \\\n",
              "0  http://www.hindustantimes.com/india-news/raksh...   \n",
              "1  http://www.hindustantimes.com/bollywood/malaik...   \n",
              "2  http://www.hindustantimes.com/patna/bihar-igim...   \n",
              "3  http://indiatoday.intoday.in/story/abu-dujana-...   \n",
              "4  http://indiatoday.intoday.in/story/sex-traffic...   \n",
              "\n",
              "                                                text  \\\n",
              "0  The Administration of Union Territory Daman an...   \n",
              "1  Malaika Arora slammed an Instagram user who tr...   \n",
              "2  The Indira Gandhi Institute of Medical Science...   \n",
              "3  Lashkar-e-Taiba's Kashmir commander Abu Dujana...   \n",
              "4  Hotels in Maharashtra will train their staff t...   \n",
              "\n",
              "                                               ctext  \n",
              "0  The Daman and Diu administration on Wednesday ...  \n",
              "1  From her special numbers to TV?appearances, Bo...  \n",
              "2  The Indira Gandhi Institute of Medical Science...  \n",
              "3  Lashkar-e-Taiba's Kashmir commander Abu Dujana...  \n",
              "4  Hotels in Mumbai and other Indian cities are t...  "
            ],
            "text/html": [
              "\n",
              "  <div id=\"df-70da8ad4-156d-472a-b486-aa604914934f\" class=\"colab-df-container\">\n",
              "    <div>\n",
              "<style scoped>\n",
              "    .dataframe tbody tr th:only-of-type {\n",
              "        vertical-align: middle;\n",
              "    }\n",
              "\n",
              "    .dataframe tbody tr th {\n",
              "        vertical-align: top;\n",
              "    }\n",
              "\n",
              "    .dataframe thead th {\n",
              "        text-align: right;\n",
              "    }\n",
              "</style>\n",
              "<table border=\"1\" class=\"dataframe\">\n",
              "  <thead>\n",
              "    <tr style=\"text-align: right;\">\n",
              "      <th></th>\n",
              "      <th>author</th>\n",
              "      <th>date</th>\n",
              "      <th>headlines</th>\n",
              "      <th>read_more</th>\n",
              "      <th>text</th>\n",
              "      <th>ctext</th>\n",
              "    </tr>\n",
              "  </thead>\n",
              "  <tbody>\n",
              "    <tr>\n",
              "      <th>0</th>\n",
              "      <td>Chhavi Tyagi</td>\n",
              "      <td>03 Aug 2017,Thursday</td>\n",
              "      <td>Daman &amp; Diu revokes mandatory Rakshabandhan in...</td>\n",
              "      <td>http://www.hindustantimes.com/india-news/raksh...</td>\n",
              "      <td>The Administration of Union Territory Daman an...</td>\n",
              "      <td>The Daman and Diu administration on Wednesday ...</td>\n",
              "    </tr>\n",
              "    <tr>\n",
              "      <th>1</th>\n",
              "      <td>Daisy Mowke</td>\n",
              "      <td>03 Aug 2017,Thursday</td>\n",
              "      <td>Malaika slams user who trolled her for 'divorc...</td>\n",
              "      <td>http://www.hindustantimes.com/bollywood/malaik...</td>\n",
              "      <td>Malaika Arora slammed an Instagram user who tr...</td>\n",
              "      <td>From her special numbers to TV?appearances, Bo...</td>\n",
              "    </tr>\n",
              "    <tr>\n",
              "      <th>2</th>\n",
              "      <td>Arshiya Chopra</td>\n",
              "      <td>03 Aug 2017,Thursday</td>\n",
              "      <td>'Virgin' now corrected to 'Unmarried' in IGIMS...</td>\n",
              "      <td>http://www.hindustantimes.com/patna/bihar-igim...</td>\n",
              "      <td>The Indira Gandhi Institute of Medical Science...</td>\n",
              "      <td>The Indira Gandhi Institute of Medical Science...</td>\n",
              "    </tr>\n",
              "    <tr>\n",
              "      <th>3</th>\n",
              "      <td>Sumedha Sehra</td>\n",
              "      <td>03 Aug 2017,Thursday</td>\n",
              "      <td>Aaj aapne pakad liya: LeT man Dujana before be...</td>\n",
              "      <td>http://indiatoday.intoday.in/story/abu-dujana-...</td>\n",
              "      <td>Lashkar-e-Taiba's Kashmir commander Abu Dujana...</td>\n",
              "      <td>Lashkar-e-Taiba's Kashmir commander Abu Dujana...</td>\n",
              "    </tr>\n",
              "    <tr>\n",
              "      <th>4</th>\n",
              "      <td>Aarushi Maheshwari</td>\n",
              "      <td>03 Aug 2017,Thursday</td>\n",
              "      <td>Hotel staff to get training to spot signs of s...</td>\n",
              "      <td>http://indiatoday.intoday.in/story/sex-traffic...</td>\n",
              "      <td>Hotels in Maharashtra will train their staff t...</td>\n",
              "      <td>Hotels in Mumbai and other Indian cities are t...</td>\n",
              "    </tr>\n",
              "  </tbody>\n",
              "</table>\n",
              "</div>\n",
              "    <div class=\"colab-df-buttons\">\n",
              "\n",
              "  <div class=\"colab-df-container\">\n",
              "    <button class=\"colab-df-convert\" onclick=\"convertToInteractive('df-70da8ad4-156d-472a-b486-aa604914934f')\"\n",
              "            title=\"Convert this dataframe to an interactive table.\"\n",
              "            style=\"display:none;\">\n",
              "\n",
              "  <svg xmlns=\"http://www.w3.org/2000/svg\" height=\"24px\" viewBox=\"0 -960 960 960\">\n",
              "    <path d=\"M120-120v-720h720v720H120Zm60-500h600v-160H180v160Zm220 220h160v-160H400v160Zm0 220h160v-160H400v160ZM180-400h160v-160H180v160Zm440 0h160v-160H620v160ZM180-180h160v-160H180v160Zm440 0h160v-160H620v160Z\"/>\n",
              "  </svg>\n",
              "    </button>\n",
              "\n",
              "  <style>\n",
              "    .colab-df-container {\n",
              "      display:flex;\n",
              "      gap: 12px;\n",
              "    }\n",
              "\n",
              "    .colab-df-convert {\n",
              "      background-color: #E8F0FE;\n",
              "      border: none;\n",
              "      border-radius: 50%;\n",
              "      cursor: pointer;\n",
              "      display: none;\n",
              "      fill: #1967D2;\n",
              "      height: 32px;\n",
              "      padding: 0 0 0 0;\n",
              "      width: 32px;\n",
              "    }\n",
              "\n",
              "    .colab-df-convert:hover {\n",
              "      background-color: #E2EBFA;\n",
              "      box-shadow: 0px 1px 2px rgba(60, 64, 67, 0.3), 0px 1px 3px 1px rgba(60, 64, 67, 0.15);\n",
              "      fill: #174EA6;\n",
              "    }\n",
              "\n",
              "    .colab-df-buttons div {\n",
              "      margin-bottom: 4px;\n",
              "    }\n",
              "\n",
              "    [theme=dark] .colab-df-convert {\n",
              "      background-color: #3B4455;\n",
              "      fill: #D2E3FC;\n",
              "    }\n",
              "\n",
              "    [theme=dark] .colab-df-convert:hover {\n",
              "      background-color: #434B5C;\n",
              "      box-shadow: 0px 1px 3px 1px rgba(0, 0, 0, 0.15);\n",
              "      filter: drop-shadow(0px 1px 2px rgba(0, 0, 0, 0.3));\n",
              "      fill: #FFFFFF;\n",
              "    }\n",
              "  </style>\n",
              "\n",
              "    <script>\n",
              "      const buttonEl =\n",
              "        document.querySelector('#df-70da8ad4-156d-472a-b486-aa604914934f button.colab-df-convert');\n",
              "      buttonEl.style.display =\n",
              "        google.colab.kernel.accessAllowed ? 'block' : 'none';\n",
              "\n",
              "      async function convertToInteractive(key) {\n",
              "        const element = document.querySelector('#df-70da8ad4-156d-472a-b486-aa604914934f');\n",
              "        const dataTable =\n",
              "          await google.colab.kernel.invokeFunction('convertToInteractive',\n",
              "                                                    [key], {});\n",
              "        if (!dataTable) return;\n",
              "\n",
              "        const docLinkHtml = 'Like what you see? Visit the ' +\n",
              "          '<a target=\"_blank\" href=https://colab.research.google.com/notebooks/data_table.ipynb>data table notebook</a>'\n",
              "          + ' to learn more about interactive tables.';\n",
              "        element.innerHTML = '';\n",
              "        dataTable['output_type'] = 'display_data';\n",
              "        await google.colab.output.renderOutput(dataTable, element);\n",
              "        const docLink = document.createElement('div');\n",
              "        docLink.innerHTML = docLinkHtml;\n",
              "        element.appendChild(docLink);\n",
              "      }\n",
              "    </script>\n",
              "  </div>\n",
              "\n",
              "\n",
              "<div id=\"df-686fcd8d-ec65-4418-a59a-693e1f3526ed\">\n",
              "  <button class=\"colab-df-quickchart\" onclick=\"quickchart('df-686fcd8d-ec65-4418-a59a-693e1f3526ed')\"\n",
              "            title=\"Suggest charts\"\n",
              "            style=\"display:none;\">\n",
              "\n",
              "<svg xmlns=\"http://www.w3.org/2000/svg\" height=\"24px\"viewBox=\"0 0 24 24\"\n",
              "     width=\"24px\">\n",
              "    <g>\n",
              "        <path d=\"M19 3H5c-1.1 0-2 .9-2 2v14c0 1.1.9 2 2 2h14c1.1 0 2-.9 2-2V5c0-1.1-.9-2-2-2zM9 17H7v-7h2v7zm4 0h-2V7h2v10zm4 0h-2v-4h2v4z\"/>\n",
              "    </g>\n",
              "</svg>\n",
              "  </button>\n",
              "\n",
              "<style>\n",
              "  .colab-df-quickchart {\n",
              "      --bg-color: #E8F0FE;\n",
              "      --fill-color: #1967D2;\n",
              "      --hover-bg-color: #E2EBFA;\n",
              "      --hover-fill-color: #174EA6;\n",
              "      --disabled-fill-color: #AAA;\n",
              "      --disabled-bg-color: #DDD;\n",
              "  }\n",
              "\n",
              "  [theme=dark] .colab-df-quickchart {\n",
              "      --bg-color: #3B4455;\n",
              "      --fill-color: #D2E3FC;\n",
              "      --hover-bg-color: #434B5C;\n",
              "      --hover-fill-color: #FFFFFF;\n",
              "      --disabled-bg-color: #3B4455;\n",
              "      --disabled-fill-color: #666;\n",
              "  }\n",
              "\n",
              "  .colab-df-quickchart {\n",
              "    background-color: var(--bg-color);\n",
              "    border: none;\n",
              "    border-radius: 50%;\n",
              "    cursor: pointer;\n",
              "    display: none;\n",
              "    fill: var(--fill-color);\n",
              "    height: 32px;\n",
              "    padding: 0;\n",
              "    width: 32px;\n",
              "  }\n",
              "\n",
              "  .colab-df-quickchart:hover {\n",
              "    background-color: var(--hover-bg-color);\n",
              "    box-shadow: 0 1px 2px rgba(60, 64, 67, 0.3), 0 1px 3px 1px rgba(60, 64, 67, 0.15);\n",
              "    fill: var(--button-hover-fill-color);\n",
              "  }\n",
              "\n",
              "  .colab-df-quickchart-complete:disabled,\n",
              "  .colab-df-quickchart-complete:disabled:hover {\n",
              "    background-color: var(--disabled-bg-color);\n",
              "    fill: var(--disabled-fill-color);\n",
              "    box-shadow: none;\n",
              "  }\n",
              "\n",
              "  .colab-df-spinner {\n",
              "    border: 2px solid var(--fill-color);\n",
              "    border-color: transparent;\n",
              "    border-bottom-color: var(--fill-color);\n",
              "    animation:\n",
              "      spin 1s steps(1) infinite;\n",
              "  }\n",
              "\n",
              "  @keyframes spin {\n",
              "    0% {\n",
              "      border-color: transparent;\n",
              "      border-bottom-color: var(--fill-color);\n",
              "      border-left-color: var(--fill-color);\n",
              "    }\n",
              "    20% {\n",
              "      border-color: transparent;\n",
              "      border-left-color: var(--fill-color);\n",
              "      border-top-color: var(--fill-color);\n",
              "    }\n",
              "    30% {\n",
              "      border-color: transparent;\n",
              "      border-left-color: var(--fill-color);\n",
              "      border-top-color: var(--fill-color);\n",
              "      border-right-color: var(--fill-color);\n",
              "    }\n",
              "    40% {\n",
              "      border-color: transparent;\n",
              "      border-right-color: var(--fill-color);\n",
              "      border-top-color: var(--fill-color);\n",
              "    }\n",
              "    60% {\n",
              "      border-color: transparent;\n",
              "      border-right-color: var(--fill-color);\n",
              "    }\n",
              "    80% {\n",
              "      border-color: transparent;\n",
              "      border-right-color: var(--fill-color);\n",
              "      border-bottom-color: var(--fill-color);\n",
              "    }\n",
              "    90% {\n",
              "      border-color: transparent;\n",
              "      border-bottom-color: var(--fill-color);\n",
              "    }\n",
              "  }\n",
              "</style>\n",
              "\n",
              "  <script>\n",
              "    async function quickchart(key) {\n",
              "      const quickchartButtonEl =\n",
              "        document.querySelector('#' + key + ' button');\n",
              "      quickchartButtonEl.disabled = true;  // To prevent multiple clicks.\n",
              "      quickchartButtonEl.classList.add('colab-df-spinner');\n",
              "      try {\n",
              "        const charts = await google.colab.kernel.invokeFunction(\n",
              "            'suggestCharts', [key], {});\n",
              "      } catch (error) {\n",
              "        console.error('Error during call to suggestCharts:', error);\n",
              "      }\n",
              "      quickchartButtonEl.classList.remove('colab-df-spinner');\n",
              "      quickchartButtonEl.classList.add('colab-df-quickchart-complete');\n",
              "    }\n",
              "    (() => {\n",
              "      let quickchartButtonEl =\n",
              "        document.querySelector('#df-686fcd8d-ec65-4418-a59a-693e1f3526ed button');\n",
              "      quickchartButtonEl.style.display =\n",
              "        google.colab.kernel.accessAllowed ? 'block' : 'none';\n",
              "    })();\n",
              "  </script>\n",
              "</div>\n",
              "\n",
              "    </div>\n",
              "  </div>\n"
            ],
            "application/vnd.google.colaboratory.intrinsic+json": {
              "type": "dataframe",
              "variable_name": "summary",
              "summary": "{\n  \"name\": \"summary\",\n  \"rows\": 1000,\n  \"fields\": [\n    {\n      \"column\": \"author\",\n      \"properties\": {\n        \"dtype\": \"category\",\n        \"num_unique_values\": 30,\n        \"samples\": [\n          \"Nihal Thondepu\",\n          \"Manaya Bagga\",\n          \"Mansha Mahajan\"\n        ],\n        \"semantic_type\": \"\",\n        \"description\": \"\"\n      }\n    },\n    {\n      \"column\": \"date\",\n      \"properties\": {\n        \"dtype\": \"object\",\n        \"num_unique_values\": 17,\n        \"samples\": [\n          \"03 Aug 2017,Thursday\",\n          \"02 Aug 2017,Wednesday\",\n          \"29 Jul 2017,Saturday\"\n        ],\n        \"semantic_type\": \"\",\n        \"description\": \"\"\n      }\n    },\n    {\n      \"column\": \"headlines\",\n      \"properties\": {\n        \"dtype\": \"string\",\n        \"num_unique_values\": 1000,\n        \"samples\": [\n          \"Sacked employees damage Vivo factory in Noida\",\n          \"Nolan slams Netflix for not releasing its content in cinemas\",\n          \"DDA to submit action plan for restoring Yamuna floodplains\"\n        ],\n        \"semantic_type\": \"\",\n        \"description\": \"\"\n      }\n    },\n    {\n      \"column\": \"read_more\",\n      \"properties\": {\n        \"dtype\": \"string\",\n        \"num_unique_values\": 985,\n        \"samples\": [\n          \"http://indiatoday.intoday.in/story/up-govt-launches-free-power-connection-scheme-for-bpl-families/1/1009025.html?utm_source=inshorts&utm_medium=referral&utm_campaign=fullarticle \",\n          \"http://www.hindustantimes.com/delhi-news/centre-allocates-rs-4-22-crore-for-revival-of-walled-city-museum-at-lahori-gate/story-sRJr83NcMdClbTtlomVdcI.html?utm_source=inshorts&utm_medium=referral&utm_campaign=fullarticle \",\n          \"http://www.hindustantimes.com/delhi-news/aap-s-deoli-mla-prakash-jarwal-booked-in-molestation-case-second-time-in-one-year/story-eGNPsyEbdw2hq4BCVhGatK.html?utm_source=inshorts&utm_medium=referral&utm_campaign=fullarticle \"\n        ],\n        \"semantic_type\": \"\",\n        \"description\": \"\"\n      }\n    },\n    {\n      \"column\": \"text\",\n      \"properties\": {\n        \"dtype\": \"string\",\n        \"num_unique_values\": 1000,\n        \"samples\": [\n          \"Workers of Vivo phone factory on Tuesday protested and damaged the company premises in Greater Noida, alleging that the Chinese firm had sacked over 60 employees without giving prior notice. They claimed that Vivo, the title sponsor of IPL T20, hired many workers during the IPL season but fired over 1,000 employees after the matches ended nearly two months ago.\",\n          \"Hollywood director Christopher Nolan has slammed video streaming service Netflix for not releasing its movies in cinemas. \\\"Netflix has a bizarre aversion to supporting theatrical films... [T]hey're not even getting in the game, and I think they're missing a huge opportunity,\\\" he added. Nolan further said Netflix is being used as a kind of way to shut down cinemas.\",\n          \"The National Green Tribunal (NGT) on Friday directed the Delhi Development Authority (DDA) to submit an action plan for the restoration of Yamuna floodplains. This comes after an expert committee appointed by the NGT claimed that the ecology of over 420 acres of floodplains was adversely affected by the World Culture Festival organised in 2016 by the Art of Living.\"\n        ],\n        \"semantic_type\": \"\",\n        \"description\": \"\"\n      }\n    },\n    {\n      \"column\": \"ctext\",\n      \"properties\": {\n        \"dtype\": \"string\",\n        \"num_unique_values\": 976,\n        \"samples\": [\n          \"Kamal Haasan and Bigg Boss Tamil have been plagued with problems from the start.Puthiya Tamizhagam, a Dalit party, has served a legal notice to a private TV channel and film actor Kamal Haasan for allegedly hurting the sentiments of those living in slums and huts due to comments made by an actor on the reality show Bigg Boss.In the notice served through the lawyers, the party has sought Rs 100 crore as damages if the actor and TV channel failed to tender an unconditional apology within seven days of receipt of the notice, Puthiya Tamizhagam founder-president Dr K Krishnasamy told reporters.Krishnasamy said he had already demanded that Haasan and the channel (Star Vijay TV) tender the apology a fortnight ago for the remarks made by Gayatri Raghuram, while referring to another actor that her?s was ?cheri? (a reference to those living in slums and huts) behaviour and notice was issued for their failure do so.?I have already appealed to actor Gayathri Raguram, a Bigg Boss Tamil participant, to apologise for abusing another participant by saying that she was behaving like ?slum people?. The term, which has hurt members of a particular community, should have been edited out by the channel,? Krishnasamy told media persons at Kuniyamuthur here on Sunday. ?Though two weeks have passed, neither Gayathri Raguram nor show-host Kamal Haasan nor the TV channel have as yet apologised for using the term,? he was quoted in the New Indian Express as saying.The remarks by Gayatri had hurt the sentiments of those living in slums and huts as it showed them in poor light, he said. If they failed to apologise within seven days of the receipt of the notice, he would approach high court seeking Rs 100 crore as damages, Krishnsasmy said.Besides Haasan, notices were issued to Gayatri Raghuram, Deepk Dhar, CEO and managing director, Endemol Shine India, Mumbai, and Ajay Vidya Sagar, general manager, Star Vijay TV, Chennai, he said. \",\n          \"A German man fed up with the stress of commuting on busy city roads now swims two km to work along the Isar river in Munich, Germany, the media reported.Benjamin David packs his laptop, suit and shoes into a waterproof bag, straps it to his back and swims, reports the BBC.Depending on the season, he wears swimming trunks or a long wetsuit as well as rubber sandals to protect his feet from glass or the occasional bicycle laying in the river.His commute sometimes invites laughs from bystanders on the bridges above, but he says it is faster and more relaxing than sitting in traffic.\",\n          \"Charges and counter charges flew in the Lok Sabha on Monday over the issue of lynchings, with the Opposition parties targeting the Modi government and the ruling side asserting that it was the responsibility of the state governments to deal with such crimes.During the discussion, Congress MP Mallikarjun Kharge criticised the Prime Minister for not talking about the issue enough and listed the various incidents of lynchings across the country.  BJP?s Hukmdev Narayan Yadav defended the government?s response and, referring to political killings  in Kerala, questioned why only certain incidents were considered lynchings.In the Rajya Sabha, after initial uproar  over the alleged kidnapping of MLAs by police in Gujarat, the house adjourned briefly before resuming Question Hour.Congress? Madhusudhan Mistry alleged that his party MLAs were being ?kidnapped? and offered ?Rs 10-15 crore? with a view to influence their vote in the August 8 elections to send three members from the state to the Rajya Sabha.Here are the highlights: 6:30 pm: Lok Sabha adjourned for the day.6:29 pm:?The more you are raising the issue, the veil of the opposition is getting unveiled. The more you try to defame us, the more the Opposition gets defames: Kiren Rijiju6:23 pm: Mother Teresa was not allowed to enter Arunachal Pradesh during Congress rule. If there has been one instance of persecution of Christians in Arunachal Pradesh after our rule, I?ll resign: Kiren Rijiju6:13 pm: Mob lynching is the worst form of crime, it should be condemned universally. Why do you raise selective issue. Previously it was intolerance, then award-wapsi, freedom of expression: Rijiju. 6:08 pm: Do you want the PM should break the federal structure and take over state machinery: Rijiju during lynching debate.6:04 pm: There is a trend in the country, the highest number of atrocities in India have taken place against scheduled castes: Rijiju.5:55 pm: Uproar in Lok Sabha during Kiren Rijiju?s statement.5:50 pm: Kiren Rijiju says issued advisory to every state that strong action should be taken against incident of mob lynching.5:45 pm: Asaduddin Owaisi says the instances of mob lynching will continue as this government promotes religion as an ideology.Is cow protection an essential part of Hinduism? asks Owaisi. Stop the shadow army. Our battle is against Hindutva and not Hinduism: Owaisi5:32 pm: When we should be discussion about digital India, it is sad irony that we are discussing about mob lynching:?Indian Union Muslim League  MP PK KunhalikuttyWe are discussing a fundamental principle of secularism that we should uphold, it is sad, says Kunhalikutty.5:20 pm: There seems to be a different between the words and action of Prime Minister: Mohammad Asrarul HaqueModi govt doesn?t only seem listen but also helpless. People who have skull cap and beard, women in burkha are today scared to step outside in public, he says.  5:18 pm: RJD MP?Jay Prakash Narayan Yadav say, ?The person who doesn?t differentiate between human and animal, there is a devil inside him.?5:08 pm: BJP?MP Prahlad Joshi talks about attack on BJP?MPs in West Bengal. Evokes sharp reaction from opposition members for not mentioning death of other people.4:39 pm: Maharashtra MP Supriya Sule says we should send a message as a uniform Parliament that we condemn lynching.?Yoga Day message should be about ahimsa and not just about surya namaskar,? she says.?The person who killed Junaid is out on bail. We should make regulation that someone who has killed someone shouldn?t be out on bail,? says the NCP?lawmaker. 4:29 pm: Mohammad Salim of CPI-M says the gathering of mob has a historical, political, psychological  aspect. There is a long history and it is not a spur of the moment occurrence. 4:17 pm: TDP?MP?from Guntur, Jayadev Galla, says mob violence, ?shows of strength in numbers, majority rule mentality and doesn?t have place in a peaceful society.? He says cow violence has reached an alarming proportion.... And it can?t be isolated into BJP or non-BJP?states.4:12 pm: Arvind Ganpat Sawant, MP?from Mumbai-South speaks on lynching. ?If there is hate, some say they are going perpetrate double the amount of hate,? he says.3: 55 pm: Samajwadi Party leader Mulayam Singh Yadav says, ?Exploitation of and atrocities against women is high. It should end in the family first. Then it will stop in your locality, village and cities.? 3:45 pm: BJP?MP Hukumdev Narayan Yadav claims majority of Muslims in India are descendants of Hindus, PTI?reports.3:35 pm: BJD?s Tathagata Satpathy says, ?The gau rakshaks don?t know that more than half the cows in India are Jersey cows. Not their mother. They should recognise their mother.It?s sad if we can?t recognise our own mother.?Satpathy wonders why nobody is bothered about indigenous breeds of cows. 3:18 pm: AIADMK?s Dr K Gopal calls the situation of rising violence against minorities is worrisome. He names lynching incidents and says that the issue of beef is polarising.3:15pm: Kharge responds to Paswan?s comments there was no ?josh? in his speech. ?If you had an operation, you wouldn?t even be able to get up,? Kharge says.3:10 pm: Paswan targets CPI and asks why the killing of 6 people during its rule was not called ?a ?riot?.Paswan says the House needs to pass a resolution to condemn incidents of lynchings. ?Whenever something like this takes place, all chief ministers must ensure perpetrator is arrested and investigation begins within 24 hours.?3:05 pm: ?PM Modi has never mentioned Babri Masjid or Ayodhya or Article 370. He only speaks of development,? says Paswan.3:00 pm: Union Minister Ram Vilas Paswan says, ?The Prime Minister has condemned these incidents twice. Do you want him to send in the army when such incidents happen??2:55 pm:  Quiet resumes as Roy speaks again. He says he has a few suggestions. ?In the IPC and the CrPC, lynching not defined. We need a new and exclusive law on protecting against lynching,? Roy says.2:54 pm: Uproar as MPs yell at each other across the aisle. 2:53 pm: BJP?s SS Ahluwalia lashes out, ?Strike this from the record. This is unfair. He must also bring the source of his information here and validate. Only then should he be allowed to talk further.?2:50 pm:  Roy compares the killing of Muslims to the targeted killing of African-Americans by Ku Klux Klan in the US. ?In 23 attacks, the attackers were from Bajrang Dal and Hindu groups,? he says.Roy says, ?Yeh sab bandar hai! (These groups are the BJP?s monkeys.)? Uproar as MPs call the comment ?unparliamentary?.2:45 pm: Kiren Rijiju interrupts Roy, asking him on what basis he was making these claims.2:37 pm: TMC?s Saugata Roy speaks and clarifies he does not want to talk about general mob violence but bovine-related mob violence. Between 2010 anmd 2017, 63 people were killed in cow-related incidents of mob violence, Roy says.?I don?t want to bring Hindu-Muslim into this but 97% of these killings took place after Narendra Modi came to power. 86% were Muslims. I want to ask members of the ruling party, you say you want Congress-mukt Bharat. Do you want Muslim-mukt Bharat??Roy says 52% of the killings took place in BJP ruled states.2:30 pm: Yadav cites Ram Mohair Lohaia?s example, saying he was a socialist who didn?t believe in Gods but knew prevalence of Hindu culture and traditions, and respected it.2:26 pm:  Yadav says, ?The ancestors of the Muslims were Hindus. Therefore the gods, the culture and traditions are also their?s. They must think about this.?2:20 pm: Debate resumes in Lok?Sabha. Yadav continues his speech. 2:15pm: Social Justice and Empowerment Minister Thawarchand Gehlot begins the debate. Congress? BK Hariprasad says Opposition is not happy with the way government pushes Bills in the Parliament.2:00 pm: Rajya Sabha takes up Constitution (123rd) Amendment Bill, 2017 and National Commission for Backward Classes (Repeal) Bill, 2017.1:15 pm: Lok Sabha adjourned till 2:15 pm for lunch. Yadav to speak for five more minutes after that.1:14 pm: Yadav says, ?Muslims must learn to live with Hindus respecting their culture and traditions.?1:12 pm: ?Why is it wrong to say Vande Mataram these days? Is this not mob lynching?? Yadav asks.1:10 pm: In the Lok Sabha, Yadav attacks the Congress saying,?You have done dharmik atyachar, samajik atyachar, mansik atyachar, arthik atyachar and ruined the country.?1:05 pm: In Rajya Sabha, Question Hour concludes. House adjourned till 2 pm for lunch.1:03 pm: Yadav says, ?The Junaid incident was a fight over a train seat. Why are you linking it with religion? What about the killings in Kerala? Are we not human? Are they not lynchings because they are not Muslims??1:00 pm: Yadav asks,??Is the mob lynching of DSP Ayub Pandith in J&K not an incident worth mentioning??12:57 pm: Yadav says, ?The PM himself has condemned the mob incidents repeatedly. It?s upto states to follow law. Centre can?t send paramilitary forces there on its own.?12:55 pm: BJP?s Hukmdev Narayan Yadav says government has been addressing the issue and taking action. He asks why the Opposition is questioning the government?s intention.12:50 pm: Kharge concludes with,?Duniya mein sab ka yahi hai kehna, Shanti aur chain se zinda rehna...Let us be Hindustan and not Lynchistan.?Two hours were alloted for the discussion. Kharge spoke for over 35 minutes.12:47 pm:  ?This government is imposing itself on what a person can eat and who one can love,? says Kharge.12: 45 pm:  Parliamentary Affairs Minister Ananth Kumar interrupts Kharge for mentioning a former President?s name citing rule 352.Kumar says, ?Kharge must validate all the documents he is reading from. Every state government has taken action against each of these incidents. He is misleading the House.?12: 36 pm: BJP benches raise a ruckus. Speaker warns Kharge about duration of his speech.12:34 pm: Kharge quotes a BJP leader as saying that there was ?no regret over the death of Pehlu Khan because he was a cow smuggler.?12:32 pm: BJP members protests reported facts being read out by Kharge. 12:30 pm: In the Lok Sabha discussion, Kharge says, ?The Prime Minister has not spoken about the killings on his Mann Ki Baat programme.?12:28 pm: Meanwhile, first two questions in the Rajya Sabha are about MNREGA.12:26 pm: Kharge mentions incidents in Jharkhand, Madhya Pradesh, Rajasthan and Uttar Pradesh. He says he is only listing them.12:24 pm: Nishikant Dubey of BJP says, ?The cases of violence Mr.Kharge is mentioning are already in the courts, so why is he saying all this? He cannot speak about these cases.?12:22 pm:  The Lok Sabha has begun a short-duration discussion on lynchings and mob violence. Mallikarjun Kharge of Congress says, ?There?s a feeling of threat in many states, especially because of fringe groups. Incidents of lynching and mob violence are not under control. Taking matters into one?s hands and exercising violence or killing another is unacceptable.??The government is indirectly encouraging groups like the Vishwa Hindu Parishad, Bajrang Dal and gau bhakts,? Kharge says.12:12 pm: Lok Sabha postpones Zero Hour to end of the day.12:07 pm: Question hour ends in Lok Sabha. Speaker dismisses all adjournment notices. Arun Jaitley introduced all the Bills listed today.12:02 pm: Chair praises MPs for not exceeding time alloted to them and allowing him to wrap up all notices to end Zero Hour on time.12:00 pm: Issues raised in the Upper House include changes in NET, impact of demonetisation, transaction on BHIM app and privatisation of Railways. 11:45 pm: Rajya Sabha returns from adjournment. Zero Hours resumes. 11:30 pm: MPs protest in the well in Rajya Sabha. Congress creates ruckus over alleged kidnapping of MLAs by police in Gujarat. House adjourned for 10 minutes.11:20 am: Zero Hour in Rajya Sabha. Congress? Madhusudan Mistry raises issue of Gujarat MLAs resignations.11:05 am: Question hour in Lok Sabha.10:40 am:Bills to be introduced in Lok Sabha todayThe Central Goods and Services Tax (Extension to Jammu and Kashmir) Bill, 2017The Integrated Goods and Services Tax (Extension to Jammu and Kashmir) Bill, 2017The Public Premises (Eviction of Unauthorised Occupants) Amendment Bill 2017 Bills for consideration and passing today:The National Bank for Agriculture and Rural Development (Amendment) Bill, 2017The Banking Reguation (Amendment) Bill, 2017The Indian Institute of Petroleum and Energy Bill, 2017Bills for consideration and passing in Rajya Sabha todayThe Constitution (123rd Amendment) Bill, 2017The National Commission for Backward Classes (Repeal) Bill, 2017The Right of Children to Free and Compulsory Education (Amendment) Bill,2017\"\n        ],\n        \"semantic_type\": \"\",\n        \"description\": \"\"\n      }\n    }\n  ]\n}"
            }
          },
          "metadata": {},
          "execution_count": 6
        }
      ]
    },
    {
      "cell_type": "code",
      "metadata": {
        "id": "tRxKkSukq9QW",
        "outputId": "a1cc617e-4a8e-4c84-a07a-9f3c0b92ab55",
        "colab": {
          "base_uri": "https://localhost:8080/",
          "height": 206
        }
      },
      "source": [
        "raw = pd.read_csv('/content/drive/My Drive/Colab Notebooks/news_summary_more.csv', encoding='iso-8859-1', nrows=1500)\n",
        "raw.head()"
      ],
      "execution_count": null,
      "outputs": [
        {
          "output_type": "execute_result",
          "data": {
            "text/plain": [
              "                                           headlines  \\\n",
              "0  upGrad learner switches to career in ML & Al w...   \n",
              "1  Delhi techie wins free food from Swiggy for on...   \n",
              "2  New Zealand end Rohit Sharma-led India's 12-ma...   \n",
              "3  Aegon life iTerm insurance plan helps customer...   \n",
              "4  Have known Hirani for yrs, what if MeToo claim...   \n",
              "\n",
              "                                                text  \n",
              "0  Saurav Kant, an alumnus of upGrad and IIIT-B's...  \n",
              "1  Kunal Shah's credit card bill payment platform...  \n",
              "2  New Zealand defeated India by 8 wickets in the...  \n",
              "3  With Aegon Life iTerm Insurance plan, customer...  \n",
              "4  Speaking about the sexual harassment allegatio...  "
            ],
            "text/html": [
              "\n",
              "  <div id=\"df-3913a10b-3509-41b6-83f2-8abcf710e27b\" class=\"colab-df-container\">\n",
              "    <div>\n",
              "<style scoped>\n",
              "    .dataframe tbody tr th:only-of-type {\n",
              "        vertical-align: middle;\n",
              "    }\n",
              "\n",
              "    .dataframe tbody tr th {\n",
              "        vertical-align: top;\n",
              "    }\n",
              "\n",
              "    .dataframe thead th {\n",
              "        text-align: right;\n",
              "    }\n",
              "</style>\n",
              "<table border=\"1\" class=\"dataframe\">\n",
              "  <thead>\n",
              "    <tr style=\"text-align: right;\">\n",
              "      <th></th>\n",
              "      <th>headlines</th>\n",
              "      <th>text</th>\n",
              "    </tr>\n",
              "  </thead>\n",
              "  <tbody>\n",
              "    <tr>\n",
              "      <th>0</th>\n",
              "      <td>upGrad learner switches to career in ML &amp; Al w...</td>\n",
              "      <td>Saurav Kant, an alumnus of upGrad and IIIT-B's...</td>\n",
              "    </tr>\n",
              "    <tr>\n",
              "      <th>1</th>\n",
              "      <td>Delhi techie wins free food from Swiggy for on...</td>\n",
              "      <td>Kunal Shah's credit card bill payment platform...</td>\n",
              "    </tr>\n",
              "    <tr>\n",
              "      <th>2</th>\n",
              "      <td>New Zealand end Rohit Sharma-led India's 12-ma...</td>\n",
              "      <td>New Zealand defeated India by 8 wickets in the...</td>\n",
              "    </tr>\n",
              "    <tr>\n",
              "      <th>3</th>\n",
              "      <td>Aegon life iTerm insurance plan helps customer...</td>\n",
              "      <td>With Aegon Life iTerm Insurance plan, customer...</td>\n",
              "    </tr>\n",
              "    <tr>\n",
              "      <th>4</th>\n",
              "      <td>Have known Hirani for yrs, what if MeToo claim...</td>\n",
              "      <td>Speaking about the sexual harassment allegatio...</td>\n",
              "    </tr>\n",
              "  </tbody>\n",
              "</table>\n",
              "</div>\n",
              "    <div class=\"colab-df-buttons\">\n",
              "\n",
              "  <div class=\"colab-df-container\">\n",
              "    <button class=\"colab-df-convert\" onclick=\"convertToInteractive('df-3913a10b-3509-41b6-83f2-8abcf710e27b')\"\n",
              "            title=\"Convert this dataframe to an interactive table.\"\n",
              "            style=\"display:none;\">\n",
              "\n",
              "  <svg xmlns=\"http://www.w3.org/2000/svg\" height=\"24px\" viewBox=\"0 -960 960 960\">\n",
              "    <path d=\"M120-120v-720h720v720H120Zm60-500h600v-160H180v160Zm220 220h160v-160H400v160Zm0 220h160v-160H400v160ZM180-400h160v-160H180v160Zm440 0h160v-160H620v160ZM180-180h160v-160H180v160Zm440 0h160v-160H620v160Z\"/>\n",
              "  </svg>\n",
              "    </button>\n",
              "\n",
              "  <style>\n",
              "    .colab-df-container {\n",
              "      display:flex;\n",
              "      gap: 12px;\n",
              "    }\n",
              "\n",
              "    .colab-df-convert {\n",
              "      background-color: #E8F0FE;\n",
              "      border: none;\n",
              "      border-radius: 50%;\n",
              "      cursor: pointer;\n",
              "      display: none;\n",
              "      fill: #1967D2;\n",
              "      height: 32px;\n",
              "      padding: 0 0 0 0;\n",
              "      width: 32px;\n",
              "    }\n",
              "\n",
              "    .colab-df-convert:hover {\n",
              "      background-color: #E2EBFA;\n",
              "      box-shadow: 0px 1px 2px rgba(60, 64, 67, 0.3), 0px 1px 3px 1px rgba(60, 64, 67, 0.15);\n",
              "      fill: #174EA6;\n",
              "    }\n",
              "\n",
              "    .colab-df-buttons div {\n",
              "      margin-bottom: 4px;\n",
              "    }\n",
              "\n",
              "    [theme=dark] .colab-df-convert {\n",
              "      background-color: #3B4455;\n",
              "      fill: #D2E3FC;\n",
              "    }\n",
              "\n",
              "    [theme=dark] .colab-df-convert:hover {\n",
              "      background-color: #434B5C;\n",
              "      box-shadow: 0px 1px 3px 1px rgba(0, 0, 0, 0.15);\n",
              "      filter: drop-shadow(0px 1px 2px rgba(0, 0, 0, 0.3));\n",
              "      fill: #FFFFFF;\n",
              "    }\n",
              "  </style>\n",
              "\n",
              "    <script>\n",
              "      const buttonEl =\n",
              "        document.querySelector('#df-3913a10b-3509-41b6-83f2-8abcf710e27b button.colab-df-convert');\n",
              "      buttonEl.style.display =\n",
              "        google.colab.kernel.accessAllowed ? 'block' : 'none';\n",
              "\n",
              "      async function convertToInteractive(key) {\n",
              "        const element = document.querySelector('#df-3913a10b-3509-41b6-83f2-8abcf710e27b');\n",
              "        const dataTable =\n",
              "          await google.colab.kernel.invokeFunction('convertToInteractive',\n",
              "                                                    [key], {});\n",
              "        if (!dataTable) return;\n",
              "\n",
              "        const docLinkHtml = 'Like what you see? Visit the ' +\n",
              "          '<a target=\"_blank\" href=https://colab.research.google.com/notebooks/data_table.ipynb>data table notebook</a>'\n",
              "          + ' to learn more about interactive tables.';\n",
              "        element.innerHTML = '';\n",
              "        dataTable['output_type'] = 'display_data';\n",
              "        await google.colab.output.renderOutput(dataTable, element);\n",
              "        const docLink = document.createElement('div');\n",
              "        docLink.innerHTML = docLinkHtml;\n",
              "        element.appendChild(docLink);\n",
              "      }\n",
              "    </script>\n",
              "  </div>\n",
              "\n",
              "\n",
              "<div id=\"df-37789077-cb6c-477d-82aa-0885263bee4d\">\n",
              "  <button class=\"colab-df-quickchart\" onclick=\"quickchart('df-37789077-cb6c-477d-82aa-0885263bee4d')\"\n",
              "            title=\"Suggest charts\"\n",
              "            style=\"display:none;\">\n",
              "\n",
              "<svg xmlns=\"http://www.w3.org/2000/svg\" height=\"24px\"viewBox=\"0 0 24 24\"\n",
              "     width=\"24px\">\n",
              "    <g>\n",
              "        <path d=\"M19 3H5c-1.1 0-2 .9-2 2v14c0 1.1.9 2 2 2h14c1.1 0 2-.9 2-2V5c0-1.1-.9-2-2-2zM9 17H7v-7h2v7zm4 0h-2V7h2v10zm4 0h-2v-4h2v4z\"/>\n",
              "    </g>\n",
              "</svg>\n",
              "  </button>\n",
              "\n",
              "<style>\n",
              "  .colab-df-quickchart {\n",
              "      --bg-color: #E8F0FE;\n",
              "      --fill-color: #1967D2;\n",
              "      --hover-bg-color: #E2EBFA;\n",
              "      --hover-fill-color: #174EA6;\n",
              "      --disabled-fill-color: #AAA;\n",
              "      --disabled-bg-color: #DDD;\n",
              "  }\n",
              "\n",
              "  [theme=dark] .colab-df-quickchart {\n",
              "      --bg-color: #3B4455;\n",
              "      --fill-color: #D2E3FC;\n",
              "      --hover-bg-color: #434B5C;\n",
              "      --hover-fill-color: #FFFFFF;\n",
              "      --disabled-bg-color: #3B4455;\n",
              "      --disabled-fill-color: #666;\n",
              "  }\n",
              "\n",
              "  .colab-df-quickchart {\n",
              "    background-color: var(--bg-color);\n",
              "    border: none;\n",
              "    border-radius: 50%;\n",
              "    cursor: pointer;\n",
              "    display: none;\n",
              "    fill: var(--fill-color);\n",
              "    height: 32px;\n",
              "    padding: 0;\n",
              "    width: 32px;\n",
              "  }\n",
              "\n",
              "  .colab-df-quickchart:hover {\n",
              "    background-color: var(--hover-bg-color);\n",
              "    box-shadow: 0 1px 2px rgba(60, 64, 67, 0.3), 0 1px 3px 1px rgba(60, 64, 67, 0.15);\n",
              "    fill: var(--button-hover-fill-color);\n",
              "  }\n",
              "\n",
              "  .colab-df-quickchart-complete:disabled,\n",
              "  .colab-df-quickchart-complete:disabled:hover {\n",
              "    background-color: var(--disabled-bg-color);\n",
              "    fill: var(--disabled-fill-color);\n",
              "    box-shadow: none;\n",
              "  }\n",
              "\n",
              "  .colab-df-spinner {\n",
              "    border: 2px solid var(--fill-color);\n",
              "    border-color: transparent;\n",
              "    border-bottom-color: var(--fill-color);\n",
              "    animation:\n",
              "      spin 1s steps(1) infinite;\n",
              "  }\n",
              "\n",
              "  @keyframes spin {\n",
              "    0% {\n",
              "      border-color: transparent;\n",
              "      border-bottom-color: var(--fill-color);\n",
              "      border-left-color: var(--fill-color);\n",
              "    }\n",
              "    20% {\n",
              "      border-color: transparent;\n",
              "      border-left-color: var(--fill-color);\n",
              "      border-top-color: var(--fill-color);\n",
              "    }\n",
              "    30% {\n",
              "      border-color: transparent;\n",
              "      border-left-color: var(--fill-color);\n",
              "      border-top-color: var(--fill-color);\n",
              "      border-right-color: var(--fill-color);\n",
              "    }\n",
              "    40% {\n",
              "      border-color: transparent;\n",
              "      border-right-color: var(--fill-color);\n",
              "      border-top-color: var(--fill-color);\n",
              "    }\n",
              "    60% {\n",
              "      border-color: transparent;\n",
              "      border-right-color: var(--fill-color);\n",
              "    }\n",
              "    80% {\n",
              "      border-color: transparent;\n",
              "      border-right-color: var(--fill-color);\n",
              "      border-bottom-color: var(--fill-color);\n",
              "    }\n",
              "    90% {\n",
              "      border-color: transparent;\n",
              "      border-bottom-color: var(--fill-color);\n",
              "    }\n",
              "  }\n",
              "</style>\n",
              "\n",
              "  <script>\n",
              "    async function quickchart(key) {\n",
              "      const quickchartButtonEl =\n",
              "        document.querySelector('#' + key + ' button');\n",
              "      quickchartButtonEl.disabled = true;  // To prevent multiple clicks.\n",
              "      quickchartButtonEl.classList.add('colab-df-spinner');\n",
              "      try {\n",
              "        const charts = await google.colab.kernel.invokeFunction(\n",
              "            'suggestCharts', [key], {});\n",
              "      } catch (error) {\n",
              "        console.error('Error during call to suggestCharts:', error);\n",
              "      }\n",
              "      quickchartButtonEl.classList.remove('colab-df-spinner');\n",
              "      quickchartButtonEl.classList.add('colab-df-quickchart-complete');\n",
              "    }\n",
              "    (() => {\n",
              "      let quickchartButtonEl =\n",
              "        document.querySelector('#df-37789077-cb6c-477d-82aa-0885263bee4d button');\n",
              "      quickchartButtonEl.style.display =\n",
              "        google.colab.kernel.accessAllowed ? 'block' : 'none';\n",
              "    })();\n",
              "  </script>\n",
              "</div>\n",
              "\n",
              "    </div>\n",
              "  </div>\n"
            ],
            "application/vnd.google.colaboratory.intrinsic+json": {
              "type": "dataframe",
              "variable_name": "raw",
              "summary": "{\n  \"name\": \"raw\",\n  \"rows\": 1500,\n  \"fields\": [\n    {\n      \"column\": \"headlines\",\n      \"properties\": {\n        \"dtype\": \"string\",\n        \"num_unique_values\": 1500,\n        \"samples\": [\n          \"Titan considering internal, external candidates to replace MD\",\n          \"10 injured in clash over playing loud music in Muzaffarnagar\",\n          \"2 students critical, 15 injured as bus overturns in Andhra\"\n        ],\n        \"semantic_type\": \"\",\n        \"description\": \"\"\n      }\n    },\n    {\n      \"column\": \"text\",\n      \"properties\": {\n        \"dtype\": \"string\",\n        \"num_unique_values\": 1500,\n        \"samples\": [\n          \"Tata Group's Titan is considering external and internal candidates in a formal search to find a successor to long-time Managing Director (MD) Bhaskar Bhat. The external candidates could include those from other Tata Group companies, Bhat said. Bhat, who has helmed the jewellery and watch retailer for over 16 years, is set to retire by the end of 2019. \",\n          \"Around 10 people sustained injuries on Saturday when a clash broke out between two groups over allegedly playing loud music in Uttar Pradesh's Muzaffarnagar, police said. The injured were admitted to the community health centre and four persons, who were reportedly critical, were referred to a medical college in Meerut. Police said the groups also fired bullets in the air. \",\n          \"At least 17 students were injured, two of them critically, after a private bus overturned in Guntur district of Andhra Pradesh on Monday. The bus was reportedly carrying over 50 students to school and overturned after hitting a culvert. The driver of the school bus is being questioned by the police.\"\n        ],\n        \"semantic_type\": \"\",\n        \"description\": \"\"\n      }\n    }\n  ]\n}"
            }
          },
          "metadata": {},
          "execution_count": 7
        }
      ]
    },
    {
      "cell_type": "code",
      "metadata": {
        "id": "qzBQitmrsOgd"
      },
      "source": [
        "pre1 =  raw.iloc[:,0:2].copy()\n",
        "pre1['head + text'] = pre1['headlines'].str.cat(pre1['text'], sep =\" \")"
      ],
      "execution_count": null,
      "outputs": []
    },
    {
      "cell_type": "code",
      "metadata": {
        "id": "1S6absimsbUh",
        "outputId": "cedccb17-76e8-475c-aba2-28ca24cf898e",
        "colab": {
          "base_uri": "https://localhost:8080/",
          "height": 206
        }
      },
      "source": [
        "pre1.head()"
      ],
      "execution_count": null,
      "outputs": [
        {
          "output_type": "execute_result",
          "data": {
            "text/plain": [
              "                                           headlines  \\\n",
              "0  upGrad learner switches to career in ML & Al w...   \n",
              "1  Delhi techie wins free food from Swiggy for on...   \n",
              "2  New Zealand end Rohit Sharma-led India's 12-ma...   \n",
              "3  Aegon life iTerm insurance plan helps customer...   \n",
              "4  Have known Hirani for yrs, what if MeToo claim...   \n",
              "\n",
              "                                                text  \\\n",
              "0  Saurav Kant, an alumnus of upGrad and IIIT-B's...   \n",
              "1  Kunal Shah's credit card bill payment platform...   \n",
              "2  New Zealand defeated India by 8 wickets in the...   \n",
              "3  With Aegon Life iTerm Insurance plan, customer...   \n",
              "4  Speaking about the sexual harassment allegatio...   \n",
              "\n",
              "                                         head + text  \n",
              "0  upGrad learner switches to career in ML & Al w...  \n",
              "1  Delhi techie wins free food from Swiggy for on...  \n",
              "2  New Zealand end Rohit Sharma-led India's 12-ma...  \n",
              "3  Aegon life iTerm insurance plan helps customer...  \n",
              "4  Have known Hirani for yrs, what if MeToo claim...  "
            ],
            "text/html": [
              "\n",
              "  <div id=\"df-d349ff3b-eea8-42a1-86aa-9d67732685c1\" class=\"colab-df-container\">\n",
              "    <div>\n",
              "<style scoped>\n",
              "    .dataframe tbody tr th:only-of-type {\n",
              "        vertical-align: middle;\n",
              "    }\n",
              "\n",
              "    .dataframe tbody tr th {\n",
              "        vertical-align: top;\n",
              "    }\n",
              "\n",
              "    .dataframe thead th {\n",
              "        text-align: right;\n",
              "    }\n",
              "</style>\n",
              "<table border=\"1\" class=\"dataframe\">\n",
              "  <thead>\n",
              "    <tr style=\"text-align: right;\">\n",
              "      <th></th>\n",
              "      <th>headlines</th>\n",
              "      <th>text</th>\n",
              "      <th>head + text</th>\n",
              "    </tr>\n",
              "  </thead>\n",
              "  <tbody>\n",
              "    <tr>\n",
              "      <th>0</th>\n",
              "      <td>upGrad learner switches to career in ML &amp; Al w...</td>\n",
              "      <td>Saurav Kant, an alumnus of upGrad and IIIT-B's...</td>\n",
              "      <td>upGrad learner switches to career in ML &amp; Al w...</td>\n",
              "    </tr>\n",
              "    <tr>\n",
              "      <th>1</th>\n",
              "      <td>Delhi techie wins free food from Swiggy for on...</td>\n",
              "      <td>Kunal Shah's credit card bill payment platform...</td>\n",
              "      <td>Delhi techie wins free food from Swiggy for on...</td>\n",
              "    </tr>\n",
              "    <tr>\n",
              "      <th>2</th>\n",
              "      <td>New Zealand end Rohit Sharma-led India's 12-ma...</td>\n",
              "      <td>New Zealand defeated India by 8 wickets in the...</td>\n",
              "      <td>New Zealand end Rohit Sharma-led India's 12-ma...</td>\n",
              "    </tr>\n",
              "    <tr>\n",
              "      <th>3</th>\n",
              "      <td>Aegon life iTerm insurance plan helps customer...</td>\n",
              "      <td>With Aegon Life iTerm Insurance plan, customer...</td>\n",
              "      <td>Aegon life iTerm insurance plan helps customer...</td>\n",
              "    </tr>\n",
              "    <tr>\n",
              "      <th>4</th>\n",
              "      <td>Have known Hirani for yrs, what if MeToo claim...</td>\n",
              "      <td>Speaking about the sexual harassment allegatio...</td>\n",
              "      <td>Have known Hirani for yrs, what if MeToo claim...</td>\n",
              "    </tr>\n",
              "  </tbody>\n",
              "</table>\n",
              "</div>\n",
              "    <div class=\"colab-df-buttons\">\n",
              "\n",
              "  <div class=\"colab-df-container\">\n",
              "    <button class=\"colab-df-convert\" onclick=\"convertToInteractive('df-d349ff3b-eea8-42a1-86aa-9d67732685c1')\"\n",
              "            title=\"Convert this dataframe to an interactive table.\"\n",
              "            style=\"display:none;\">\n",
              "\n",
              "  <svg xmlns=\"http://www.w3.org/2000/svg\" height=\"24px\" viewBox=\"0 -960 960 960\">\n",
              "    <path d=\"M120-120v-720h720v720H120Zm60-500h600v-160H180v160Zm220 220h160v-160H400v160Zm0 220h160v-160H400v160ZM180-400h160v-160H180v160Zm440 0h160v-160H620v160ZM180-180h160v-160H180v160Zm440 0h160v-160H620v160Z\"/>\n",
              "  </svg>\n",
              "    </button>\n",
              "\n",
              "  <style>\n",
              "    .colab-df-container {\n",
              "      display:flex;\n",
              "      gap: 12px;\n",
              "    }\n",
              "\n",
              "    .colab-df-convert {\n",
              "      background-color: #E8F0FE;\n",
              "      border: none;\n",
              "      border-radius: 50%;\n",
              "      cursor: pointer;\n",
              "      display: none;\n",
              "      fill: #1967D2;\n",
              "      height: 32px;\n",
              "      padding: 0 0 0 0;\n",
              "      width: 32px;\n",
              "    }\n",
              "\n",
              "    .colab-df-convert:hover {\n",
              "      background-color: #E2EBFA;\n",
              "      box-shadow: 0px 1px 2px rgba(60, 64, 67, 0.3), 0px 1px 3px 1px rgba(60, 64, 67, 0.15);\n",
              "      fill: #174EA6;\n",
              "    }\n",
              "\n",
              "    .colab-df-buttons div {\n",
              "      margin-bottom: 4px;\n",
              "    }\n",
              "\n",
              "    [theme=dark] .colab-df-convert {\n",
              "      background-color: #3B4455;\n",
              "      fill: #D2E3FC;\n",
              "    }\n",
              "\n",
              "    [theme=dark] .colab-df-convert:hover {\n",
              "      background-color: #434B5C;\n",
              "      box-shadow: 0px 1px 3px 1px rgba(0, 0, 0, 0.15);\n",
              "      filter: drop-shadow(0px 1px 2px rgba(0, 0, 0, 0.3));\n",
              "      fill: #FFFFFF;\n",
              "    }\n",
              "  </style>\n",
              "\n",
              "    <script>\n",
              "      const buttonEl =\n",
              "        document.querySelector('#df-d349ff3b-eea8-42a1-86aa-9d67732685c1 button.colab-df-convert');\n",
              "      buttonEl.style.display =\n",
              "        google.colab.kernel.accessAllowed ? 'block' : 'none';\n",
              "\n",
              "      async function convertToInteractive(key) {\n",
              "        const element = document.querySelector('#df-d349ff3b-eea8-42a1-86aa-9d67732685c1');\n",
              "        const dataTable =\n",
              "          await google.colab.kernel.invokeFunction('convertToInteractive',\n",
              "                                                    [key], {});\n",
              "        if (!dataTable) return;\n",
              "\n",
              "        const docLinkHtml = 'Like what you see? Visit the ' +\n",
              "          '<a target=\"_blank\" href=https://colab.research.google.com/notebooks/data_table.ipynb>data table notebook</a>'\n",
              "          + ' to learn more about interactive tables.';\n",
              "        element.innerHTML = '';\n",
              "        dataTable['output_type'] = 'display_data';\n",
              "        await google.colab.output.renderOutput(dataTable, element);\n",
              "        const docLink = document.createElement('div');\n",
              "        docLink.innerHTML = docLinkHtml;\n",
              "        element.appendChild(docLink);\n",
              "      }\n",
              "    </script>\n",
              "  </div>\n",
              "\n",
              "\n",
              "<div id=\"df-dc34fe56-d28f-4a73-894d-0658c968f244\">\n",
              "  <button class=\"colab-df-quickchart\" onclick=\"quickchart('df-dc34fe56-d28f-4a73-894d-0658c968f244')\"\n",
              "            title=\"Suggest charts\"\n",
              "            style=\"display:none;\">\n",
              "\n",
              "<svg xmlns=\"http://www.w3.org/2000/svg\" height=\"24px\"viewBox=\"0 0 24 24\"\n",
              "     width=\"24px\">\n",
              "    <g>\n",
              "        <path d=\"M19 3H5c-1.1 0-2 .9-2 2v14c0 1.1.9 2 2 2h14c1.1 0 2-.9 2-2V5c0-1.1-.9-2-2-2zM9 17H7v-7h2v7zm4 0h-2V7h2v10zm4 0h-2v-4h2v4z\"/>\n",
              "    </g>\n",
              "</svg>\n",
              "  </button>\n",
              "\n",
              "<style>\n",
              "  .colab-df-quickchart {\n",
              "      --bg-color: #E8F0FE;\n",
              "      --fill-color: #1967D2;\n",
              "      --hover-bg-color: #E2EBFA;\n",
              "      --hover-fill-color: #174EA6;\n",
              "      --disabled-fill-color: #AAA;\n",
              "      --disabled-bg-color: #DDD;\n",
              "  }\n",
              "\n",
              "  [theme=dark] .colab-df-quickchart {\n",
              "      --bg-color: #3B4455;\n",
              "      --fill-color: #D2E3FC;\n",
              "      --hover-bg-color: #434B5C;\n",
              "      --hover-fill-color: #FFFFFF;\n",
              "      --disabled-bg-color: #3B4455;\n",
              "      --disabled-fill-color: #666;\n",
              "  }\n",
              "\n",
              "  .colab-df-quickchart {\n",
              "    background-color: var(--bg-color);\n",
              "    border: none;\n",
              "    border-radius: 50%;\n",
              "    cursor: pointer;\n",
              "    display: none;\n",
              "    fill: var(--fill-color);\n",
              "    height: 32px;\n",
              "    padding: 0;\n",
              "    width: 32px;\n",
              "  }\n",
              "\n",
              "  .colab-df-quickchart:hover {\n",
              "    background-color: var(--hover-bg-color);\n",
              "    box-shadow: 0 1px 2px rgba(60, 64, 67, 0.3), 0 1px 3px 1px rgba(60, 64, 67, 0.15);\n",
              "    fill: var(--button-hover-fill-color);\n",
              "  }\n",
              "\n",
              "  .colab-df-quickchart-complete:disabled,\n",
              "  .colab-df-quickchart-complete:disabled:hover {\n",
              "    background-color: var(--disabled-bg-color);\n",
              "    fill: var(--disabled-fill-color);\n",
              "    box-shadow: none;\n",
              "  }\n",
              "\n",
              "  .colab-df-spinner {\n",
              "    border: 2px solid var(--fill-color);\n",
              "    border-color: transparent;\n",
              "    border-bottom-color: var(--fill-color);\n",
              "    animation:\n",
              "      spin 1s steps(1) infinite;\n",
              "  }\n",
              "\n",
              "  @keyframes spin {\n",
              "    0% {\n",
              "      border-color: transparent;\n",
              "      border-bottom-color: var(--fill-color);\n",
              "      border-left-color: var(--fill-color);\n",
              "    }\n",
              "    20% {\n",
              "      border-color: transparent;\n",
              "      border-left-color: var(--fill-color);\n",
              "      border-top-color: var(--fill-color);\n",
              "    }\n",
              "    30% {\n",
              "      border-color: transparent;\n",
              "      border-left-color: var(--fill-color);\n",
              "      border-top-color: var(--fill-color);\n",
              "      border-right-color: var(--fill-color);\n",
              "    }\n",
              "    40% {\n",
              "      border-color: transparent;\n",
              "      border-right-color: var(--fill-color);\n",
              "      border-top-color: var(--fill-color);\n",
              "    }\n",
              "    60% {\n",
              "      border-color: transparent;\n",
              "      border-right-color: var(--fill-color);\n",
              "    }\n",
              "    80% {\n",
              "      border-color: transparent;\n",
              "      border-right-color: var(--fill-color);\n",
              "      border-bottom-color: var(--fill-color);\n",
              "    }\n",
              "    90% {\n",
              "      border-color: transparent;\n",
              "      border-bottom-color: var(--fill-color);\n",
              "    }\n",
              "  }\n",
              "</style>\n",
              "\n",
              "  <script>\n",
              "    async function quickchart(key) {\n",
              "      const quickchartButtonEl =\n",
              "        document.querySelector('#' + key + ' button');\n",
              "      quickchartButtonEl.disabled = true;  // To prevent multiple clicks.\n",
              "      quickchartButtonEl.classList.add('colab-df-spinner');\n",
              "      try {\n",
              "        const charts = await google.colab.kernel.invokeFunction(\n",
              "            'suggestCharts', [key], {});\n",
              "      } catch (error) {\n",
              "        console.error('Error during call to suggestCharts:', error);\n",
              "      }\n",
              "      quickchartButtonEl.classList.remove('colab-df-spinner');\n",
              "      quickchartButtonEl.classList.add('colab-df-quickchart-complete');\n",
              "    }\n",
              "    (() => {\n",
              "      let quickchartButtonEl =\n",
              "        document.querySelector('#df-dc34fe56-d28f-4a73-894d-0658c968f244 button');\n",
              "      quickchartButtonEl.style.display =\n",
              "        google.colab.kernel.accessAllowed ? 'block' : 'none';\n",
              "    })();\n",
              "  </script>\n",
              "</div>\n",
              "\n",
              "    </div>\n",
              "  </div>\n"
            ],
            "application/vnd.google.colaboratory.intrinsic+json": {
              "type": "dataframe",
              "variable_name": "pre1",
              "summary": "{\n  \"name\": \"pre1\",\n  \"rows\": 1500,\n  \"fields\": [\n    {\n      \"column\": \"headlines\",\n      \"properties\": {\n        \"dtype\": \"string\",\n        \"num_unique_values\": 1500,\n        \"samples\": [\n          \"Titan considering internal, external candidates to replace MD\",\n          \"10 injured in clash over playing loud music in Muzaffarnagar\",\n          \"2 students critical, 15 injured as bus overturns in Andhra\"\n        ],\n        \"semantic_type\": \"\",\n        \"description\": \"\"\n      }\n    },\n    {\n      \"column\": \"text\",\n      \"properties\": {\n        \"dtype\": \"string\",\n        \"num_unique_values\": 1500,\n        \"samples\": [\n          \"Tata Group's Titan is considering external and internal candidates in a formal search to find a successor to long-time Managing Director (MD) Bhaskar Bhat. The external candidates could include those from other Tata Group companies, Bhat said. Bhat, who has helmed the jewellery and watch retailer for over 16 years, is set to retire by the end of 2019. \",\n          \"Around 10 people sustained injuries on Saturday when a clash broke out between two groups over allegedly playing loud music in Uttar Pradesh's Muzaffarnagar, police said. The injured were admitted to the community health centre and four persons, who were reportedly critical, were referred to a medical college in Meerut. Police said the groups also fired bullets in the air. \",\n          \"At least 17 students were injured, two of them critically, after a private bus overturned in Guntur district of Andhra Pradesh on Monday. The bus was reportedly carrying over 50 students to school and overturned after hitting a culvert. The driver of the school bus is being questioned by the police.\"\n        ],\n        \"semantic_type\": \"\",\n        \"description\": \"\"\n      }\n    },\n    {\n      \"column\": \"head + text\",\n      \"properties\": {\n        \"dtype\": \"string\",\n        \"num_unique_values\": 1500,\n        \"samples\": [\n          \"Titan considering internal, external candidates to replace MD Tata Group's Titan is considering external and internal candidates in a formal search to find a successor to long-time Managing Director (MD) Bhaskar Bhat. The external candidates could include those from other Tata Group companies, Bhat said. Bhat, who has helmed the jewellery and watch retailer for over 16 years, is set to retire by the end of 2019. \",\n          \"10 injured in clash over playing loud music in Muzaffarnagar Around 10 people sustained injuries on Saturday when a clash broke out between two groups over allegedly playing loud music in Uttar Pradesh's Muzaffarnagar, police said. The injured were admitted to the community health centre and four persons, who were reportedly critical, were referred to a medical college in Meerut. Police said the groups also fired bullets in the air. \",\n          \"2 students critical, 15 injured as bus overturns in Andhra At least 17 students were injured, two of them critically, after a private bus overturned in Guntur district of Andhra Pradesh on Monday. The bus was reportedly carrying over 50 students to school and overturned after hitting a culvert. The driver of the school bus is being questioned by the police.\"\n        ],\n        \"semantic_type\": \"\",\n        \"description\": \"\"\n      }\n    }\n  ]\n}"
            }
          },
          "metadata": {},
          "execution_count": 9
        }
      ]
    },
    {
      "cell_type": "code",
      "metadata": {
        "id": "glkp_VsEsdX5"
      },
      "source": [
        "pre2 = summary.iloc[:,0:6].copy()\n",
        "pre2['head + text'] = pre2['author'].str.cat(pre2['date'].str.cat(pre2['headlines'].str.cat(pre2['read_more'].str.cat(pre2['text'].str.cat(pre2['ctext'], sep = \" \"), sep =\" \"),sep= \" \"), sep = \" \"),sep= \" \")"
      ],
      "execution_count": null,
      "outputs": []
    },
    {
      "cell_type": "code",
      "metadata": {
        "id": "v0J9fQlwskuX",
        "outputId": "26104a62-ddb5-4e75-8caf-8f4fe087beaa",
        "colab": {
          "base_uri": "https://localhost:8080/",
          "height": 501
        }
      },
      "source": [
        "pre2.head()"
      ],
      "execution_count": null,
      "outputs": [
        {
          "output_type": "execute_result",
          "data": {
            "text/plain": [
              "               author                  date  \\\n",
              "0        Chhavi Tyagi  03 Aug 2017,Thursday   \n",
              "1         Daisy Mowke  03 Aug 2017,Thursday   \n",
              "2      Arshiya Chopra  03 Aug 2017,Thursday   \n",
              "3       Sumedha Sehra  03 Aug 2017,Thursday   \n",
              "4  Aarushi Maheshwari  03 Aug 2017,Thursday   \n",
              "\n",
              "                                           headlines  \\\n",
              "0  Daman & Diu revokes mandatory Rakshabandhan in...   \n",
              "1  Malaika slams user who trolled her for 'divorc...   \n",
              "2  'Virgin' now corrected to 'Unmarried' in IGIMS...   \n",
              "3  Aaj aapne pakad liya: LeT man Dujana before be...   \n",
              "4  Hotel staff to get training to spot signs of s...   \n",
              "\n",
              "                                           read_more  \\\n",
              "0  http://www.hindustantimes.com/india-news/raksh...   \n",
              "1  http://www.hindustantimes.com/bollywood/malaik...   \n",
              "2  http://www.hindustantimes.com/patna/bihar-igim...   \n",
              "3  http://indiatoday.intoday.in/story/abu-dujana-...   \n",
              "4  http://indiatoday.intoday.in/story/sex-traffic...   \n",
              "\n",
              "                                                text  \\\n",
              "0  The Administration of Union Territory Daman an...   \n",
              "1  Malaika Arora slammed an Instagram user who tr...   \n",
              "2  The Indira Gandhi Institute of Medical Science...   \n",
              "3  Lashkar-e-Taiba's Kashmir commander Abu Dujana...   \n",
              "4  Hotels in Maharashtra will train their staff t...   \n",
              "\n",
              "                                               ctext  \\\n",
              "0  The Daman and Diu administration on Wednesday ...   \n",
              "1  From her special numbers to TV?appearances, Bo...   \n",
              "2  The Indira Gandhi Institute of Medical Science...   \n",
              "3  Lashkar-e-Taiba's Kashmir commander Abu Dujana...   \n",
              "4  Hotels in Mumbai and other Indian cities are t...   \n",
              "\n",
              "                                         head + text  \n",
              "0  Chhavi Tyagi 03 Aug 2017,Thursday Daman & Diu ...  \n",
              "1  Daisy Mowke 03 Aug 2017,Thursday Malaika slams...  \n",
              "2  Arshiya Chopra 03 Aug 2017,Thursday 'Virgin' n...  \n",
              "3  Sumedha Sehra 03 Aug 2017,Thursday Aaj aapne p...  \n",
              "4  Aarushi Maheshwari 03 Aug 2017,Thursday Hotel ...  "
            ],
            "text/html": [
              "\n",
              "  <div id=\"df-9e0d5501-eee8-43ca-8af3-2b57d803b397\" class=\"colab-df-container\">\n",
              "    <div>\n",
              "<style scoped>\n",
              "    .dataframe tbody tr th:only-of-type {\n",
              "        vertical-align: middle;\n",
              "    }\n",
              "\n",
              "    .dataframe tbody tr th {\n",
              "        vertical-align: top;\n",
              "    }\n",
              "\n",
              "    .dataframe thead th {\n",
              "        text-align: right;\n",
              "    }\n",
              "</style>\n",
              "<table border=\"1\" class=\"dataframe\">\n",
              "  <thead>\n",
              "    <tr style=\"text-align: right;\">\n",
              "      <th></th>\n",
              "      <th>author</th>\n",
              "      <th>date</th>\n",
              "      <th>headlines</th>\n",
              "      <th>read_more</th>\n",
              "      <th>text</th>\n",
              "      <th>ctext</th>\n",
              "      <th>head + text</th>\n",
              "    </tr>\n",
              "  </thead>\n",
              "  <tbody>\n",
              "    <tr>\n",
              "      <th>0</th>\n",
              "      <td>Chhavi Tyagi</td>\n",
              "      <td>03 Aug 2017,Thursday</td>\n",
              "      <td>Daman &amp; Diu revokes mandatory Rakshabandhan in...</td>\n",
              "      <td>http://www.hindustantimes.com/india-news/raksh...</td>\n",
              "      <td>The Administration of Union Territory Daman an...</td>\n",
              "      <td>The Daman and Diu administration on Wednesday ...</td>\n",
              "      <td>Chhavi Tyagi 03 Aug 2017,Thursday Daman &amp; Diu ...</td>\n",
              "    </tr>\n",
              "    <tr>\n",
              "      <th>1</th>\n",
              "      <td>Daisy Mowke</td>\n",
              "      <td>03 Aug 2017,Thursday</td>\n",
              "      <td>Malaika slams user who trolled her for 'divorc...</td>\n",
              "      <td>http://www.hindustantimes.com/bollywood/malaik...</td>\n",
              "      <td>Malaika Arora slammed an Instagram user who tr...</td>\n",
              "      <td>From her special numbers to TV?appearances, Bo...</td>\n",
              "      <td>Daisy Mowke 03 Aug 2017,Thursday Malaika slams...</td>\n",
              "    </tr>\n",
              "    <tr>\n",
              "      <th>2</th>\n",
              "      <td>Arshiya Chopra</td>\n",
              "      <td>03 Aug 2017,Thursday</td>\n",
              "      <td>'Virgin' now corrected to 'Unmarried' in IGIMS...</td>\n",
              "      <td>http://www.hindustantimes.com/patna/bihar-igim...</td>\n",
              "      <td>The Indira Gandhi Institute of Medical Science...</td>\n",
              "      <td>The Indira Gandhi Institute of Medical Science...</td>\n",
              "      <td>Arshiya Chopra 03 Aug 2017,Thursday 'Virgin' n...</td>\n",
              "    </tr>\n",
              "    <tr>\n",
              "      <th>3</th>\n",
              "      <td>Sumedha Sehra</td>\n",
              "      <td>03 Aug 2017,Thursday</td>\n",
              "      <td>Aaj aapne pakad liya: LeT man Dujana before be...</td>\n",
              "      <td>http://indiatoday.intoday.in/story/abu-dujana-...</td>\n",
              "      <td>Lashkar-e-Taiba's Kashmir commander Abu Dujana...</td>\n",
              "      <td>Lashkar-e-Taiba's Kashmir commander Abu Dujana...</td>\n",
              "      <td>Sumedha Sehra 03 Aug 2017,Thursday Aaj aapne p...</td>\n",
              "    </tr>\n",
              "    <tr>\n",
              "      <th>4</th>\n",
              "      <td>Aarushi Maheshwari</td>\n",
              "      <td>03 Aug 2017,Thursday</td>\n",
              "      <td>Hotel staff to get training to spot signs of s...</td>\n",
              "      <td>http://indiatoday.intoday.in/story/sex-traffic...</td>\n",
              "      <td>Hotels in Maharashtra will train their staff t...</td>\n",
              "      <td>Hotels in Mumbai and other Indian cities are t...</td>\n",
              "      <td>Aarushi Maheshwari 03 Aug 2017,Thursday Hotel ...</td>\n",
              "    </tr>\n",
              "  </tbody>\n",
              "</table>\n",
              "</div>\n",
              "    <div class=\"colab-df-buttons\">\n",
              "\n",
              "  <div class=\"colab-df-container\">\n",
              "    <button class=\"colab-df-convert\" onclick=\"convertToInteractive('df-9e0d5501-eee8-43ca-8af3-2b57d803b397')\"\n",
              "            title=\"Convert this dataframe to an interactive table.\"\n",
              "            style=\"display:none;\">\n",
              "\n",
              "  <svg xmlns=\"http://www.w3.org/2000/svg\" height=\"24px\" viewBox=\"0 -960 960 960\">\n",
              "    <path d=\"M120-120v-720h720v720H120Zm60-500h600v-160H180v160Zm220 220h160v-160H400v160Zm0 220h160v-160H400v160ZM180-400h160v-160H180v160Zm440 0h160v-160H620v160ZM180-180h160v-160H180v160Zm440 0h160v-160H620v160Z\"/>\n",
              "  </svg>\n",
              "    </button>\n",
              "\n",
              "  <style>\n",
              "    .colab-df-container {\n",
              "      display:flex;\n",
              "      gap: 12px;\n",
              "    }\n",
              "\n",
              "    .colab-df-convert {\n",
              "      background-color: #E8F0FE;\n",
              "      border: none;\n",
              "      border-radius: 50%;\n",
              "      cursor: pointer;\n",
              "      display: none;\n",
              "      fill: #1967D2;\n",
              "      height: 32px;\n",
              "      padding: 0 0 0 0;\n",
              "      width: 32px;\n",
              "    }\n",
              "\n",
              "    .colab-df-convert:hover {\n",
              "      background-color: #E2EBFA;\n",
              "      box-shadow: 0px 1px 2px rgba(60, 64, 67, 0.3), 0px 1px 3px 1px rgba(60, 64, 67, 0.15);\n",
              "      fill: #174EA6;\n",
              "    }\n",
              "\n",
              "    .colab-df-buttons div {\n",
              "      margin-bottom: 4px;\n",
              "    }\n",
              "\n",
              "    [theme=dark] .colab-df-convert {\n",
              "      background-color: #3B4455;\n",
              "      fill: #D2E3FC;\n",
              "    }\n",
              "\n",
              "    [theme=dark] .colab-df-convert:hover {\n",
              "      background-color: #434B5C;\n",
              "      box-shadow: 0px 1px 3px 1px rgba(0, 0, 0, 0.15);\n",
              "      filter: drop-shadow(0px 1px 2px rgba(0, 0, 0, 0.3));\n",
              "      fill: #FFFFFF;\n",
              "    }\n",
              "  </style>\n",
              "\n",
              "    <script>\n",
              "      const buttonEl =\n",
              "        document.querySelector('#df-9e0d5501-eee8-43ca-8af3-2b57d803b397 button.colab-df-convert');\n",
              "      buttonEl.style.display =\n",
              "        google.colab.kernel.accessAllowed ? 'block' : 'none';\n",
              "\n",
              "      async function convertToInteractive(key) {\n",
              "        const element = document.querySelector('#df-9e0d5501-eee8-43ca-8af3-2b57d803b397');\n",
              "        const dataTable =\n",
              "          await google.colab.kernel.invokeFunction('convertToInteractive',\n",
              "                                                    [key], {});\n",
              "        if (!dataTable) return;\n",
              "\n",
              "        const docLinkHtml = 'Like what you see? Visit the ' +\n",
              "          '<a target=\"_blank\" href=https://colab.research.google.com/notebooks/data_table.ipynb>data table notebook</a>'\n",
              "          + ' to learn more about interactive tables.';\n",
              "        element.innerHTML = '';\n",
              "        dataTable['output_type'] = 'display_data';\n",
              "        await google.colab.output.renderOutput(dataTable, element);\n",
              "        const docLink = document.createElement('div');\n",
              "        docLink.innerHTML = docLinkHtml;\n",
              "        element.appendChild(docLink);\n",
              "      }\n",
              "    </script>\n",
              "  </div>\n",
              "\n",
              "\n",
              "<div id=\"df-aac31897-9779-44b9-b6ca-d2c0784c0482\">\n",
              "  <button class=\"colab-df-quickchart\" onclick=\"quickchart('df-aac31897-9779-44b9-b6ca-d2c0784c0482')\"\n",
              "            title=\"Suggest charts\"\n",
              "            style=\"display:none;\">\n",
              "\n",
              "<svg xmlns=\"http://www.w3.org/2000/svg\" height=\"24px\"viewBox=\"0 0 24 24\"\n",
              "     width=\"24px\">\n",
              "    <g>\n",
              "        <path d=\"M19 3H5c-1.1 0-2 .9-2 2v14c0 1.1.9 2 2 2h14c1.1 0 2-.9 2-2V5c0-1.1-.9-2-2-2zM9 17H7v-7h2v7zm4 0h-2V7h2v10zm4 0h-2v-4h2v4z\"/>\n",
              "    </g>\n",
              "</svg>\n",
              "  </button>\n",
              "\n",
              "<style>\n",
              "  .colab-df-quickchart {\n",
              "      --bg-color: #E8F0FE;\n",
              "      --fill-color: #1967D2;\n",
              "      --hover-bg-color: #E2EBFA;\n",
              "      --hover-fill-color: #174EA6;\n",
              "      --disabled-fill-color: #AAA;\n",
              "      --disabled-bg-color: #DDD;\n",
              "  }\n",
              "\n",
              "  [theme=dark] .colab-df-quickchart {\n",
              "      --bg-color: #3B4455;\n",
              "      --fill-color: #D2E3FC;\n",
              "      --hover-bg-color: #434B5C;\n",
              "      --hover-fill-color: #FFFFFF;\n",
              "      --disabled-bg-color: #3B4455;\n",
              "      --disabled-fill-color: #666;\n",
              "  }\n",
              "\n",
              "  .colab-df-quickchart {\n",
              "    background-color: var(--bg-color);\n",
              "    border: none;\n",
              "    border-radius: 50%;\n",
              "    cursor: pointer;\n",
              "    display: none;\n",
              "    fill: var(--fill-color);\n",
              "    height: 32px;\n",
              "    padding: 0;\n",
              "    width: 32px;\n",
              "  }\n",
              "\n",
              "  .colab-df-quickchart:hover {\n",
              "    background-color: var(--hover-bg-color);\n",
              "    box-shadow: 0 1px 2px rgba(60, 64, 67, 0.3), 0 1px 3px 1px rgba(60, 64, 67, 0.15);\n",
              "    fill: var(--button-hover-fill-color);\n",
              "  }\n",
              "\n",
              "  .colab-df-quickchart-complete:disabled,\n",
              "  .colab-df-quickchart-complete:disabled:hover {\n",
              "    background-color: var(--disabled-bg-color);\n",
              "    fill: var(--disabled-fill-color);\n",
              "    box-shadow: none;\n",
              "  }\n",
              "\n",
              "  .colab-df-spinner {\n",
              "    border: 2px solid var(--fill-color);\n",
              "    border-color: transparent;\n",
              "    border-bottom-color: var(--fill-color);\n",
              "    animation:\n",
              "      spin 1s steps(1) infinite;\n",
              "  }\n",
              "\n",
              "  @keyframes spin {\n",
              "    0% {\n",
              "      border-color: transparent;\n",
              "      border-bottom-color: var(--fill-color);\n",
              "      border-left-color: var(--fill-color);\n",
              "    }\n",
              "    20% {\n",
              "      border-color: transparent;\n",
              "      border-left-color: var(--fill-color);\n",
              "      border-top-color: var(--fill-color);\n",
              "    }\n",
              "    30% {\n",
              "      border-color: transparent;\n",
              "      border-left-color: var(--fill-color);\n",
              "      border-top-color: var(--fill-color);\n",
              "      border-right-color: var(--fill-color);\n",
              "    }\n",
              "    40% {\n",
              "      border-color: transparent;\n",
              "      border-right-color: var(--fill-color);\n",
              "      border-top-color: var(--fill-color);\n",
              "    }\n",
              "    60% {\n",
              "      border-color: transparent;\n",
              "      border-right-color: var(--fill-color);\n",
              "    }\n",
              "    80% {\n",
              "      border-color: transparent;\n",
              "      border-right-color: var(--fill-color);\n",
              "      border-bottom-color: var(--fill-color);\n",
              "    }\n",
              "    90% {\n",
              "      border-color: transparent;\n",
              "      border-bottom-color: var(--fill-color);\n",
              "    }\n",
              "  }\n",
              "</style>\n",
              "\n",
              "  <script>\n",
              "    async function quickchart(key) {\n",
              "      const quickchartButtonEl =\n",
              "        document.querySelector('#' + key + ' button');\n",
              "      quickchartButtonEl.disabled = true;  // To prevent multiple clicks.\n",
              "      quickchartButtonEl.classList.add('colab-df-spinner');\n",
              "      try {\n",
              "        const charts = await google.colab.kernel.invokeFunction(\n",
              "            'suggestCharts', [key], {});\n",
              "      } catch (error) {\n",
              "        console.error('Error during call to suggestCharts:', error);\n",
              "      }\n",
              "      quickchartButtonEl.classList.remove('colab-df-spinner');\n",
              "      quickchartButtonEl.classList.add('colab-df-quickchart-complete');\n",
              "    }\n",
              "    (() => {\n",
              "      let quickchartButtonEl =\n",
              "        document.querySelector('#df-aac31897-9779-44b9-b6ca-d2c0784c0482 button');\n",
              "      quickchartButtonEl.style.display =\n",
              "        google.colab.kernel.accessAllowed ? 'block' : 'none';\n",
              "    })();\n",
              "  </script>\n",
              "</div>\n",
              "\n",
              "    </div>\n",
              "  </div>\n"
            ],
            "application/vnd.google.colaboratory.intrinsic+json": {
              "type": "dataframe",
              "variable_name": "pre2",
              "summary": "{\n  \"name\": \"pre2\",\n  \"rows\": 1000,\n  \"fields\": [\n    {\n      \"column\": \"author\",\n      \"properties\": {\n        \"dtype\": \"category\",\n        \"num_unique_values\": 30,\n        \"samples\": [\n          \"Nihal Thondepu\",\n          \"Manaya Bagga\",\n          \"Mansha Mahajan\"\n        ],\n        \"semantic_type\": \"\",\n        \"description\": \"\"\n      }\n    },\n    {\n      \"column\": \"date\",\n      \"properties\": {\n        \"dtype\": \"object\",\n        \"num_unique_values\": 17,\n        \"samples\": [\n          \"03 Aug 2017,Thursday\",\n          \"02 Aug 2017,Wednesday\",\n          \"29 Jul 2017,Saturday\"\n        ],\n        \"semantic_type\": \"\",\n        \"description\": \"\"\n      }\n    },\n    {\n      \"column\": \"headlines\",\n      \"properties\": {\n        \"dtype\": \"string\",\n        \"num_unique_values\": 1000,\n        \"samples\": [\n          \"Sacked employees damage Vivo factory in Noida\",\n          \"Nolan slams Netflix for not releasing its content in cinemas\",\n          \"DDA to submit action plan for restoring Yamuna floodplains\"\n        ],\n        \"semantic_type\": \"\",\n        \"description\": \"\"\n      }\n    },\n    {\n      \"column\": \"read_more\",\n      \"properties\": {\n        \"dtype\": \"string\",\n        \"num_unique_values\": 985,\n        \"samples\": [\n          \"http://indiatoday.intoday.in/story/up-govt-launches-free-power-connection-scheme-for-bpl-families/1/1009025.html?utm_source=inshorts&utm_medium=referral&utm_campaign=fullarticle \",\n          \"http://www.hindustantimes.com/delhi-news/centre-allocates-rs-4-22-crore-for-revival-of-walled-city-museum-at-lahori-gate/story-sRJr83NcMdClbTtlomVdcI.html?utm_source=inshorts&utm_medium=referral&utm_campaign=fullarticle \",\n          \"http://www.hindustantimes.com/delhi-news/aap-s-deoli-mla-prakash-jarwal-booked-in-molestation-case-second-time-in-one-year/story-eGNPsyEbdw2hq4BCVhGatK.html?utm_source=inshorts&utm_medium=referral&utm_campaign=fullarticle \"\n        ],\n        \"semantic_type\": \"\",\n        \"description\": \"\"\n      }\n    },\n    {\n      \"column\": \"text\",\n      \"properties\": {\n        \"dtype\": \"string\",\n        \"num_unique_values\": 1000,\n        \"samples\": [\n          \"Workers of Vivo phone factory on Tuesday protested and damaged the company premises in Greater Noida, alleging that the Chinese firm had sacked over 60 employees without giving prior notice. They claimed that Vivo, the title sponsor of IPL T20, hired many workers during the IPL season but fired over 1,000 employees after the matches ended nearly two months ago.\",\n          \"Hollywood director Christopher Nolan has slammed video streaming service Netflix for not releasing its movies in cinemas. \\\"Netflix has a bizarre aversion to supporting theatrical films... [T]hey're not even getting in the game, and I think they're missing a huge opportunity,\\\" he added. Nolan further said Netflix is being used as a kind of way to shut down cinemas.\",\n          \"The National Green Tribunal (NGT) on Friday directed the Delhi Development Authority (DDA) to submit an action plan for the restoration of Yamuna floodplains. This comes after an expert committee appointed by the NGT claimed that the ecology of over 420 acres of floodplains was adversely affected by the World Culture Festival organised in 2016 by the Art of Living.\"\n        ],\n        \"semantic_type\": \"\",\n        \"description\": \"\"\n      }\n    },\n    {\n      \"column\": \"ctext\",\n      \"properties\": {\n        \"dtype\": \"string\",\n        \"num_unique_values\": 976,\n        \"samples\": [\n          \"Kamal Haasan and Bigg Boss Tamil have been plagued with problems from the start.Puthiya Tamizhagam, a Dalit party, has served a legal notice to a private TV channel and film actor Kamal Haasan for allegedly hurting the sentiments of those living in slums and huts due to comments made by an actor on the reality show Bigg Boss.In the notice served through the lawyers, the party has sought Rs 100 crore as damages if the actor and TV channel failed to tender an unconditional apology within seven days of receipt of the notice, Puthiya Tamizhagam founder-president Dr K Krishnasamy told reporters.Krishnasamy said he had already demanded that Haasan and the channel (Star Vijay TV) tender the apology a fortnight ago for the remarks made by Gayatri Raghuram, while referring to another actor that her?s was ?cheri? (a reference to those living in slums and huts) behaviour and notice was issued for their failure do so.?I have already appealed to actor Gayathri Raguram, a Bigg Boss Tamil participant, to apologise for abusing another participant by saying that she was behaving like ?slum people?. The term, which has hurt members of a particular community, should have been edited out by the channel,? Krishnasamy told media persons at Kuniyamuthur here on Sunday. ?Though two weeks have passed, neither Gayathri Raguram nor show-host Kamal Haasan nor the TV channel have as yet apologised for using the term,? he was quoted in the New Indian Express as saying.The remarks by Gayatri had hurt the sentiments of those living in slums and huts as it showed them in poor light, he said. If they failed to apologise within seven days of the receipt of the notice, he would approach high court seeking Rs 100 crore as damages, Krishnsasmy said.Besides Haasan, notices were issued to Gayatri Raghuram, Deepk Dhar, CEO and managing director, Endemol Shine India, Mumbai, and Ajay Vidya Sagar, general manager, Star Vijay TV, Chennai, he said. \",\n          \"A German man fed up with the stress of commuting on busy city roads now swims two km to work along the Isar river in Munich, Germany, the media reported.Benjamin David packs his laptop, suit and shoes into a waterproof bag, straps it to his back and swims, reports the BBC.Depending on the season, he wears swimming trunks or a long wetsuit as well as rubber sandals to protect his feet from glass or the occasional bicycle laying in the river.His commute sometimes invites laughs from bystanders on the bridges above, but he says it is faster and more relaxing than sitting in traffic.\",\n          \"Charges and counter charges flew in the Lok Sabha on Monday over the issue of lynchings, with the Opposition parties targeting the Modi government and the ruling side asserting that it was the responsibility of the state governments to deal with such crimes.During the discussion, Congress MP Mallikarjun Kharge criticised the Prime Minister for not talking about the issue enough and listed the various incidents of lynchings across the country.  BJP?s Hukmdev Narayan Yadav defended the government?s response and, referring to political killings  in Kerala, questioned why only certain incidents were considered lynchings.In the Rajya Sabha, after initial uproar  over the alleged kidnapping of MLAs by police in Gujarat, the house adjourned briefly before resuming Question Hour.Congress? Madhusudhan Mistry alleged that his party MLAs were being ?kidnapped? and offered ?Rs 10-15 crore? with a view to influence their vote in the August 8 elections to send three members from the state to the Rajya Sabha.Here are the highlights: 6:30 pm: Lok Sabha adjourned for the day.6:29 pm:?The more you are raising the issue, the veil of the opposition is getting unveiled. The more you try to defame us, the more the Opposition gets defames: Kiren Rijiju6:23 pm: Mother Teresa was not allowed to enter Arunachal Pradesh during Congress rule. If there has been one instance of persecution of Christians in Arunachal Pradesh after our rule, I?ll resign: Kiren Rijiju6:13 pm: Mob lynching is the worst form of crime, it should be condemned universally. Why do you raise selective issue. Previously it was intolerance, then award-wapsi, freedom of expression: Rijiju. 6:08 pm: Do you want the PM should break the federal structure and take over state machinery: Rijiju during lynching debate.6:04 pm: There is a trend in the country, the highest number of atrocities in India have taken place against scheduled castes: Rijiju.5:55 pm: Uproar in Lok Sabha during Kiren Rijiju?s statement.5:50 pm: Kiren Rijiju says issued advisory to every state that strong action should be taken against incident of mob lynching.5:45 pm: Asaduddin Owaisi says the instances of mob lynching will continue as this government promotes religion as an ideology.Is cow protection an essential part of Hinduism? asks Owaisi. Stop the shadow army. Our battle is against Hindutva and not Hinduism: Owaisi5:32 pm: When we should be discussion about digital India, it is sad irony that we are discussing about mob lynching:?Indian Union Muslim League  MP PK KunhalikuttyWe are discussing a fundamental principle of secularism that we should uphold, it is sad, says Kunhalikutty.5:20 pm: There seems to be a different between the words and action of Prime Minister: Mohammad Asrarul HaqueModi govt doesn?t only seem listen but also helpless. People who have skull cap and beard, women in burkha are today scared to step outside in public, he says.  5:18 pm: RJD MP?Jay Prakash Narayan Yadav say, ?The person who doesn?t differentiate between human and animal, there is a devil inside him.?5:08 pm: BJP?MP Prahlad Joshi talks about attack on BJP?MPs in West Bengal. Evokes sharp reaction from opposition members for not mentioning death of other people.4:39 pm: Maharashtra MP Supriya Sule says we should send a message as a uniform Parliament that we condemn lynching.?Yoga Day message should be about ahimsa and not just about surya namaskar,? she says.?The person who killed Junaid is out on bail. We should make regulation that someone who has killed someone shouldn?t be out on bail,? says the NCP?lawmaker. 4:29 pm: Mohammad Salim of CPI-M says the gathering of mob has a historical, political, psychological  aspect. There is a long history and it is not a spur of the moment occurrence. 4:17 pm: TDP?MP?from Guntur, Jayadev Galla, says mob violence, ?shows of strength in numbers, majority rule mentality and doesn?t have place in a peaceful society.? He says cow violence has reached an alarming proportion.... And it can?t be isolated into BJP or non-BJP?states.4:12 pm: Arvind Ganpat Sawant, MP?from Mumbai-South speaks on lynching. ?If there is hate, some say they are going perpetrate double the amount of hate,? he says.3: 55 pm: Samajwadi Party leader Mulayam Singh Yadav says, ?Exploitation of and atrocities against women is high. It should end in the family first. Then it will stop in your locality, village and cities.? 3:45 pm: BJP?MP Hukumdev Narayan Yadav claims majority of Muslims in India are descendants of Hindus, PTI?reports.3:35 pm: BJD?s Tathagata Satpathy says, ?The gau rakshaks don?t know that more than half the cows in India are Jersey cows. Not their mother. They should recognise their mother.It?s sad if we can?t recognise our own mother.?Satpathy wonders why nobody is bothered about indigenous breeds of cows. 3:18 pm: AIADMK?s Dr K Gopal calls the situation of rising violence against minorities is worrisome. He names lynching incidents and says that the issue of beef is polarising.3:15pm: Kharge responds to Paswan?s comments there was no ?josh? in his speech. ?If you had an operation, you wouldn?t even be able to get up,? Kharge says.3:10 pm: Paswan targets CPI and asks why the killing of 6 people during its rule was not called ?a ?riot?.Paswan says the House needs to pass a resolution to condemn incidents of lynchings. ?Whenever something like this takes place, all chief ministers must ensure perpetrator is arrested and investigation begins within 24 hours.?3:05 pm: ?PM Modi has never mentioned Babri Masjid or Ayodhya or Article 370. He only speaks of development,? says Paswan.3:00 pm: Union Minister Ram Vilas Paswan says, ?The Prime Minister has condemned these incidents twice. Do you want him to send in the army when such incidents happen??2:55 pm:  Quiet resumes as Roy speaks again. He says he has a few suggestions. ?In the IPC and the CrPC, lynching not defined. We need a new and exclusive law on protecting against lynching,? Roy says.2:54 pm: Uproar as MPs yell at each other across the aisle. 2:53 pm: BJP?s SS Ahluwalia lashes out, ?Strike this from the record. This is unfair. He must also bring the source of his information here and validate. Only then should he be allowed to talk further.?2:50 pm:  Roy compares the killing of Muslims to the targeted killing of African-Americans by Ku Klux Klan in the US. ?In 23 attacks, the attackers were from Bajrang Dal and Hindu groups,? he says.Roy says, ?Yeh sab bandar hai! (These groups are the BJP?s monkeys.)? Uproar as MPs call the comment ?unparliamentary?.2:45 pm: Kiren Rijiju interrupts Roy, asking him on what basis he was making these claims.2:37 pm: TMC?s Saugata Roy speaks and clarifies he does not want to talk about general mob violence but bovine-related mob violence. Between 2010 anmd 2017, 63 people were killed in cow-related incidents of mob violence, Roy says.?I don?t want to bring Hindu-Muslim into this but 97% of these killings took place after Narendra Modi came to power. 86% were Muslims. I want to ask members of the ruling party, you say you want Congress-mukt Bharat. Do you want Muslim-mukt Bharat??Roy says 52% of the killings took place in BJP ruled states.2:30 pm: Yadav cites Ram Mohair Lohaia?s example, saying he was a socialist who didn?t believe in Gods but knew prevalence of Hindu culture and traditions, and respected it.2:26 pm:  Yadav says, ?The ancestors of the Muslims were Hindus. Therefore the gods, the culture and traditions are also their?s. They must think about this.?2:20 pm: Debate resumes in Lok?Sabha. Yadav continues his speech. 2:15pm: Social Justice and Empowerment Minister Thawarchand Gehlot begins the debate. Congress? BK Hariprasad says Opposition is not happy with the way government pushes Bills in the Parliament.2:00 pm: Rajya Sabha takes up Constitution (123rd) Amendment Bill, 2017 and National Commission for Backward Classes (Repeal) Bill, 2017.1:15 pm: Lok Sabha adjourned till 2:15 pm for lunch. Yadav to speak for five more minutes after that.1:14 pm: Yadav says, ?Muslims must learn to live with Hindus respecting their culture and traditions.?1:12 pm: ?Why is it wrong to say Vande Mataram these days? Is this not mob lynching?? Yadav asks.1:10 pm: In the Lok Sabha, Yadav attacks the Congress saying,?You have done dharmik atyachar, samajik atyachar, mansik atyachar, arthik atyachar and ruined the country.?1:05 pm: In Rajya Sabha, Question Hour concludes. House adjourned till 2 pm for lunch.1:03 pm: Yadav says, ?The Junaid incident was a fight over a train seat. Why are you linking it with religion? What about the killings in Kerala? Are we not human? Are they not lynchings because they are not Muslims??1:00 pm: Yadav asks,??Is the mob lynching of DSP Ayub Pandith in J&K not an incident worth mentioning??12:57 pm: Yadav says, ?The PM himself has condemned the mob incidents repeatedly. It?s upto states to follow law. Centre can?t send paramilitary forces there on its own.?12:55 pm: BJP?s Hukmdev Narayan Yadav says government has been addressing the issue and taking action. He asks why the Opposition is questioning the government?s intention.12:50 pm: Kharge concludes with,?Duniya mein sab ka yahi hai kehna, Shanti aur chain se zinda rehna...Let us be Hindustan and not Lynchistan.?Two hours were alloted for the discussion. Kharge spoke for over 35 minutes.12:47 pm:  ?This government is imposing itself on what a person can eat and who one can love,? says Kharge.12: 45 pm:  Parliamentary Affairs Minister Ananth Kumar interrupts Kharge for mentioning a former President?s name citing rule 352.Kumar says, ?Kharge must validate all the documents he is reading from. Every state government has taken action against each of these incidents. He is misleading the House.?12: 36 pm: BJP benches raise a ruckus. Speaker warns Kharge about duration of his speech.12:34 pm: Kharge quotes a BJP leader as saying that there was ?no regret over the death of Pehlu Khan because he was a cow smuggler.?12:32 pm: BJP members protests reported facts being read out by Kharge. 12:30 pm: In the Lok Sabha discussion, Kharge says, ?The Prime Minister has not spoken about the killings on his Mann Ki Baat programme.?12:28 pm: Meanwhile, first two questions in the Rajya Sabha are about MNREGA.12:26 pm: Kharge mentions incidents in Jharkhand, Madhya Pradesh, Rajasthan and Uttar Pradesh. He says he is only listing them.12:24 pm: Nishikant Dubey of BJP says, ?The cases of violence Mr.Kharge is mentioning are already in the courts, so why is he saying all this? He cannot speak about these cases.?12:22 pm:  The Lok Sabha has begun a short-duration discussion on lynchings and mob violence. Mallikarjun Kharge of Congress says, ?There?s a feeling of threat in many states, especially because of fringe groups. Incidents of lynching and mob violence are not under control. Taking matters into one?s hands and exercising violence or killing another is unacceptable.??The government is indirectly encouraging groups like the Vishwa Hindu Parishad, Bajrang Dal and gau bhakts,? Kharge says.12:12 pm: Lok Sabha postpones Zero Hour to end of the day.12:07 pm: Question hour ends in Lok Sabha. Speaker dismisses all adjournment notices. Arun Jaitley introduced all the Bills listed today.12:02 pm: Chair praises MPs for not exceeding time alloted to them and allowing him to wrap up all notices to end Zero Hour on time.12:00 pm: Issues raised in the Upper House include changes in NET, impact of demonetisation, transaction on BHIM app and privatisation of Railways. 11:45 pm: Rajya Sabha returns from adjournment. Zero Hours resumes. 11:30 pm: MPs protest in the well in Rajya Sabha. Congress creates ruckus over alleged kidnapping of MLAs by police in Gujarat. House adjourned for 10 minutes.11:20 am: Zero Hour in Rajya Sabha. Congress? Madhusudan Mistry raises issue of Gujarat MLAs resignations.11:05 am: Question hour in Lok Sabha.10:40 am:Bills to be introduced in Lok Sabha todayThe Central Goods and Services Tax (Extension to Jammu and Kashmir) Bill, 2017The Integrated Goods and Services Tax (Extension to Jammu and Kashmir) Bill, 2017The Public Premises (Eviction of Unauthorised Occupants) Amendment Bill 2017 Bills for consideration and passing today:The National Bank for Agriculture and Rural Development (Amendment) Bill, 2017The Banking Reguation (Amendment) Bill, 2017The Indian Institute of Petroleum and Energy Bill, 2017Bills for consideration and passing in Rajya Sabha todayThe Constitution (123rd Amendment) Bill, 2017The National Commission for Backward Classes (Repeal) Bill, 2017The Right of Children to Free and Compulsory Education (Amendment) Bill,2017\"\n        ],\n        \"semantic_type\": \"\",\n        \"description\": \"\"\n      }\n    },\n    {\n      \"column\": \"head + text\",\n      \"properties\": {\n        \"dtype\": \"string\",\n        \"num_unique_values\": 991,\n        \"samples\": [\n          \"Deepali Aggarwal 31 Jul 2017,Monday Ten killed as Venezuela's constitutional vote turns violent http://www.hindustantimes.com/world-news/venezuela-vote-turns-violent-10-killed-as-troops-crack-down-on-protesters/story-M5rDG36PeyNxte4JeGvbkK.html?utm_source=inshorts&utm_medium=referral&utm_campaign=fullarticle  At least 10 people, including an election candidate, were killed on Sunday in violent protests which erupted as the country voted for a new legislative body tasked with rewriting the Constitution. The country's opposition parties boycotted the vote, which they say is aimed at consolidating President Nicolas Maduro's power and is a bid to install a dictatorship. A wave of bloodshed swept Venezuela on Sunday as troops cracked down on violent protests against elections to choose the members of a powerful assembly that President Nicolas Maduro has tasked with writing a new constitution.Protesters attacked polling stations and barricaded streets around the country, drawing a bloody response from security forces, who opened fire with live ammunition in some cases.At least 10 people were killed, prompting the United States to threaten further ?strong and swift? sanctions on Maduro?s government.Senior opposition leader Henrique Capriles called on Venezuelans to continue defying the deeply unpopular Maduro with new protests against the election and the ?massacre? he said accompanied it.?We do not recognize this fraudulent process,? he said at the close of voting, calling for nationwide marches Monday and a mass protest in Caracas Wednesday, the day the new ?Constituent Assembly? is due to be installed.Maduro has decreed a ban on protests during and after the vote, threatening prison terms of up to 10 years.The socialist president is gambling his four-year rule on the 545-member assembly, which will be empowered to dissolve the opposition-controlled congress and rewrite the constitution.But the unrest fueled fears that his insistence on convening the assembly -- despite months of demonstrations and fierce international criticism -- would only plunge the country deeper into chaos.Ten deadProsecutors said 10 people were killed in violence around the vote, bringing the death toll in four months of protests to some 120 people.Those killed included a candidate for the new assembly, a regional opposition leader, two teenage protesters and a soldier in the western state of Tachira, which saw some of the worst violence.In eastern Caracas, seven police were wounded when an improvised explosive targeted their motorcycle convoy.National guard troops used armored vehicles, rubber bullets and tear gas to disperse protesters blocking roads in the west of the capital.Soldiers also violently moved against protesters in the second city of Maracaibo, in the west, and Puerto Ordaz in the east.The opposition had called for a boycott and mass demonstrations against the election, which it condemned as a bid to install a dictatorship.?This constituent assembly is being born in a bloodbath. It is born illegitimate,? said Nicmer Evans, a prominent socialist turned Maduro critic, alleging widespread irregularities.Maduro vote glitchMaduro kicked off voting by casting his ballot in a west Caracas polling station.?I?m the first voter in the country. I ask God for his blessings so the people can freely exercise their democratic right to vote,? he said. He was accompanied by his wife, Cilia Flores, a candidate for the new assembly.He got a technological snub when he scanned his ID card at the polling station and the screen spit out the words, ?This person does not exist or the ID was canceled.?Maduro, whose term is meant to end in 2019, describes the election as the most important in Venezuelan history.?I have come to vote to tell the gringos and the opposition that we want peace, not war, and that we support Maduro,? said voter Ana Contreras.Turnout will be key to determining the legitimacy of the election.But that will be difficult to ascertain, as most voters will be able to vote twice: once by region and once by social or industrial sector.According to polling firm Datanalisis, more than 70 percent of Venezuelans oppose the idea of the new assembly -- and 80 percent reject Maduro?s leadership.?The people are not going to give up the streets until this awful government goes,? protester Carlos Zambrano, 54, told AFP in western Caracas.Venezuelans also protested in Miami, Madrid and various Latin American cities.The number of Venezuelans living abroad has soared as the once-booming oil producer has descended into a devastating economic crisis marked by shortages, runaway inflation, riots and looting.US sanctionsFear of the violence worsening has rippled across the region, and beyond. The US, the EU, Canada and Latin American powers including Argentina, Brazil, Colombia and Mexico have condemned the election.?Maduro?s sham election is another step toward dictatorship,? tweeted US envoy to the United Nations Nikki Haley.Britain?s junior foreign minister Alan Duncan also described the vote as a ?sham,? as did many experts.?The vote means the end of any trace of democratic rule. Maduro?s blatant power grab removes any ambiguity about whether Venezuela is a democracy,? said Michael Shifter, head of the Inter-American Dialogue research center.Several foreign airlines, including Air France, Delta, Avianca and Iberia have suspended flights to Venezuela over security concerns.The US has ordered the families of its diplomats to leave after imposing sanctions on 13 current and former Venezuelan officials.It threatened further sanctions against Caracas.?We will continue to take strong and swift actions against the architects of authoritarianism in Venezuela, including those who participate in the National Constituent Assembly as a result of today?s flawed election,? US State Department spokeswoman Heather Nauert said in a statement.\",\n          \"Ayushi Ahluwalia 29 Jul 2017,Saturday Hackers post pro-Pak slogans on Noida university website http://www.hindustantimes.com/noida/noida-galgotias-university-website-hacked-pro-pakistan-slogans-posted/story-uVUpubI1PXzMDkxMq7miVJ.html?utm_source=inshorts&utm_medium=referral&utm_campaign=fullarticle  The official website of Noida's Galgotias University was hacked on Tuesday and pro-Pakistan slogans were posted on its home page. The website, which remained hacked for an hour-and-a-half, had hate messages and slogans such as 'Pakistan Zindabad', 'ISI Zindabad' and 'India Banee gaa PAKISTAN'. The issue was resolved internally and the website was restored by the university's IT cell.  The official website of Galgotias University was hacked on Tuesday evening and pro-Pakistan slogans were posted on the home page. The website was later restored and a compliant was lodged with the Noida?s cyber cell.The home page for over an hour contained slogans such as ?Pakistan Zindabad?, Pak Army Zindabad?, ?ISI Zinadabad?, ?India Banee gaa PAKISTAN? and  ?Cyber War Never End?.Shrishant Sharma, university spokesperson, said, ?The website was hacked for about an hour-and-a-half on Tuesday evening before it was restored by our IT cell. We had reported the incident to the district cyber cell and the Dankaur police station.?The website was hacked by an user named Urr@R.?Between 8pm and 10pm on Tuesday, the university?s website was hacked by some miscreants and hate messages and pro-Pakistan slogans were posted on its home page. The issue was resolved internally by the university?s IT team and the website was restored. The hacker breached the website?s firewall security and temporarily took over the website,? Rakesh Sharma, a police personnel at Gautam Budh Nagar?s Cyber Cell.Sharma said, ?We have asked the university to provide details of their servers and IP details and we are questioning people in connection with the case. The university has not reported any theft of information by the hackers.?Cyber attack and posting of hate messages is not so common in the district. A similar case wherein hackers had posted anti-India slogans and hate messages was reported about two years ago, Sharma said.A case has been registered under Section 66 of the Information Technology Act, 2000.In April this year, hackers had attacked the servers of  IIT-Delhi, Banaras Hindu University, Delhi University and Aligarh Muslim University.Other universities and educational institutions whose websites were reportedly hacked earlier this year were University of Kota; Army Institute of Management and Technology, Greater Noida; Defence Institute of Advanced Technology; Army Institute of Management, Kolkata; National Aerospace Laboratories and Board of Research in Nuclear Sciences, Mumbai. \",\n          \"Tanya Dhingra 26 Jul 2017,Wednesday Sad that B'wood didn't support me: Madhur on Indu Sarkar row http://www.hindustantimes.com/bollywood/angry-with-selective-activism-in-bollywood-madhur-bhandarkar-on-indu-sarkar-controversy/story-d7tvcISa6wvUKrNlUyfzJP.html?utm_source=inshorts&utm_medium=referral&utm_campaign=fullarticle  Filmmaker Madhur Bhandarkar has said he is sad that nobody from the film fraternity came to support him in the 'Indu Sarkar' row. Madhur added, \\\"I, as a filmmaker, always stood with the film fraternity...whether it was regarding 'Udta Punjab' or 'Ae Dil Hai Mushkil' or any other film.\\\" He further said that he's angry to see \\\"such selective activism\\\". National Award winning filmmaker Madhur Bhandarkar has said he is ?sad? that the film fraternity did not express solidarity with him when Indu Sarkar was mired in controversy.(L-R) Filmmaker Madhur Bhandarkar, music composer Bappi Lahiri, makeover expert Ishika Taneja and actress Kirti Kulhari at an event.\\r\\n\\t\\t\\t\\t\\t\\t\\t(IANS)\\r\\n\\t\\t\\t\\t\\t\\tThe film, based on the Emergency era, was finally cleared by the Central Board of Film Certification (CBFC) Revising Committee with U/A certificate, after two cuts and one disclaimer, and Bhandarkar is relieved at that.?It feels really sad that I as a filmmaker always stood with the film fraternity -- whether it was regarding Udta Punjab or Ae Dil Hai Mushkil or any other film... But they must have had their own problems. That?s why you get angry when you see such selective activism,? Bhandarkar said at a press conference.?Today what has happened to me, might happen with somebody else tomorrow. So, if you will support people as per your convenience, that won?t work. Really this has saddened me as I wanted the film fraternity to come on a stage or tweet about this film, but that didn?t happen,? Bhandarkar lamented.?The kind of atmosphere that was created in Nagpur and Pune -- that?s really sad,? he added about the protests in both cities. Earlier, veteran actor Anupam Kher, who is in Indu Sarkar too, had told IANS that a ?united voice of the industry? -- much like what was raised before the release of Udta Punjab -- needed to be heard once again.Follow @htshowbiz for more\"\n        ],\n        \"semantic_type\": \"\",\n        \"description\": \"\"\n      }\n    }\n  ]\n}"
            }
          },
          "metadata": {},
          "execution_count": 11
        }
      ]
    },
    {
      "cell_type": "code",
      "metadata": {
        "id": "aWk56dt7snfH"
      },
      "source": [
        "pre = pd.DataFrame()\n",
        "pre['text'] = pd.concat([pre1['text'], pre2['text']], ignore_index=True)\n",
        "pre['summary'] = pd.concat([pre1['headlines'],pre2['headlines']],ignore_index = True)"
      ],
      "execution_count": null,
      "outputs": []
    },
    {
      "cell_type": "code",
      "metadata": {
        "id": "E1HeQf07srum",
        "outputId": "f2b0be5a-27eb-4954-a149-8266bfa7b43c",
        "colab": {
          "base_uri": "https://localhost:8080/",
          "height": 206
        }
      },
      "source": [
        "pre.head()"
      ],
      "execution_count": null,
      "outputs": [
        {
          "output_type": "execute_result",
          "data": {
            "text/plain": [
              "                                                text  \\\n",
              "0  Saurav Kant, an alumnus of upGrad and IIIT-B's...   \n",
              "1  Kunal Shah's credit card bill payment platform...   \n",
              "2  New Zealand defeated India by 8 wickets in the...   \n",
              "3  With Aegon Life iTerm Insurance plan, customer...   \n",
              "4  Speaking about the sexual harassment allegatio...   \n",
              "\n",
              "                                             summary  \n",
              "0  upGrad learner switches to career in ML & Al w...  \n",
              "1  Delhi techie wins free food from Swiggy for on...  \n",
              "2  New Zealand end Rohit Sharma-led India's 12-ma...  \n",
              "3  Aegon life iTerm insurance plan helps customer...  \n",
              "4  Have known Hirani for yrs, what if MeToo claim...  "
            ],
            "text/html": [
              "\n",
              "  <div id=\"df-cafbbfcd-8b93-4002-bbb4-e0085ff0bb46\" class=\"colab-df-container\">\n",
              "    <div>\n",
              "<style scoped>\n",
              "    .dataframe tbody tr th:only-of-type {\n",
              "        vertical-align: middle;\n",
              "    }\n",
              "\n",
              "    .dataframe tbody tr th {\n",
              "        vertical-align: top;\n",
              "    }\n",
              "\n",
              "    .dataframe thead th {\n",
              "        text-align: right;\n",
              "    }\n",
              "</style>\n",
              "<table border=\"1\" class=\"dataframe\">\n",
              "  <thead>\n",
              "    <tr style=\"text-align: right;\">\n",
              "      <th></th>\n",
              "      <th>text</th>\n",
              "      <th>summary</th>\n",
              "    </tr>\n",
              "  </thead>\n",
              "  <tbody>\n",
              "    <tr>\n",
              "      <th>0</th>\n",
              "      <td>Saurav Kant, an alumnus of upGrad and IIIT-B's...</td>\n",
              "      <td>upGrad learner switches to career in ML &amp; Al w...</td>\n",
              "    </tr>\n",
              "    <tr>\n",
              "      <th>1</th>\n",
              "      <td>Kunal Shah's credit card bill payment platform...</td>\n",
              "      <td>Delhi techie wins free food from Swiggy for on...</td>\n",
              "    </tr>\n",
              "    <tr>\n",
              "      <th>2</th>\n",
              "      <td>New Zealand defeated India by 8 wickets in the...</td>\n",
              "      <td>New Zealand end Rohit Sharma-led India's 12-ma...</td>\n",
              "    </tr>\n",
              "    <tr>\n",
              "      <th>3</th>\n",
              "      <td>With Aegon Life iTerm Insurance plan, customer...</td>\n",
              "      <td>Aegon life iTerm insurance plan helps customer...</td>\n",
              "    </tr>\n",
              "    <tr>\n",
              "      <th>4</th>\n",
              "      <td>Speaking about the sexual harassment allegatio...</td>\n",
              "      <td>Have known Hirani for yrs, what if MeToo claim...</td>\n",
              "    </tr>\n",
              "  </tbody>\n",
              "</table>\n",
              "</div>\n",
              "    <div class=\"colab-df-buttons\">\n",
              "\n",
              "  <div class=\"colab-df-container\">\n",
              "    <button class=\"colab-df-convert\" onclick=\"convertToInteractive('df-cafbbfcd-8b93-4002-bbb4-e0085ff0bb46')\"\n",
              "            title=\"Convert this dataframe to an interactive table.\"\n",
              "            style=\"display:none;\">\n",
              "\n",
              "  <svg xmlns=\"http://www.w3.org/2000/svg\" height=\"24px\" viewBox=\"0 -960 960 960\">\n",
              "    <path d=\"M120-120v-720h720v720H120Zm60-500h600v-160H180v160Zm220 220h160v-160H400v160Zm0 220h160v-160H400v160ZM180-400h160v-160H180v160Zm440 0h160v-160H620v160ZM180-180h160v-160H180v160Zm440 0h160v-160H620v160Z\"/>\n",
              "  </svg>\n",
              "    </button>\n",
              "\n",
              "  <style>\n",
              "    .colab-df-container {\n",
              "      display:flex;\n",
              "      gap: 12px;\n",
              "    }\n",
              "\n",
              "    .colab-df-convert {\n",
              "      background-color: #E8F0FE;\n",
              "      border: none;\n",
              "      border-radius: 50%;\n",
              "      cursor: pointer;\n",
              "      display: none;\n",
              "      fill: #1967D2;\n",
              "      height: 32px;\n",
              "      padding: 0 0 0 0;\n",
              "      width: 32px;\n",
              "    }\n",
              "\n",
              "    .colab-df-convert:hover {\n",
              "      background-color: #E2EBFA;\n",
              "      box-shadow: 0px 1px 2px rgba(60, 64, 67, 0.3), 0px 1px 3px 1px rgba(60, 64, 67, 0.15);\n",
              "      fill: #174EA6;\n",
              "    }\n",
              "\n",
              "    .colab-df-buttons div {\n",
              "      margin-bottom: 4px;\n",
              "    }\n",
              "\n",
              "    [theme=dark] .colab-df-convert {\n",
              "      background-color: #3B4455;\n",
              "      fill: #D2E3FC;\n",
              "    }\n",
              "\n",
              "    [theme=dark] .colab-df-convert:hover {\n",
              "      background-color: #434B5C;\n",
              "      box-shadow: 0px 1px 3px 1px rgba(0, 0, 0, 0.15);\n",
              "      filter: drop-shadow(0px 1px 2px rgba(0, 0, 0, 0.3));\n",
              "      fill: #FFFFFF;\n",
              "    }\n",
              "  </style>\n",
              "\n",
              "    <script>\n",
              "      const buttonEl =\n",
              "        document.querySelector('#df-cafbbfcd-8b93-4002-bbb4-e0085ff0bb46 button.colab-df-convert');\n",
              "      buttonEl.style.display =\n",
              "        google.colab.kernel.accessAllowed ? 'block' : 'none';\n",
              "\n",
              "      async function convertToInteractive(key) {\n",
              "        const element = document.querySelector('#df-cafbbfcd-8b93-4002-bbb4-e0085ff0bb46');\n",
              "        const dataTable =\n",
              "          await google.colab.kernel.invokeFunction('convertToInteractive',\n",
              "                                                    [key], {});\n",
              "        if (!dataTable) return;\n",
              "\n",
              "        const docLinkHtml = 'Like what you see? Visit the ' +\n",
              "          '<a target=\"_blank\" href=https://colab.research.google.com/notebooks/data_table.ipynb>data table notebook</a>'\n",
              "          + ' to learn more about interactive tables.';\n",
              "        element.innerHTML = '';\n",
              "        dataTable['output_type'] = 'display_data';\n",
              "        await google.colab.output.renderOutput(dataTable, element);\n",
              "        const docLink = document.createElement('div');\n",
              "        docLink.innerHTML = docLinkHtml;\n",
              "        element.appendChild(docLink);\n",
              "      }\n",
              "    </script>\n",
              "  </div>\n",
              "\n",
              "\n",
              "<div id=\"df-0c8e8054-86eb-43fd-92f4-89a782da713b\">\n",
              "  <button class=\"colab-df-quickchart\" onclick=\"quickchart('df-0c8e8054-86eb-43fd-92f4-89a782da713b')\"\n",
              "            title=\"Suggest charts\"\n",
              "            style=\"display:none;\">\n",
              "\n",
              "<svg xmlns=\"http://www.w3.org/2000/svg\" height=\"24px\"viewBox=\"0 0 24 24\"\n",
              "     width=\"24px\">\n",
              "    <g>\n",
              "        <path d=\"M19 3H5c-1.1 0-2 .9-2 2v14c0 1.1.9 2 2 2h14c1.1 0 2-.9 2-2V5c0-1.1-.9-2-2-2zM9 17H7v-7h2v7zm4 0h-2V7h2v10zm4 0h-2v-4h2v4z\"/>\n",
              "    </g>\n",
              "</svg>\n",
              "  </button>\n",
              "\n",
              "<style>\n",
              "  .colab-df-quickchart {\n",
              "      --bg-color: #E8F0FE;\n",
              "      --fill-color: #1967D2;\n",
              "      --hover-bg-color: #E2EBFA;\n",
              "      --hover-fill-color: #174EA6;\n",
              "      --disabled-fill-color: #AAA;\n",
              "      --disabled-bg-color: #DDD;\n",
              "  }\n",
              "\n",
              "  [theme=dark] .colab-df-quickchart {\n",
              "      --bg-color: #3B4455;\n",
              "      --fill-color: #D2E3FC;\n",
              "      --hover-bg-color: #434B5C;\n",
              "      --hover-fill-color: #FFFFFF;\n",
              "      --disabled-bg-color: #3B4455;\n",
              "      --disabled-fill-color: #666;\n",
              "  }\n",
              "\n",
              "  .colab-df-quickchart {\n",
              "    background-color: var(--bg-color);\n",
              "    border: none;\n",
              "    border-radius: 50%;\n",
              "    cursor: pointer;\n",
              "    display: none;\n",
              "    fill: var(--fill-color);\n",
              "    height: 32px;\n",
              "    padding: 0;\n",
              "    width: 32px;\n",
              "  }\n",
              "\n",
              "  .colab-df-quickchart:hover {\n",
              "    background-color: var(--hover-bg-color);\n",
              "    box-shadow: 0 1px 2px rgba(60, 64, 67, 0.3), 0 1px 3px 1px rgba(60, 64, 67, 0.15);\n",
              "    fill: var(--button-hover-fill-color);\n",
              "  }\n",
              "\n",
              "  .colab-df-quickchart-complete:disabled,\n",
              "  .colab-df-quickchart-complete:disabled:hover {\n",
              "    background-color: var(--disabled-bg-color);\n",
              "    fill: var(--disabled-fill-color);\n",
              "    box-shadow: none;\n",
              "  }\n",
              "\n",
              "  .colab-df-spinner {\n",
              "    border: 2px solid var(--fill-color);\n",
              "    border-color: transparent;\n",
              "    border-bottom-color: var(--fill-color);\n",
              "    animation:\n",
              "      spin 1s steps(1) infinite;\n",
              "  }\n",
              "\n",
              "  @keyframes spin {\n",
              "    0% {\n",
              "      border-color: transparent;\n",
              "      border-bottom-color: var(--fill-color);\n",
              "      border-left-color: var(--fill-color);\n",
              "    }\n",
              "    20% {\n",
              "      border-color: transparent;\n",
              "      border-left-color: var(--fill-color);\n",
              "      border-top-color: var(--fill-color);\n",
              "    }\n",
              "    30% {\n",
              "      border-color: transparent;\n",
              "      border-left-color: var(--fill-color);\n",
              "      border-top-color: var(--fill-color);\n",
              "      border-right-color: var(--fill-color);\n",
              "    }\n",
              "    40% {\n",
              "      border-color: transparent;\n",
              "      border-right-color: var(--fill-color);\n",
              "      border-top-color: var(--fill-color);\n",
              "    }\n",
              "    60% {\n",
              "      border-color: transparent;\n",
              "      border-right-color: var(--fill-color);\n",
              "    }\n",
              "    80% {\n",
              "      border-color: transparent;\n",
              "      border-right-color: var(--fill-color);\n",
              "      border-bottom-color: var(--fill-color);\n",
              "    }\n",
              "    90% {\n",
              "      border-color: transparent;\n",
              "      border-bottom-color: var(--fill-color);\n",
              "    }\n",
              "  }\n",
              "</style>\n",
              "\n",
              "  <script>\n",
              "    async function quickchart(key) {\n",
              "      const quickchartButtonEl =\n",
              "        document.querySelector('#' + key + ' button');\n",
              "      quickchartButtonEl.disabled = true;  // To prevent multiple clicks.\n",
              "      quickchartButtonEl.classList.add('colab-df-spinner');\n",
              "      try {\n",
              "        const charts = await google.colab.kernel.invokeFunction(\n",
              "            'suggestCharts', [key], {});\n",
              "      } catch (error) {\n",
              "        console.error('Error during call to suggestCharts:', error);\n",
              "      }\n",
              "      quickchartButtonEl.classList.remove('colab-df-spinner');\n",
              "      quickchartButtonEl.classList.add('colab-df-quickchart-complete');\n",
              "    }\n",
              "    (() => {\n",
              "      let quickchartButtonEl =\n",
              "        document.querySelector('#df-0c8e8054-86eb-43fd-92f4-89a782da713b button');\n",
              "      quickchartButtonEl.style.display =\n",
              "        google.colab.kernel.accessAllowed ? 'block' : 'none';\n",
              "    })();\n",
              "  </script>\n",
              "</div>\n",
              "\n",
              "    </div>\n",
              "  </div>\n"
            ],
            "application/vnd.google.colaboratory.intrinsic+json": {
              "type": "dataframe",
              "variable_name": "pre",
              "summary": "{\n  \"name\": \"pre\",\n  \"rows\": 2500,\n  \"fields\": [\n    {\n      \"column\": \"text\",\n      \"properties\": {\n        \"dtype\": \"string\",\n        \"num_unique_values\": 2500,\n        \"samples\": [\n          \"Hardik Pandya was spotted in public for the first time on Saturday after being suspended from Team India pending inquiry over his comments on women on 'Koffee with Karan'. He was seen with his brother Krunal Pandya at Chhatrapati Shivaji Maharaj International Airport in Mumbai. Recently, his father said that he hasn't been taking calls since returning home from Australia.\",\n          \"At least 27 people were killed in a fire after a bus collided with an oil tanker in Pakistan on Monday, officials said. Flames engulfed the bus and the tanker and trapped those inside the two vehicles. The bus was travelling to Balochistan's Panjgur from Karachi when it collided with the tanker coming from the opposite direction.\",\n          \"The government said Mumbai's Jawaharlal Nehru Port Trust (JNPT) has become India's only port to be among the top 30 global container ports as per a Lloyds Report. JNPT notched up five spots to be 28th on the list. Processes activated under the \\u00c3\\u00a2\\u00c2\\u0080\\u00c2\\u0098ease of doing business\\u00c3\\u00a2\\u00c2\\u0080\\u00c2\\u0099 initiative helped in overall growth of the port business, the government added.\"\n        ],\n        \"semantic_type\": \"\",\n        \"description\": \"\"\n      }\n    },\n    {\n      \"column\": \"summary\",\n      \"properties\": {\n        \"dtype\": \"string\",\n        \"num_unique_values\": 2500,\n        \"samples\": [\n          \"Pandya spotted in public for 1st time since suspension from team\",\n          \"27 killed in fire after bus-oil tanker collision in Pakistan\",\n          \"JNPT becomes India's only port to be ranked among world's top 30\"\n        ],\n        \"semantic_type\": \"\",\n        \"description\": \"\"\n      }\n    }\n  ]\n}"
            }
          },
          "metadata": {},
          "execution_count": 13
        }
      ]
    },
    {
      "cell_type": "code",
      "metadata": {
        "id": "y9GYzMmMtJ-Y",
        "outputId": "01ffae74-686a-480c-cee4-211b3fc70b19",
        "colab": {
          "base_uri": "https://localhost:8080/",
          "height": 398
        }
      },
      "source": [
        "pre['text'][:10]"
      ],
      "execution_count": null,
      "outputs": [
        {
          "output_type": "execute_result",
          "data": {
            "text/plain": [
              "0    Saurav Kant, an alumnus of upGrad and IIIT-B's...\n",
              "1    Kunal Shah's credit card bill payment platform...\n",
              "2    New Zealand defeated India by 8 wickets in the...\n",
              "3    With Aegon Life iTerm Insurance plan, customer...\n",
              "4    Speaking about the sexual harassment allegatio...\n",
              "5    Pakistani singer Rahat Fateh Ali Khan has deni...\n",
              "6    India recorded their lowest ODI total in New Z...\n",
              "7    Weeks after ex-CBI Director Alok Verma told th...\n",
              "8    Andhra Pradesh CM N Chandrababu Naidu has said...\n",
              "9    Congress candidate Shafia Zubair won the Ramga...\n",
              "Name: text, dtype: object"
            ],
            "text/html": [
              "<div>\n",
              "<style scoped>\n",
              "    .dataframe tbody tr th:only-of-type {\n",
              "        vertical-align: middle;\n",
              "    }\n",
              "\n",
              "    .dataframe tbody tr th {\n",
              "        vertical-align: top;\n",
              "    }\n",
              "\n",
              "    .dataframe thead th {\n",
              "        text-align: right;\n",
              "    }\n",
              "</style>\n",
              "<table border=\"1\" class=\"dataframe\">\n",
              "  <thead>\n",
              "    <tr style=\"text-align: right;\">\n",
              "      <th></th>\n",
              "      <th>text</th>\n",
              "    </tr>\n",
              "  </thead>\n",
              "  <tbody>\n",
              "    <tr>\n",
              "      <th>0</th>\n",
              "      <td>Saurav Kant, an alumnus of upGrad and IIIT-B's...</td>\n",
              "    </tr>\n",
              "    <tr>\n",
              "      <th>1</th>\n",
              "      <td>Kunal Shah's credit card bill payment platform...</td>\n",
              "    </tr>\n",
              "    <tr>\n",
              "      <th>2</th>\n",
              "      <td>New Zealand defeated India by 8 wickets in the...</td>\n",
              "    </tr>\n",
              "    <tr>\n",
              "      <th>3</th>\n",
              "      <td>With Aegon Life iTerm Insurance plan, customer...</td>\n",
              "    </tr>\n",
              "    <tr>\n",
              "      <th>4</th>\n",
              "      <td>Speaking about the sexual harassment allegatio...</td>\n",
              "    </tr>\n",
              "    <tr>\n",
              "      <th>5</th>\n",
              "      <td>Pakistani singer Rahat Fateh Ali Khan has deni...</td>\n",
              "    </tr>\n",
              "    <tr>\n",
              "      <th>6</th>\n",
              "      <td>India recorded their lowest ODI total in New Z...</td>\n",
              "    </tr>\n",
              "    <tr>\n",
              "      <th>7</th>\n",
              "      <td>Weeks after ex-CBI Director Alok Verma told th...</td>\n",
              "    </tr>\n",
              "    <tr>\n",
              "      <th>8</th>\n",
              "      <td>Andhra Pradesh CM N Chandrababu Naidu has said...</td>\n",
              "    </tr>\n",
              "    <tr>\n",
              "      <th>9</th>\n",
              "      <td>Congress candidate Shafia Zubair won the Ramga...</td>\n",
              "    </tr>\n",
              "  </tbody>\n",
              "</table>\n",
              "</div><br><label><b>dtype:</b> object</label>"
            ]
          },
          "metadata": {},
          "execution_count": 14
        }
      ]
    },
    {
      "cell_type": "code",
      "metadata": {
        "id": "PYVc7zt1stdW"
      },
      "source": [
        "#normalizing text removing special characters, using URLs\n",
        "import re\n",
        "def text_strip(column):\n",
        "\n",
        "  for row in column:\n",
        "    row=re.sub(\"(\\\\t)\", ' ', str(row)).lower()\n",
        "    row=re.sub(\"(\\\\r)\", ' ', str(row)).lower()\n",
        "    row=re.sub(\"(\\\\n)\", ' ', str(row)).lower()\n",
        "\n",
        "    row=re.sub(\"(__+)\", ' ', str(row)).lower()\n",
        "    row=re.sub(\"(--+)\", ' ', str(row)).lower()\n",
        "    row=re.sub(\"(~~+)\", ' ', str(row)).lower()\n",
        "    row=re.sub(\"(\\+\\++)\", ' ', str(row)).lower()\n",
        "    row=re.sub(\"(\\.\\.+)\", ' ', str(row)).lower()\n",
        "\n",
        "    row=re.sub(r\"[<>()|&©ø\\[\\]\\'\\\",;?~*!]\", ' ', str(row)).lower()\n",
        "\n",
        "    row=re.sub(\"(mailto:)\", ' ', str(row)).lower()\n",
        "    row=re.sub(r\"(\\\\x9\\d)\", ' ', str(row)).lower()\n",
        "    row=re.sub(\"([iI][nN][cC]\\d+)\", 'INC_NUM', str(row)).lower()\n",
        "    row=re.sub(\"([cC][mM]\\d+)|([cC][hH][gG]\\d+)\", 'CM_NUM', str(row)).lower()\n",
        "\n",
        "\n",
        "    row=re.sub(\"(\\.\\s+)\", ' ', str(row)).lower()\n",
        "    row=re.sub(\"(\\-\\s+)\", ' ', str(row)).lower()\n",
        "    row=re.sub(\"(\\:\\s+)\", ' ', str(row)).lower()\n",
        "\n",
        "    row=re.sub(\"(\\s+.\\s+)\", ' ', str(row)).lower()\n",
        "\n",
        "    # to replace an url\n",
        "    try:\n",
        "        url = re.search(r'((https*:\\/*)([^\\/\\s]+))(.[^\\s]+)', str(row))\n",
        "        repl_url = url.group(3)\n",
        "        row = re.sub(r'((https*:\\/*)([^\\/\\s]+))(.[^\\s]+)',repl_url, str(row))\n",
        "    except:\n",
        "        pass\n",
        "\n",
        "\n",
        "\n",
        "    row = re.sub(\"(\\s+)\",' ',str(row)).lower() #remove multiple spaces\n",
        "\n",
        "    row=re.sub(\"(\\s+.\\s+)\", ' ', str(row)).lower()\n",
        "\n",
        "\n",
        "\n",
        "    yield row"
      ],
      "execution_count": null,
      "outputs": []
    },
    {
      "cell_type": "code",
      "metadata": {
        "id": "1MQ4UG5-s10O"
      },
      "source": [
        "brief_cleaning1 = text_strip(pre['text'])\n",
        "brief_cleaning2 = text_strip(pre['summary'])"
      ],
      "execution_count": null,
      "outputs": []
    },
    {
      "cell_type": "code",
      "metadata": {
        "id": "GG0sAjZ0t_8x",
        "outputId": "d9c1d7ce-6fc9-4dea-9841-be31a329c460",
        "colab": {
          "base_uri": "https://localhost:8080/"
        }
      },
      "source": [
        "print(brief_cleaning1)"
      ],
      "execution_count": null,
      "outputs": [
        {
          "output_type": "stream",
          "name": "stdout",
          "text": [
            "<generator object text_strip at 0x7a141e36af00>\n"
          ]
        }
      ]
    },
    {
      "cell_type": "code",
      "source": [
        "!pip install spacy\n",
        "!python -m spacy download en_core_web_sm  #pretrained english model"
      ],
      "metadata": {
        "colab": {
          "base_uri": "https://localhost:8080/"
        },
        "id": "ehnve-Snc2qd",
        "outputId": "7d96c04c-3841-4222-f4cd-29f6a9c70f7c"
      },
      "execution_count": null,
      "outputs": [
        {
          "output_type": "stream",
          "name": "stdout",
          "text": [
            "Requirement already satisfied: spacy in /usr/local/lib/python3.11/dist-packages (3.8.5)\n",
            "Requirement already satisfied: spacy-legacy<3.1.0,>=3.0.11 in /usr/local/lib/python3.11/dist-packages (from spacy) (3.0.12)\n",
            "Requirement already satisfied: spacy-loggers<2.0.0,>=1.0.0 in /usr/local/lib/python3.11/dist-packages (from spacy) (1.0.5)\n",
            "Requirement already satisfied: murmurhash<1.1.0,>=0.28.0 in /usr/local/lib/python3.11/dist-packages (from spacy) (1.0.12)\n",
            "Requirement already satisfied: cymem<2.1.0,>=2.0.2 in /usr/local/lib/python3.11/dist-packages (from spacy) (2.0.11)\n",
            "Requirement already satisfied: preshed<3.1.0,>=3.0.2 in /usr/local/lib/python3.11/dist-packages (from spacy) (3.0.9)\n",
            "Requirement already satisfied: thinc<8.4.0,>=8.3.4 in /usr/local/lib/python3.11/dist-packages (from spacy) (8.3.4)\n",
            "Requirement already satisfied: wasabi<1.2.0,>=0.9.1 in /usr/local/lib/python3.11/dist-packages (from spacy) (1.1.3)\n",
            "Requirement already satisfied: srsly<3.0.0,>=2.4.3 in /usr/local/lib/python3.11/dist-packages (from spacy) (2.5.1)\n",
            "Requirement already satisfied: catalogue<2.1.0,>=2.0.6 in /usr/local/lib/python3.11/dist-packages (from spacy) (2.0.10)\n",
            "Requirement already satisfied: weasel<0.5.0,>=0.1.0 in /usr/local/lib/python3.11/dist-packages (from spacy) (0.4.1)\n",
            "Requirement already satisfied: typer<1.0.0,>=0.3.0 in /usr/local/lib/python3.11/dist-packages (from spacy) (0.15.2)\n",
            "Requirement already satisfied: tqdm<5.0.0,>=4.38.0 in /usr/local/lib/python3.11/dist-packages (from spacy) (4.67.1)\n",
            "Requirement already satisfied: numpy>=1.19.0 in /usr/local/lib/python3.11/dist-packages (from spacy) (2.0.2)\n",
            "Requirement already satisfied: requests<3.0.0,>=2.13.0 in /usr/local/lib/python3.11/dist-packages (from spacy) (2.32.3)\n",
            "Requirement already satisfied: pydantic!=1.8,!=1.8.1,<3.0.0,>=1.7.4 in /usr/local/lib/python3.11/dist-packages (from spacy) (2.11.2)\n",
            "Requirement already satisfied: jinja2 in /usr/local/lib/python3.11/dist-packages (from spacy) (3.1.6)\n",
            "Requirement already satisfied: setuptools in /usr/local/lib/python3.11/dist-packages (from spacy) (75.2.0)\n",
            "Requirement already satisfied: packaging>=20.0 in /usr/local/lib/python3.11/dist-packages (from spacy) (24.2)\n",
            "Requirement already satisfied: langcodes<4.0.0,>=3.2.0 in /usr/local/lib/python3.11/dist-packages (from spacy) (3.5.0)\n",
            "Requirement already satisfied: language-data>=1.2 in /usr/local/lib/python3.11/dist-packages (from langcodes<4.0.0,>=3.2.0->spacy) (1.3.0)\n",
            "Requirement already satisfied: annotated-types>=0.6.0 in /usr/local/lib/python3.11/dist-packages (from pydantic!=1.8,!=1.8.1,<3.0.0,>=1.7.4->spacy) (0.7.0)\n",
            "Requirement already satisfied: pydantic-core==2.33.1 in /usr/local/lib/python3.11/dist-packages (from pydantic!=1.8,!=1.8.1,<3.0.0,>=1.7.4->spacy) (2.33.1)\n",
            "Requirement already satisfied: typing-extensions>=4.12.2 in /usr/local/lib/python3.11/dist-packages (from pydantic!=1.8,!=1.8.1,<3.0.0,>=1.7.4->spacy) (4.13.1)\n",
            "Requirement already satisfied: typing-inspection>=0.4.0 in /usr/local/lib/python3.11/dist-packages (from pydantic!=1.8,!=1.8.1,<3.0.0,>=1.7.4->spacy) (0.4.0)\n",
            "Requirement already satisfied: charset-normalizer<4,>=2 in /usr/local/lib/python3.11/dist-packages (from requests<3.0.0,>=2.13.0->spacy) (3.4.1)\n",
            "Requirement already satisfied: idna<4,>=2.5 in /usr/local/lib/python3.11/dist-packages (from requests<3.0.0,>=2.13.0->spacy) (3.10)\n",
            "Requirement already satisfied: urllib3<3,>=1.21.1 in /usr/local/lib/python3.11/dist-packages (from requests<3.0.0,>=2.13.0->spacy) (2.3.0)\n",
            "Requirement already satisfied: certifi>=2017.4.17 in /usr/local/lib/python3.11/dist-packages (from requests<3.0.0,>=2.13.0->spacy) (2025.1.31)\n",
            "Requirement already satisfied: blis<1.3.0,>=1.2.0 in /usr/local/lib/python3.11/dist-packages (from thinc<8.4.0,>=8.3.4->spacy) (1.2.1)\n",
            "Requirement already satisfied: confection<1.0.0,>=0.0.1 in /usr/local/lib/python3.11/dist-packages (from thinc<8.4.0,>=8.3.4->spacy) (0.1.5)\n",
            "Requirement already satisfied: click>=8.0.0 in /usr/local/lib/python3.11/dist-packages (from typer<1.0.0,>=0.3.0->spacy) (8.1.8)\n",
            "Requirement already satisfied: shellingham>=1.3.0 in /usr/local/lib/python3.11/dist-packages (from typer<1.0.0,>=0.3.0->spacy) (1.5.4)\n",
            "Requirement already satisfied: rich>=10.11.0 in /usr/local/lib/python3.11/dist-packages (from typer<1.0.0,>=0.3.0->spacy) (13.9.4)\n",
            "Requirement already satisfied: cloudpathlib<1.0.0,>=0.7.0 in /usr/local/lib/python3.11/dist-packages (from weasel<0.5.0,>=0.1.0->spacy) (0.21.0)\n",
            "Requirement already satisfied: smart-open<8.0.0,>=5.2.1 in /usr/local/lib/python3.11/dist-packages (from weasel<0.5.0,>=0.1.0->spacy) (7.1.0)\n",
            "Requirement already satisfied: MarkupSafe>=2.0 in /usr/local/lib/python3.11/dist-packages (from jinja2->spacy) (3.0.2)\n",
            "Requirement already satisfied: marisa-trie>=1.1.0 in /usr/local/lib/python3.11/dist-packages (from language-data>=1.2->langcodes<4.0.0,>=3.2.0->spacy) (1.2.1)\n",
            "Requirement already satisfied: markdown-it-py>=2.2.0 in /usr/local/lib/python3.11/dist-packages (from rich>=10.11.0->typer<1.0.0,>=0.3.0->spacy) (3.0.0)\n",
            "Requirement already satisfied: pygments<3.0.0,>=2.13.0 in /usr/local/lib/python3.11/dist-packages (from rich>=10.11.0->typer<1.0.0,>=0.3.0->spacy) (2.18.0)\n",
            "Requirement already satisfied: wrapt in /usr/local/lib/python3.11/dist-packages (from smart-open<8.0.0,>=5.2.1->weasel<0.5.0,>=0.1.0->spacy) (1.17.2)\n",
            "Requirement already satisfied: mdurl~=0.1 in /usr/local/lib/python3.11/dist-packages (from markdown-it-py>=2.2.0->rich>=10.11.0->typer<1.0.0,>=0.3.0->spacy) (0.1.2)\n",
            "Collecting en-core-web-sm==3.8.0\n",
            "  Downloading https://github.com/explosion/spacy-models/releases/download/en_core_web_sm-3.8.0/en_core_web_sm-3.8.0-py3-none-any.whl (12.8 MB)\n",
            "\u001b[2K     \u001b[90m━━━━━━━━━━━━━━━━━━━━━━━━━━━━━━━━━━━━━━━━\u001b[0m \u001b[32m12.8/12.8 MB\u001b[0m \u001b[31m104.3 MB/s\u001b[0m eta \u001b[36m0:00:00\u001b[0m\n",
            "\u001b[?25h\u001b[38;5;2m✔ Download and installation successful\u001b[0m\n",
            "You can now load the package via spacy.load('en_core_web_sm')\n",
            "\u001b[38;5;3m⚠ Restart to reload dependencies\u001b[0m\n",
            "If you are in a Jupyter or Colab notebook, you may need to restart Python in\n",
            "order to load all the package's dependencies. You can do this by selecting the\n",
            "'Restart kernel' or 'Restart runtime' option.\n"
          ]
        }
      ]
    },
    {
      "cell_type": "code",
      "source": [
        "import multiprocessing\n",
        "print(multiprocessing.cpu_count())  # Check available cores\n"
      ],
      "metadata": {
        "colab": {
          "base_uri": "https://localhost:8080/"
        },
        "id": "5-cQga56f3G2",
        "outputId": "bec2390b-5761-4d84-e3e7-4a319bdf5737"
      },
      "execution_count": null,
      "outputs": [
        {
          "output_type": "stream",
          "name": "stdout",
          "text": [
            "2\n"
          ]
        }
      ]
    },
    {
      "cell_type": "code",
      "metadata": {
        "id": "lH-TnEsHuCif",
        "outputId": "3d90d858-baca-4ac5-8a8b-4ad7ecc21c67",
        "colab": {
          "base_uri": "https://localhost:8080/"
        }
      },
      "source": [
        "from time import time\n",
        "import spacy\n",
        "nlp = spacy.load(\"en_core_web_sm\", disable=['ner', 'parser'])\n",
        "\n",
        "t = time()\n",
        "#spacy has the pipe method to increase the speed of prepocessing\n",
        "#we need it because we are removing the urls and all the stuff from nearly 100k rows\n",
        "#handles in batches\n",
        "text = [str(doc) for doc in nlp.pipe(brief_cleaning1, batch_size=5000, n_process=1)]\n",
        "\n",
        "\n",
        "print('Time to clean up everything: {} mins'.format(round((time() - t) / 60, 2)))\n"
      ],
      "execution_count": null,
      "outputs": [
        {
          "output_type": "stream",
          "name": "stdout",
          "text": [
            "Time to clean up everything: 0.38 mins\n"
          ]
        }
      ]
    },
    {
      "cell_type": "markdown",
      "source": [],
      "metadata": {
        "id": "MRiUnSl9YrXR"
      }
    },
    {
      "cell_type": "code",
      "metadata": {
        "id": "aVCMacQNuNrd",
        "outputId": "8e5c0f3f-5a0e-42fd-d629-2ebe9291b15e",
        "colab": {
          "base_uri": "https://localhost:8080/"
        }
      },
      "source": [
        "#adding sos and eos\n",
        "from time import time\n",
        "import spacy\n",
        "\n",
        "# Load spaCy model (ensure it's installed)\n",
        "nlp = spacy.load(\"en_core_web_sm\", disable=[\"ner\", \"parser\"])\n",
        "\n",
        "t = time()\n",
        "\n",
        "# Process text using `n_process` for parallel execution\n",
        "summary = ['SOS ' + str(doc) + ' EOS' for doc in nlp.pipe(brief_cleaning2, batch_size=5000, n_process=1)]\n",
        "\n",
        "print('Time to clean up everything: {} mins'.format(round((time() - t) / 60, 2)))\n"
      ],
      "execution_count": null,
      "outputs": [
        {
          "output_type": "stream",
          "name": "stdout",
          "text": [
            "Time to clean up everything: 0.1 mins\n"
          ]
        }
      ]
    },
    {
      "cell_type": "code",
      "metadata": {
        "id": "KcH0ZEr7v838",
        "outputId": "64b54eab-6c89-4459-85d8-f06f46c8cb40",
        "colab": {
          "base_uri": "https://localhost:8080/",
          "height": 70
        }
      },
      "source": [
        "text[0]"
      ],
      "execution_count": null,
      "outputs": [
        {
          "output_type": "execute_result",
          "data": {
            "text/plain": [
              "'saurav kant an alumnus of upgrad and iiit-b pg program in machine learning and artificial intelligence was sr systems engineer at infosys with almost years of work experience the program and upgrad 360-degree career support helped him transition to data scientist at tech mahindra with 90% salary hike upgrad online power learning has powered lakh+ careers.'"
            ],
            "application/vnd.google.colaboratory.intrinsic+json": {
              "type": "string"
            }
          },
          "metadata": {},
          "execution_count": 22
        }
      ]
    },
    {
      "cell_type": "code",
      "metadata": {
        "id": "tkQfHkl5v_Na",
        "outputId": "c2f211f6-1b12-459a-f315-01cc6af47ebe",
        "colab": {
          "base_uri": "https://localhost:8080/",
          "height": 35
        }
      },
      "source": [
        "summary[0]"
      ],
      "execution_count": null,
      "outputs": [
        {
          "output_type": "execute_result",
          "data": {
            "text/plain": [
              "'SOS upgrad learner switches to career in ml al with 90% salary hike EOS'"
            ],
            "application/vnd.google.colaboratory.intrinsic+json": {
              "type": "string"
            }
          },
          "metadata": {},
          "execution_count": 23
        }
      ]
    },
    {
      "cell_type": "code",
      "metadata": {
        "id": "57qLyWIawBf_"
      },
      "source": [
        "pre['cleaned_text'] = pd.Series(text)\n",
        "pre['cleaned_summary'] = pd.Series(summary)"
      ],
      "execution_count": null,
      "outputs": []
    },
    {
      "cell_type": "code",
      "metadata": {
        "id": "OeftCDgcwDai"
      },
      "source": [
        "text_count = []\n",
        "summary_count = []"
      ],
      "execution_count": null,
      "outputs": []
    },
    {
      "cell_type": "code",
      "metadata": {
        "id": "JQOY9_DtwGdR"
      },
      "source": [
        "for sent in pre['cleaned_text']:\n",
        "    text_count.append(len(sent.split()))\n",
        "for sent in pre['cleaned_summary']:\n",
        "    summary_count.append(len(sent.split()))"
      ],
      "execution_count": null,
      "outputs": []
    },
    {
      "cell_type": "code",
      "metadata": {
        "id": "6HjeTZLXwJH3"
      },
      "source": [
        "graph_df= pd.DataFrame()\n",
        "graph_df['text']=text_count\n",
        "graph_df['summary']=summary_count"
      ],
      "execution_count": null,
      "outputs": []
    },
    {
      "cell_type": "code",
      "metadata": {
        "id": "qYO4MapRwL-Y",
        "outputId": "f57da966-c6e1-4d1a-85d8-ca7d50b99af6",
        "colab": {
          "base_uri": "https://localhost:8080/"
        }
      },
      "source": [
        "#Check how much % of summary have 0-15 words\n",
        "cnt=0\n",
        "for i in pre['cleaned_summary']:\n",
        "    if(len(i.split())<=15):\n",
        "        cnt=cnt+1\n",
        "print(cnt/len(pre['cleaned_summary']))"
      ],
      "execution_count": null,
      "outputs": [
        {
          "output_type": "stream",
          "name": "stdout",
          "text": [
            "0.9936\n"
          ]
        }
      ]
    },
    {
      "cell_type": "code",
      "metadata": {
        "id": "N2EGaAGCwRvH",
        "outputId": "60c3b56c-0313-4ee5-883f-f8ce951a84f0",
        "colab": {
          "base_uri": "https://localhost:8080/"
        }
      },
      "source": [
        "#Check how much % of text have 0-60 words\n",
        "cnt=0\n",
        "for i in pre['cleaned_text']:\n",
        "    if(len(i.split())<=60):\n",
        "        cnt=cnt+1\n",
        "print(cnt/len(pre['cleaned_text']))"
      ],
      "execution_count": null,
      "outputs": [
        {
          "output_type": "stream",
          "name": "stdout",
          "text": [
            "0.9504\n"
          ]
        }
      ]
    },
    {
      "cell_type": "code",
      "metadata": {
        "id": "79bQpouIwT1y"
      },
      "source": [
        "max_text_len=65\n",
        "max_summary_len=15"
      ],
      "execution_count": null,
      "outputs": []
    },
    {
      "cell_type": "code",
      "metadata": {
        "id": "Wuzb7NHZwjYV"
      },
      "source": [
        "cleaned_text =np.array(pre['cleaned_text'])\n",
        "cleaned_summary=np.array(pre['cleaned_summary'])\n",
        "\n",
        "short_text=[]\n",
        "short_summary=[]\n",
        "\n",
        "for i in range(len(cleaned_text)):\n",
        "    if(len(cleaned_summary[i].split())<=max_summary_len and len(cleaned_text[i].split())<=max_text_len):\n",
        "        short_text.append(cleaned_text[i])\n",
        "        short_summary.append(cleaned_summary[i])\n",
        "\n",
        "post_pre=pd.DataFrame({'text':short_text,'summary':short_summary})"
      ],
      "execution_count": null,
      "outputs": []
    },
    {
      "cell_type": "code",
      "metadata": {
        "id": "-xwxwl66wmQ1",
        "outputId": "8a216e4a-77c8-4b83-dd0f-0e1649075a2a",
        "colab": {
          "base_uri": "https://localhost:8080/",
          "height": 112
        }
      },
      "source": [
        "post_pre.head(2)"
      ],
      "execution_count": null,
      "outputs": [
        {
          "output_type": "execute_result",
          "data": {
            "text/plain": [
              "                                                text  \\\n",
              "0  saurav kant an alumnus of upgrad and iiit-b pg...   \n",
              "1  kunal shah credit card bill payment platform c...   \n",
              "\n",
              "                                             summary  \n",
              "0  SOS upgrad learner switches to career in ml al...  \n",
              "1  SOS delhi techie wins free food from swiggy fo...  "
            ],
            "text/html": [
              "\n",
              "  <div id=\"df-01aef994-ddaa-4a96-9237-5985165b4522\" class=\"colab-df-container\">\n",
              "    <div>\n",
              "<style scoped>\n",
              "    .dataframe tbody tr th:only-of-type {\n",
              "        vertical-align: middle;\n",
              "    }\n",
              "\n",
              "    .dataframe tbody tr th {\n",
              "        vertical-align: top;\n",
              "    }\n",
              "\n",
              "    .dataframe thead th {\n",
              "        text-align: right;\n",
              "    }\n",
              "</style>\n",
              "<table border=\"1\" class=\"dataframe\">\n",
              "  <thead>\n",
              "    <tr style=\"text-align: right;\">\n",
              "      <th></th>\n",
              "      <th>text</th>\n",
              "      <th>summary</th>\n",
              "    </tr>\n",
              "  </thead>\n",
              "  <tbody>\n",
              "    <tr>\n",
              "      <th>0</th>\n",
              "      <td>saurav kant an alumnus of upgrad and iiit-b pg...</td>\n",
              "      <td>SOS upgrad learner switches to career in ml al...</td>\n",
              "    </tr>\n",
              "    <tr>\n",
              "      <th>1</th>\n",
              "      <td>kunal shah credit card bill payment platform c...</td>\n",
              "      <td>SOS delhi techie wins free food from swiggy fo...</td>\n",
              "    </tr>\n",
              "  </tbody>\n",
              "</table>\n",
              "</div>\n",
              "    <div class=\"colab-df-buttons\">\n",
              "\n",
              "  <div class=\"colab-df-container\">\n",
              "    <button class=\"colab-df-convert\" onclick=\"convertToInteractive('df-01aef994-ddaa-4a96-9237-5985165b4522')\"\n",
              "            title=\"Convert this dataframe to an interactive table.\"\n",
              "            style=\"display:none;\">\n",
              "\n",
              "  <svg xmlns=\"http://www.w3.org/2000/svg\" height=\"24px\" viewBox=\"0 -960 960 960\">\n",
              "    <path d=\"M120-120v-720h720v720H120Zm60-500h600v-160H180v160Zm220 220h160v-160H400v160Zm0 220h160v-160H400v160ZM180-400h160v-160H180v160Zm440 0h160v-160H620v160ZM180-180h160v-160H180v160Zm440 0h160v-160H620v160Z\"/>\n",
              "  </svg>\n",
              "    </button>\n",
              "\n",
              "  <style>\n",
              "    .colab-df-container {\n",
              "      display:flex;\n",
              "      gap: 12px;\n",
              "    }\n",
              "\n",
              "    .colab-df-convert {\n",
              "      background-color: #E8F0FE;\n",
              "      border: none;\n",
              "      border-radius: 50%;\n",
              "      cursor: pointer;\n",
              "      display: none;\n",
              "      fill: #1967D2;\n",
              "      height: 32px;\n",
              "      padding: 0 0 0 0;\n",
              "      width: 32px;\n",
              "    }\n",
              "\n",
              "    .colab-df-convert:hover {\n",
              "      background-color: #E2EBFA;\n",
              "      box-shadow: 0px 1px 2px rgba(60, 64, 67, 0.3), 0px 1px 3px 1px rgba(60, 64, 67, 0.15);\n",
              "      fill: #174EA6;\n",
              "    }\n",
              "\n",
              "    .colab-df-buttons div {\n",
              "      margin-bottom: 4px;\n",
              "    }\n",
              "\n",
              "    [theme=dark] .colab-df-convert {\n",
              "      background-color: #3B4455;\n",
              "      fill: #D2E3FC;\n",
              "    }\n",
              "\n",
              "    [theme=dark] .colab-df-convert:hover {\n",
              "      background-color: #434B5C;\n",
              "      box-shadow: 0px 1px 3px 1px rgba(0, 0, 0, 0.15);\n",
              "      filter: drop-shadow(0px 1px 2px rgba(0, 0, 0, 0.3));\n",
              "      fill: #FFFFFF;\n",
              "    }\n",
              "  </style>\n",
              "\n",
              "    <script>\n",
              "      const buttonEl =\n",
              "        document.querySelector('#df-01aef994-ddaa-4a96-9237-5985165b4522 button.colab-df-convert');\n",
              "      buttonEl.style.display =\n",
              "        google.colab.kernel.accessAllowed ? 'block' : 'none';\n",
              "\n",
              "      async function convertToInteractive(key) {\n",
              "        const element = document.querySelector('#df-01aef994-ddaa-4a96-9237-5985165b4522');\n",
              "        const dataTable =\n",
              "          await google.colab.kernel.invokeFunction('convertToInteractive',\n",
              "                                                    [key], {});\n",
              "        if (!dataTable) return;\n",
              "\n",
              "        const docLinkHtml = 'Like what you see? Visit the ' +\n",
              "          '<a target=\"_blank\" href=https://colab.research.google.com/notebooks/data_table.ipynb>data table notebook</a>'\n",
              "          + ' to learn more about interactive tables.';\n",
              "        element.innerHTML = '';\n",
              "        dataTable['output_type'] = 'display_data';\n",
              "        await google.colab.output.renderOutput(dataTable, element);\n",
              "        const docLink = document.createElement('div');\n",
              "        docLink.innerHTML = docLinkHtml;\n",
              "        element.appendChild(docLink);\n",
              "      }\n",
              "    </script>\n",
              "  </div>\n",
              "\n",
              "\n",
              "<div id=\"df-9ba7ecca-1fb9-4b98-a851-560099186a52\">\n",
              "  <button class=\"colab-df-quickchart\" onclick=\"quickchart('df-9ba7ecca-1fb9-4b98-a851-560099186a52')\"\n",
              "            title=\"Suggest charts\"\n",
              "            style=\"display:none;\">\n",
              "\n",
              "<svg xmlns=\"http://www.w3.org/2000/svg\" height=\"24px\"viewBox=\"0 0 24 24\"\n",
              "     width=\"24px\">\n",
              "    <g>\n",
              "        <path d=\"M19 3H5c-1.1 0-2 .9-2 2v14c0 1.1.9 2 2 2h14c1.1 0 2-.9 2-2V5c0-1.1-.9-2-2-2zM9 17H7v-7h2v7zm4 0h-2V7h2v10zm4 0h-2v-4h2v4z\"/>\n",
              "    </g>\n",
              "</svg>\n",
              "  </button>\n",
              "\n",
              "<style>\n",
              "  .colab-df-quickchart {\n",
              "      --bg-color: #E8F0FE;\n",
              "      --fill-color: #1967D2;\n",
              "      --hover-bg-color: #E2EBFA;\n",
              "      --hover-fill-color: #174EA6;\n",
              "      --disabled-fill-color: #AAA;\n",
              "      --disabled-bg-color: #DDD;\n",
              "  }\n",
              "\n",
              "  [theme=dark] .colab-df-quickchart {\n",
              "      --bg-color: #3B4455;\n",
              "      --fill-color: #D2E3FC;\n",
              "      --hover-bg-color: #434B5C;\n",
              "      --hover-fill-color: #FFFFFF;\n",
              "      --disabled-bg-color: #3B4455;\n",
              "      --disabled-fill-color: #666;\n",
              "  }\n",
              "\n",
              "  .colab-df-quickchart {\n",
              "    background-color: var(--bg-color);\n",
              "    border: none;\n",
              "    border-radius: 50%;\n",
              "    cursor: pointer;\n",
              "    display: none;\n",
              "    fill: var(--fill-color);\n",
              "    height: 32px;\n",
              "    padding: 0;\n",
              "    width: 32px;\n",
              "  }\n",
              "\n",
              "  .colab-df-quickchart:hover {\n",
              "    background-color: var(--hover-bg-color);\n",
              "    box-shadow: 0 1px 2px rgba(60, 64, 67, 0.3), 0 1px 3px 1px rgba(60, 64, 67, 0.15);\n",
              "    fill: var(--button-hover-fill-color);\n",
              "  }\n",
              "\n",
              "  .colab-df-quickchart-complete:disabled,\n",
              "  .colab-df-quickchart-complete:disabled:hover {\n",
              "    background-color: var(--disabled-bg-color);\n",
              "    fill: var(--disabled-fill-color);\n",
              "    box-shadow: none;\n",
              "  }\n",
              "\n",
              "  .colab-df-spinner {\n",
              "    border: 2px solid var(--fill-color);\n",
              "    border-color: transparent;\n",
              "    border-bottom-color: var(--fill-color);\n",
              "    animation:\n",
              "      spin 1s steps(1) infinite;\n",
              "  }\n",
              "\n",
              "  @keyframes spin {\n",
              "    0% {\n",
              "      border-color: transparent;\n",
              "      border-bottom-color: var(--fill-color);\n",
              "      border-left-color: var(--fill-color);\n",
              "    }\n",
              "    20% {\n",
              "      border-color: transparent;\n",
              "      border-left-color: var(--fill-color);\n",
              "      border-top-color: var(--fill-color);\n",
              "    }\n",
              "    30% {\n",
              "      border-color: transparent;\n",
              "      border-left-color: var(--fill-color);\n",
              "      border-top-color: var(--fill-color);\n",
              "      border-right-color: var(--fill-color);\n",
              "    }\n",
              "    40% {\n",
              "      border-color: transparent;\n",
              "      border-right-color: var(--fill-color);\n",
              "      border-top-color: var(--fill-color);\n",
              "    }\n",
              "    60% {\n",
              "      border-color: transparent;\n",
              "      border-right-color: var(--fill-color);\n",
              "    }\n",
              "    80% {\n",
              "      border-color: transparent;\n",
              "      border-right-color: var(--fill-color);\n",
              "      border-bottom-color: var(--fill-color);\n",
              "    }\n",
              "    90% {\n",
              "      border-color: transparent;\n",
              "      border-bottom-color: var(--fill-color);\n",
              "    }\n",
              "  }\n",
              "</style>\n",
              "\n",
              "  <script>\n",
              "    async function quickchart(key) {\n",
              "      const quickchartButtonEl =\n",
              "        document.querySelector('#' + key + ' button');\n",
              "      quickchartButtonEl.disabled = true;  // To prevent multiple clicks.\n",
              "      quickchartButtonEl.classList.add('colab-df-spinner');\n",
              "      try {\n",
              "        const charts = await google.colab.kernel.invokeFunction(\n",
              "            'suggestCharts', [key], {});\n",
              "      } catch (error) {\n",
              "        console.error('Error during call to suggestCharts:', error);\n",
              "      }\n",
              "      quickchartButtonEl.classList.remove('colab-df-spinner');\n",
              "      quickchartButtonEl.classList.add('colab-df-quickchart-complete');\n",
              "    }\n",
              "    (() => {\n",
              "      let quickchartButtonEl =\n",
              "        document.querySelector('#df-9ba7ecca-1fb9-4b98-a851-560099186a52 button');\n",
              "      quickchartButtonEl.style.display =\n",
              "        google.colab.kernel.accessAllowed ? 'block' : 'none';\n",
              "    })();\n",
              "  </script>\n",
              "</div>\n",
              "\n",
              "    </div>\n",
              "  </div>\n"
            ],
            "application/vnd.google.colaboratory.intrinsic+json": {
              "type": "dataframe",
              "variable_name": "post_pre",
              "summary": "{\n  \"name\": \"post_pre\",\n  \"rows\": 2484,\n  \"fields\": [\n    {\n      \"column\": \"text\",\n      \"properties\": {\n        \"dtype\": \"string\",\n        \"num_unique_values\": 2484,\n        \"samples\": [\n          \"around 10 000 people took part in the red scarves march in france on sunday chanting slogans like yes to democracy no to revolution to condemn the violence in the yellow vest protests the red scarves protestors said they re not against the demands of the yellow vest movement but oppose the violence that ensued since it began in november last year.\",\n          \"vicky kaushal said he wants to have the responsibility of audiences expectations at all times adding never want that pressure to come down and only want it to go up vicky further said he wants people to keep expecting from him because it good sign it only proves that they re concerned and affected by my work he said.\",\n          \"ex-australian pacer glenn mcgrath while talking about sachin tendulkar son arjun who is left-arm pacer said he will be winner if he has the love and passion for cricket like his father when you have name like tendulkar those are pretty big shoes to fill added mcgrath the 17-year-old was bowling in nets to india women players.\"\n        ],\n        \"semantic_type\": \"\",\n        \"description\": \"\"\n      }\n    },\n    {\n      \"column\": \"summary\",\n      \"properties\": {\n        \"dtype\": \"string\",\n        \"num_unique_values\": 2484,\n        \"samples\": [\n          \"SOS  red scarves march held against yellow vest violence in france EOS\",\n          \"SOS would never want pressure of audiences to come down vicky EOS\",\n          \"SOS arjun will be winner if he has sachin passion mcgrath EOS\"\n        ],\n        \"semantic_type\": \"\",\n        \"description\": \"\"\n      }\n    }\n  ]\n}"
            }
          },
          "metadata": {},
          "execution_count": 32
        }
      ]
    },
    {
      "cell_type": "code",
      "metadata": {
        "id": "XgI_-hh2woSU"
      },
      "source": [
        "post_pre['summary'] = post_pre['summary'].apply(lambda x : 'sostok '+ x + ' eostok')"
      ],
      "execution_count": null,
      "outputs": []
    },
    {
      "cell_type": "markdown",
      "source": [
        "**DATA PREPROCESSING COMPLETED**"
      ],
      "metadata": {
        "id": "1mG_KaJM47MD"
      }
    },
    {
      "cell_type": "code",
      "metadata": {
        "id": "ViB2EK7_y9KA"
      },
      "source": [
        "from sklearn.model_selection import train_test_split\n",
        "x_tr,x_val,y_tr,y_val=train_test_split(np.array(post_pre['text']),np.array(post_pre['summary']),test_size=0.1,random_state=0,shuffle=True)"
      ],
      "execution_count": null,
      "outputs": []
    },
    {
      "cell_type": "code",
      "source": [
        "pip install tensorflow\n"
      ],
      "metadata": {
        "colab": {
          "base_uri": "https://localhost:8080/"
        },
        "id": "I2AZthGZhWKp",
        "outputId": "c22fa0f4-28c8-4c5e-8138-c0fe65279409"
      },
      "execution_count": null,
      "outputs": [
        {
          "output_type": "stream",
          "name": "stdout",
          "text": [
            "Requirement already satisfied: tensorflow in /usr/local/lib/python3.11/dist-packages (2.18.0)\n",
            "Requirement already satisfied: absl-py>=1.0.0 in /usr/local/lib/python3.11/dist-packages (from tensorflow) (1.4.0)\n",
            "Requirement already satisfied: astunparse>=1.6.0 in /usr/local/lib/python3.11/dist-packages (from tensorflow) (1.6.3)\n",
            "Requirement already satisfied: flatbuffers>=24.3.25 in /usr/local/lib/python3.11/dist-packages (from tensorflow) (25.2.10)\n",
            "Requirement already satisfied: gast!=0.5.0,!=0.5.1,!=0.5.2,>=0.2.1 in /usr/local/lib/python3.11/dist-packages (from tensorflow) (0.6.0)\n",
            "Requirement already satisfied: google-pasta>=0.1.1 in /usr/local/lib/python3.11/dist-packages (from tensorflow) (0.2.0)\n",
            "Requirement already satisfied: libclang>=13.0.0 in /usr/local/lib/python3.11/dist-packages (from tensorflow) (18.1.1)\n",
            "Requirement already satisfied: opt-einsum>=2.3.2 in /usr/local/lib/python3.11/dist-packages (from tensorflow) (3.4.0)\n",
            "Requirement already satisfied: packaging in /usr/local/lib/python3.11/dist-packages (from tensorflow) (24.2)\n",
            "Requirement already satisfied: protobuf!=4.21.0,!=4.21.1,!=4.21.2,!=4.21.3,!=4.21.4,!=4.21.5,<6.0.0dev,>=3.20.3 in /usr/local/lib/python3.11/dist-packages (from tensorflow) (5.29.4)\n",
            "Requirement already satisfied: requests<3,>=2.21.0 in /usr/local/lib/python3.11/dist-packages (from tensorflow) (2.32.3)\n",
            "Requirement already satisfied: setuptools in /usr/local/lib/python3.11/dist-packages (from tensorflow) (75.2.0)\n",
            "Requirement already satisfied: six>=1.12.0 in /usr/local/lib/python3.11/dist-packages (from tensorflow) (1.17.0)\n",
            "Requirement already satisfied: termcolor>=1.1.0 in /usr/local/lib/python3.11/dist-packages (from tensorflow) (3.0.1)\n",
            "Requirement already satisfied: typing-extensions>=3.6.6 in /usr/local/lib/python3.11/dist-packages (from tensorflow) (4.13.1)\n",
            "Requirement already satisfied: wrapt>=1.11.0 in /usr/local/lib/python3.11/dist-packages (from tensorflow) (1.17.2)\n",
            "Requirement already satisfied: grpcio<2.0,>=1.24.3 in /usr/local/lib/python3.11/dist-packages (from tensorflow) (1.71.0)\n",
            "Requirement already satisfied: tensorboard<2.19,>=2.18 in /usr/local/lib/python3.11/dist-packages (from tensorflow) (2.18.0)\n",
            "Requirement already satisfied: keras>=3.5.0 in /usr/local/lib/python3.11/dist-packages (from tensorflow) (3.8.0)\n",
            "Requirement already satisfied: numpy<2.1.0,>=1.26.0 in /usr/local/lib/python3.11/dist-packages (from tensorflow) (2.0.2)\n",
            "Requirement already satisfied: h5py>=3.11.0 in /usr/local/lib/python3.11/dist-packages (from tensorflow) (3.13.0)\n",
            "Requirement already satisfied: ml-dtypes<0.5.0,>=0.4.0 in /usr/local/lib/python3.11/dist-packages (from tensorflow) (0.4.1)\n",
            "Requirement already satisfied: tensorflow-io-gcs-filesystem>=0.23.1 in /usr/local/lib/python3.11/dist-packages (from tensorflow) (0.37.1)\n",
            "Requirement already satisfied: wheel<1.0,>=0.23.0 in /usr/local/lib/python3.11/dist-packages (from astunparse>=1.6.0->tensorflow) (0.45.1)\n",
            "Requirement already satisfied: rich in /usr/local/lib/python3.11/dist-packages (from keras>=3.5.0->tensorflow) (13.9.4)\n",
            "Requirement already satisfied: namex in /usr/local/lib/python3.11/dist-packages (from keras>=3.5.0->tensorflow) (0.0.8)\n",
            "Requirement already satisfied: optree in /usr/local/lib/python3.11/dist-packages (from keras>=3.5.0->tensorflow) (0.14.1)\n",
            "Requirement already satisfied: charset-normalizer<4,>=2 in /usr/local/lib/python3.11/dist-packages (from requests<3,>=2.21.0->tensorflow) (3.4.1)\n",
            "Requirement already satisfied: idna<4,>=2.5 in /usr/local/lib/python3.11/dist-packages (from requests<3,>=2.21.0->tensorflow) (3.10)\n",
            "Requirement already satisfied: urllib3<3,>=1.21.1 in /usr/local/lib/python3.11/dist-packages (from requests<3,>=2.21.0->tensorflow) (2.3.0)\n",
            "Requirement already satisfied: certifi>=2017.4.17 in /usr/local/lib/python3.11/dist-packages (from requests<3,>=2.21.0->tensorflow) (2025.1.31)\n",
            "Requirement already satisfied: markdown>=2.6.8 in /usr/local/lib/python3.11/dist-packages (from tensorboard<2.19,>=2.18->tensorflow) (3.7)\n",
            "Requirement already satisfied: tensorboard-data-server<0.8.0,>=0.7.0 in /usr/local/lib/python3.11/dist-packages (from tensorboard<2.19,>=2.18->tensorflow) (0.7.2)\n",
            "Requirement already satisfied: werkzeug>=1.0.1 in /usr/local/lib/python3.11/dist-packages (from tensorboard<2.19,>=2.18->tensorflow) (3.1.3)\n",
            "Requirement already satisfied: MarkupSafe>=2.1.1 in /usr/local/lib/python3.11/dist-packages (from werkzeug>=1.0.1->tensorboard<2.19,>=2.18->tensorflow) (3.0.2)\n",
            "Requirement already satisfied: markdown-it-py>=2.2.0 in /usr/local/lib/python3.11/dist-packages (from rich->keras>=3.5.0->tensorflow) (3.0.0)\n",
            "Requirement already satisfied: pygments<3.0.0,>=2.13.0 in /usr/local/lib/python3.11/dist-packages (from rich->keras>=3.5.0->tensorflow) (2.18.0)\n",
            "Requirement already satisfied: mdurl~=0.1 in /usr/local/lib/python3.11/dist-packages (from markdown-it-py>=2.2.0->rich->keras>=3.5.0->tensorflow) (0.1.2)\n"
          ]
        }
      ]
    },
    {
      "cell_type": "code",
      "metadata": {
        "id": "jE5FQ3y_zAYd"
      },
      "source": [
        "from tensorflow.keras.preprocessing.text import Tokenizer\n",
        "from tensorflow.keras.preprocessing.sequence import pad_sequences\n",
        "\n",
        "\n",
        "x_tokenizer = Tokenizer()\n",
        "x_tokenizer.fit_on_texts(list(x_tr))"
      ],
      "execution_count": null,
      "outputs": []
    },
    {
      "cell_type": "code",
      "metadata": {
        "id": "prrb12BWzEFN",
        "outputId": "c0bd95fd-391f-44e4-b7e9-8fee139b98c3",
        "colab": {
          "base_uri": "https://localhost:8080/"
        }
      },
      "source": [
        "thresh_hold=4\n",
        "\n",
        "cnt=0\n",
        "tot_cnt=0\n",
        "freq=0\n",
        "tot_freq=0\n",
        "\n",
        "for key,value in x_tokenizer.word_counts.items():\n",
        "    tot_cnt=tot_cnt+1\n",
        "    tot_freq=tot_freq+value\n",
        "    if(value<thresh_hold):\n",
        "        cnt=cnt+1\n",
        "        freq=freq+value\n",
        "\n",
        "print(\"% of rare words in vocabulary:\",(cnt/tot_cnt)*100)\n",
        "print(\"Total Coverage of rare words:\",(freq/tot_freq)*100)"
      ],
      "execution_count": null,
      "outputs": [
        {
          "output_type": "stream",
          "name": "stdout",
          "text": [
            "% of rare words in vocabulary: 69.86957125017345\n",
            "Total Coverage of rare words: 11.59342471637761\n"
          ]
        }
      ]
    },
    {
      "cell_type": "code",
      "metadata": {
        "id": "C_xjk1XfzUG-",
        "outputId": "167a365b-c1d9-41a4-db02-e5fa0f52926c",
        "colab": {
          "base_uri": "https://localhost:8080/"
        }
      },
      "source": [
        "x_tokenizer = Tokenizer(num_words=tot_cnt-cnt)\n",
        "x_tokenizer.fit_on_texts(list(x_tr))\n",
        "\n",
        "#convert text sequences into integer sequences (i.e one-hot encodeing all the words)\n",
        "x_tr_seq    =   x_tokenizer.texts_to_sequences(x_tr)\n",
        "x_val_seq   =   x_tokenizer.texts_to_sequences(x_val)\n",
        "\n",
        "#padding zero upto maximum length\n",
        "x_tr    =   pad_sequences(x_tr_seq,  maxlen=max_text_len, padding='post')\n",
        "x_val   =   pad_sequences(x_val_seq, maxlen=max_text_len, padding='post')\n",
        "\n",
        "#size of vocabulary ( +1 for padding token)\n",
        "x_voc   =  x_tokenizer.num_words + 1\n",
        "\n",
        "print(\"Size of vocabulary in X = {}\".format(x_voc))\n"
      ],
      "execution_count": null,
      "outputs": [
        {
          "output_type": "stream",
          "name": "stdout",
          "text": [
            "Size of vocabulary in X = 4344\n"
          ]
        }
      ]
    },
    {
      "cell_type": "code",
      "metadata": {
        "id": "zsvksIiPzX_2"
      },
      "source": [
        "y_tokenizer = Tokenizer()\n",
        "y_tokenizer.fit_on_texts(list(y_tr))"
      ],
      "execution_count": null,
      "outputs": []
    },
    {
      "cell_type": "code",
      "metadata": {
        "id": "-ZugYc_GzcGt",
        "outputId": "a44dbaee-33ff-4766-86a6-57fce261da0e",
        "colab": {
          "base_uri": "https://localhost:8080/"
        }
      },
      "source": [
        "thresh_hold=6\n",
        "\n",
        "cnt=0\n",
        "tot_cnt=0\n",
        "freq=0\n",
        "tot_freq=0\n",
        "\n",
        "for key,value in y_tokenizer.word_counts.items():\n",
        "    tot_cnt=tot_cnt+1\n",
        "    tot_freq=tot_freq+value\n",
        "    if(value<thresh_hold):\n",
        "        cnt=cnt+1\n",
        "        freq=freq+value\n",
        "\n",
        "print(\"% of rare words in vocabulary:\",(cnt/tot_cnt)*100)\n",
        "print(\"Total Coverage of rare words:\",(freq/tot_freq)*100)"
      ],
      "execution_count": null,
      "outputs": [
        {
          "output_type": "stream",
          "name": "stdout",
          "text": [
            "% of rare words in vocabulary: 88.73172282263191\n",
            "Total Coverage of rare words: 29.958256479953405\n"
          ]
        }
      ]
    },
    {
      "cell_type": "code",
      "metadata": {
        "id": "GRMBK7x9ziYe",
        "outputId": "c758a20d-1ad7-45f5-a6ef-f7ff39a0c100",
        "colab": {
          "base_uri": "https://localhost:8080/"
        }
      },
      "source": [
        "y_tokenizer = Tokenizer(num_words=tot_cnt-cnt)\n",
        "y_tokenizer.fit_on_texts(list(y_tr))\n",
        "\n",
        "#convert text sequences into integer sequences (i.e one hot encode the text in Y)\n",
        "y_tr_seq    =   y_tokenizer.texts_to_sequences(y_tr)\n",
        "y_val_seq   =   y_tokenizer.texts_to_sequences(y_val)\n",
        "\n",
        "#padding zero upto maximum length\n",
        "y_tr    =   pad_sequences(y_tr_seq, maxlen=max_summary_len, padding='post')\n",
        "y_val   =   pad_sequences(y_val_seq, maxlen=max_summary_len, padding='post')\n",
        "\n",
        "#size of vocabulary\n",
        "y_voc  =   y_tokenizer.num_words +1\n",
        "print(\"Size of vocabulary in Y = {}\".format(y_voc))"
      ],
      "execution_count": null,
      "outputs": [
        {
          "output_type": "stream",
          "name": "stdout",
          "text": [
            "Size of vocabulary in Y = 710\n"
          ]
        }
      ]
    },
    {
      "cell_type": "code",
      "metadata": {
        "id": "ZBXlsgZN1Zir"
      },
      "source": [
        "#removing if only sos and eos\n",
        "ind=[]\n",
        "for i in range(len(y_tr)):\n",
        "    cnt=0\n",
        "    for j in y_tr[i]:\n",
        "        if j!=0:\n",
        "            cnt=cnt+1\n",
        "    if(cnt==2):\n",
        "        ind.append(i)\n",
        "\n",
        "y_tr=np.delete(y_tr,ind, axis=0)\n",
        "x_tr=np.delete(x_tr,ind, axis=0)"
      ],
      "execution_count": null,
      "outputs": []
    },
    {
      "cell_type": "code",
      "metadata": {
        "id": "qB7g1oeC1c_m"
      },
      "source": [
        "ind=[]\n",
        "for i in range(len(y_val)):\n",
        "    cnt=0\n",
        "    for j in y_val[i]:\n",
        "        if j!=0:\n",
        "            cnt=cnt+1\n",
        "    if(cnt==2):\n",
        "        ind.append(i)\n",
        "\n",
        "y_val=np.delete(y_val,ind, axis=0)\n",
        "x_val=np.delete(x_val,ind, axis=0)"
      ],
      "execution_count": null,
      "outputs": []
    },
    {
      "cell_type": "code",
      "source": [
        "!pip install gensim  # Install the missing library"
      ],
      "metadata": {
        "colab": {
          "base_uri": "https://localhost:8080/"
        },
        "id": "YlAVA60sUwa5",
        "outputId": "af43c0bb-cd5c-47e7-9db9-7dc7eeb3fe14"
      },
      "execution_count": null,
      "outputs": [
        {
          "output_type": "stream",
          "name": "stdout",
          "text": [
            "Collecting gensim\n",
            "  Downloading gensim-4.3.3-cp311-cp311-manylinux_2_17_x86_64.manylinux2014_x86_64.whl.metadata (8.1 kB)\n",
            "Collecting numpy<2.0,>=1.18.5 (from gensim)\n",
            "  Downloading numpy-1.26.4-cp311-cp311-manylinux_2_17_x86_64.manylinux2014_x86_64.whl.metadata (61 kB)\n",
            "\u001b[2K     \u001b[90m━━━━━━━━━━━━━━━━━━━━━━━━━━━━━━━━━━━━━━━━\u001b[0m \u001b[32m61.0/61.0 kB\u001b[0m \u001b[31m3.4 MB/s\u001b[0m eta \u001b[36m0:00:00\u001b[0m\n",
            "\u001b[?25hCollecting scipy<1.14.0,>=1.7.0 (from gensim)\n",
            "  Downloading scipy-1.13.1-cp311-cp311-manylinux_2_17_x86_64.manylinux2014_x86_64.whl.metadata (60 kB)\n",
            "\u001b[2K     \u001b[90m━━━━━━━━━━━━━━━━━━━━━━━━━━━━━━━━━━━━━━━━\u001b[0m \u001b[32m60.6/60.6 kB\u001b[0m \u001b[31m3.8 MB/s\u001b[0m eta \u001b[36m0:00:00\u001b[0m\n",
            "\u001b[?25hRequirement already satisfied: smart-open>=1.8.1 in /usr/local/lib/python3.11/dist-packages (from gensim) (7.1.0)\n",
            "Requirement already satisfied: wrapt in /usr/local/lib/python3.11/dist-packages (from smart-open>=1.8.1->gensim) (1.17.2)\n",
            "Downloading gensim-4.3.3-cp311-cp311-manylinux_2_17_x86_64.manylinux2014_x86_64.whl (26.7 MB)\n",
            "\u001b[2K   \u001b[90m━━━━━━━━━━━━━━━━━━━━━━━━━━━━━━━━━━━━━━━━\u001b[0m \u001b[32m26.7/26.7 MB\u001b[0m \u001b[31m32.5 MB/s\u001b[0m eta \u001b[36m0:00:00\u001b[0m\n",
            "\u001b[?25hDownloading numpy-1.26.4-cp311-cp311-manylinux_2_17_x86_64.manylinux2014_x86_64.whl (18.3 MB)\n",
            "\u001b[2K   \u001b[90m━━━━━━━━━━━━━━━━━━━━━━━━━━━━━━━━━━━━━━━━\u001b[0m \u001b[32m18.3/18.3 MB\u001b[0m \u001b[31m31.6 MB/s\u001b[0m eta \u001b[36m0:00:00\u001b[0m\n",
            "\u001b[?25hDownloading scipy-1.13.1-cp311-cp311-manylinux_2_17_x86_64.manylinux2014_x86_64.whl (38.6 MB)\n",
            "\u001b[2K   \u001b[90m━━━━━━━━━━━━━━━━━━━━━━━━━━━━━━━━━━━━━━━━\u001b[0m \u001b[32m38.6/38.6 MB\u001b[0m \u001b[31m12.2 MB/s\u001b[0m eta \u001b[36m0:00:00\u001b[0m\n",
            "\u001b[?25hInstalling collected packages: numpy, scipy, gensim\n",
            "  Attempting uninstall: numpy\n",
            "    Found existing installation: numpy 2.0.2\n",
            "    Uninstalling numpy-2.0.2:\n",
            "      Successfully uninstalled numpy-2.0.2\n",
            "  Attempting uninstall: scipy\n",
            "    Found existing installation: scipy 1.14.1\n",
            "    Uninstalling scipy-1.14.1:\n",
            "      Successfully uninstalled scipy-1.14.1\n",
            "Successfully installed gensim-4.3.3 numpy-1.26.4 scipy-1.13.1\n"
          ]
        }
      ]
    },
    {
      "cell_type": "code",
      "metadata": {
        "id": "ykzP16aY1l2_"
      },
      "source": [
        "# from tensorflow.keras import backend as K\n",
        "# import gensim\n",
        "# import numpy as np\n",
        "# import pandas as pd\n",
        "# import re\n",
        "# from bs4 import BeautifulSoup\n",
        "# from tensorflow.keras.preprocessing.text import Tokenizer\n",
        "# from tensorflow.keras.preprocessing.sequence import pad_sequences\n",
        "# from nltk.corpus import stopwords\n",
        "# from tensorflow.keras.layers import Input, LSTM, Embedding, Dense, Concatenate, TimeDistributed\n",
        "# from tensorflow.keras.models import Model\n",
        "# from tensorflow.keras.callbacks import EarlyStopping\n",
        "# import warnings\n",
        "\n",
        "# pd.set_option(\"display.max_colwidth\", 200)\n",
        "# warnings.filterwarnings(\"ignore\")\n",
        "\n",
        "# print(\"Size of vocabulary from the w2v model = {}\".format(x_voc))\n",
        "\n",
        "# K.clear_session()\n",
        "\n",
        "# latent_dim = 300\n",
        "# embedding_dim = 200\n",
        "\n",
        "# # Encoder\n",
        "# encoder_inputs = Input(shape=(max_text_len,))\n",
        "\n",
        "# # Embedding layer\n",
        "# enc_emb = Embedding(x_voc, embedding_dim, trainable=True)(encoder_inputs)\n",
        "\n",
        "# # Encoder LSTM layers\n",
        "# encoder_lstm1 = LSTM(latent_dim, return_sequences=True, return_state=True, dropout=0.4, recurrent_dropout=0.4)\n",
        "# encoder_output1, state_h1, state_c1 = encoder_lstm1(enc_emb)\n",
        "\n",
        "# encoder_lstm2 = LSTM(latent_dim, return_sequences=True, return_state=True, dropout=0.4, recurrent_dropout=0.4)\n",
        "# encoder_output2, state_h2, state_c2 = encoder_lstm2(encoder_output1)\n",
        "\n",
        "# encoder_lstm3 = LSTM(latent_dim, return_sequences=True, return_state=True, dropout=0.4, recurrent_dropout=0.4)\n",
        "# encoder_outputs, state_h, state_c = encoder_lstm3(encoder_output2)\n",
        "\n",
        "# # Decoder\n",
        "# decoder_inputs = Input(shape=(None,))\n",
        "\n",
        "# # Embedding layer\n",
        "# dec_emb_layer = Embedding(y_voc, embedding_dim, trainable=True)\n",
        "# dec_emb = dec_emb_layer(decoder_inputs)\n",
        "\n",
        "# decoder_lstm = LSTM(latent_dim, return_sequences=True, return_state=True, dropout=0.4, recurrent_dropout=0.2)\n",
        "# decoder_outputs, decoder_fwd_state, decoder_back_state = decoder_lstm(dec_emb, initial_state=[state_h, state_c])\n",
        "\n",
        "# # Dense layer\n",
        "# decoder_dense = TimeDistributed(Dense(y_voc, activation='softmax'))\n",
        "# decoder_outputs = decoder_dense(decoder_outputs)\n",
        "\n",
        "# # Define the model\n",
        "# model = Model([encoder_inputs, decoder_inputs], decoder_outputs)\n",
        "\n",
        "# model.summary()\n"
      ],
      "execution_count": null,
      "outputs": []
    },
    {
      "cell_type": "code",
      "source": [
        "from tensorflow.keras import backend as K\n",
        "import numpy as np\n",
        "import pandas as pd\n",
        "from tensorflow.keras.preprocessing.text import Tokenizer\n",
        "from tensorflow.keras.preprocessing.sequence import pad_sequences\n",
        "from tensorflow.keras.layers import Input, LSTM, Embedding, Dense, Concatenate, TimeDistributed\n",
        "from tensorflow.keras.models import Model\n",
        "from tensorflow.keras.callbacks import EarlyStopping\n",
        "import warnings\n",
        "\n",
        "pd.set_option(\"display.max_colwidth\", 200)\n",
        "warnings.filterwarnings(\"ignore\")\n",
        "\n",
        "K.clear_session()\n",
        "\n",
        "latent_dim = 300  # LSTM hidden units\n",
        "embedding_dim = 200  # Embedding size\n",
        "\n",
        "# Encoder\n",
        "encoder_inputs = Input(shape=(max_text_len,))\n",
        "\n",
        "# Embedding layer for encoder\n",
        "enc_emb = Embedding(x_voc, embedding_dim, trainable=True)(encoder_inputs)\n",
        "\n",
        "# 3 LSTM layers for the encoder\n",
        "encoder_lstm1 = LSTM(latent_dim, return_sequences=True, return_state=True, dropout=0.4, recurrent_dropout=0.4)\n",
        "encoder_output1, state_h1, state_c1 = encoder_lstm1(enc_emb)\n",
        "\n",
        "encoder_lstm2 = LSTM(latent_dim, return_sequences=True, return_state=True, dropout=0.4, recurrent_dropout=0.4)\n",
        "encoder_output2, state_h2, state_c2 = encoder_lstm2(encoder_output1)\n",
        "\n",
        "# encoder_lstm3 = LSTM(latent_dim, return_sequences=True, return_state=True, dropout=0.4, recurrent_dropout=0.4)\n",
        "encoder_outputs, state_h2, state_c2 = encoder_lstm2(encoder_output1)\n",
        "\n",
        "# Decoder\n",
        "decoder_inputs = Input(shape=(None,))\n",
        "\n",
        "# Embedding layer for decoder\n",
        "dec_emb_layer = Embedding(y_voc, embedding_dim, trainable=True)\n",
        "dec_emb = dec_emb_layer(decoder_inputs)\n",
        "\n",
        "# 3 LSTM layers for the decoder (matching encoder structure)\n",
        "decoder_lstm1 = LSTM(latent_dim, return_sequences=True, return_state=True, dropout=0.4, recurrent_dropout=0.2)\n",
        "decoder_output1, decoder_state_h1, decoder_state_c1 = decoder_lstm1(dec_emb, initial_state=[state_h2, state_c2])\n",
        "\n",
        "decoder_lstm2 = LSTM(latent_dim, return_sequences=True, return_state=True, dropout=0.4, recurrent_dropout=0.2)\n",
        "decoder_output2, decoder_state_h2, decoder_state_c2 = decoder_lstm2(decoder_output1, initial_state=[decoder_state_h1, decoder_state_c1])\n",
        "\n",
        "# decoder_lstm3 = LSTM(latent_dim, return_sequences=True, return_state=True, dropout=0.4, recurrent_dropout=0.2)\n",
        "decoder_outputs, decoder_state_h2, decoder_state_c2 = decoder_lstm2(decoder_output1, initial_state=[decoder_state_h1, decoder_state_c1])\n",
        "\n",
        "# Dense softmax layer to generate final outputs\n",
        "decoder_dense = TimeDistributed(Dense(y_voc, activation='softmax'))\n",
        "decoder_outputs = decoder_dense(decoder_outputs)\n",
        "\n",
        "# Define the model\n",
        "model = Model([encoder_inputs, decoder_inputs], decoder_outputs)\n",
        "\n",
        "model.summary()\n"
      ],
      "metadata": {
        "colab": {
          "base_uri": "https://localhost:8080/",
          "height": 612
        },
        "id": "XCuu_DED9Aam",
        "outputId": "a2db05cb-9d52-4fb1-903c-d31f44b5efda"
      },
      "execution_count": null,
      "outputs": [
        {
          "output_type": "display_data",
          "data": {
            "text/plain": [
              "\u001b[1mModel: \"functional\"\u001b[0m\n"
            ],
            "text/html": [
              "<pre style=\"white-space:pre;overflow-x:auto;line-height:normal;font-family:Menlo,'DejaVu Sans Mono',consolas,'Courier New',monospace\"><span style=\"font-weight: bold\">Model: \"functional\"</span>\n",
              "</pre>\n"
            ]
          },
          "metadata": {}
        },
        {
          "output_type": "display_data",
          "data": {
            "text/plain": [
              "┏━━━━━━━━━━━━━━━━━━━━━━━━━━━┳━━━━━━━━━━━━━━━━━━━━━━━━┳━━━━━━━━━━━━━━━━┳━━━━━━━━━━━━━━━━━━━━━━━━┓\n",
              "┃\u001b[1m \u001b[0m\u001b[1mLayer (type)             \u001b[0m\u001b[1m \u001b[0m┃\u001b[1m \u001b[0m\u001b[1mOutput Shape          \u001b[0m\u001b[1m \u001b[0m┃\u001b[1m \u001b[0m\u001b[1m       Param #\u001b[0m\u001b[1m \u001b[0m┃\u001b[1m \u001b[0m\u001b[1mConnected to          \u001b[0m\u001b[1m \u001b[0m┃\n",
              "┡━━━━━━━━━━━━━━━━━━━━━━━━━━━╇━━━━━━━━━━━━━━━━━━━━━━━━╇━━━━━━━━━━━━━━━━╇━━━━━━━━━━━━━━━━━━━━━━━━┩\n",
              "│ input_layer (\u001b[38;5;33mInputLayer\u001b[0m)  │ (\u001b[38;5;45mNone\u001b[0m, \u001b[38;5;34m65\u001b[0m)             │              \u001b[38;5;34m0\u001b[0m │ -                      │\n",
              "├───────────────────────────┼────────────────────────┼────────────────┼────────────────────────┤\n",
              "│ embedding (\u001b[38;5;33mEmbedding\u001b[0m)     │ (\u001b[38;5;45mNone\u001b[0m, \u001b[38;5;34m65\u001b[0m, \u001b[38;5;34m200\u001b[0m)        │        \u001b[38;5;34m868,800\u001b[0m │ input_layer[\u001b[38;5;34m0\u001b[0m][\u001b[38;5;34m0\u001b[0m]      │\n",
              "├───────────────────────────┼────────────────────────┼────────────────┼────────────────────────┤\n",
              "│ input_layer_1             │ (\u001b[38;5;45mNone\u001b[0m, \u001b[38;5;45mNone\u001b[0m)           │              \u001b[38;5;34m0\u001b[0m │ -                      │\n",
              "│ (\u001b[38;5;33mInputLayer\u001b[0m)              │                        │                │                        │\n",
              "├───────────────────────────┼────────────────────────┼────────────────┼────────────────────────┤\n",
              "│ lstm (\u001b[38;5;33mLSTM\u001b[0m)               │ [(\u001b[38;5;45mNone\u001b[0m, \u001b[38;5;34m65\u001b[0m, \u001b[38;5;34m300\u001b[0m),      │        \u001b[38;5;34m601,200\u001b[0m │ embedding[\u001b[38;5;34m0\u001b[0m][\u001b[38;5;34m0\u001b[0m]        │\n",
              "│                           │ (\u001b[38;5;45mNone\u001b[0m, \u001b[38;5;34m300\u001b[0m), (\u001b[38;5;45mNone\u001b[0m,    │                │                        │\n",
              "│                           │ \u001b[38;5;34m300\u001b[0m)]                  │                │                        │\n",
              "├───────────────────────────┼────────────────────────┼────────────────┼────────────────────────┤\n",
              "│ embedding_1 (\u001b[38;5;33mEmbedding\u001b[0m)   │ (\u001b[38;5;45mNone\u001b[0m, \u001b[38;5;45mNone\u001b[0m, \u001b[38;5;34m200\u001b[0m)      │        \u001b[38;5;34m142,000\u001b[0m │ input_layer_1[\u001b[38;5;34m0\u001b[0m][\u001b[38;5;34m0\u001b[0m]    │\n",
              "├───────────────────────────┼────────────────────────┼────────────────┼────────────────────────┤\n",
              "│ lstm_1 (\u001b[38;5;33mLSTM\u001b[0m)             │ [(\u001b[38;5;45mNone\u001b[0m, \u001b[38;5;34m65\u001b[0m, \u001b[38;5;34m300\u001b[0m),      │        \u001b[38;5;34m721,200\u001b[0m │ lstm[\u001b[38;5;34m0\u001b[0m][\u001b[38;5;34m0\u001b[0m]             │\n",
              "│                           │ (\u001b[38;5;45mNone\u001b[0m, \u001b[38;5;34m300\u001b[0m), (\u001b[38;5;45mNone\u001b[0m,    │                │                        │\n",
              "│                           │ \u001b[38;5;34m300\u001b[0m)]                  │                │                        │\n",
              "├───────────────────────────┼────────────────────────┼────────────────┼────────────────────────┤\n",
              "│ lstm_2 (\u001b[38;5;33mLSTM\u001b[0m)             │ [(\u001b[38;5;45mNone\u001b[0m, \u001b[38;5;45mNone\u001b[0m, \u001b[38;5;34m300\u001b[0m),    │        \u001b[38;5;34m601,200\u001b[0m │ embedding_1[\u001b[38;5;34m0\u001b[0m][\u001b[38;5;34m0\u001b[0m],     │\n",
              "│                           │ (\u001b[38;5;45mNone\u001b[0m, \u001b[38;5;34m300\u001b[0m), (\u001b[38;5;45mNone\u001b[0m,    │                │ lstm_1[\u001b[38;5;34m1\u001b[0m][\u001b[38;5;34m1\u001b[0m],          │\n",
              "│                           │ \u001b[38;5;34m300\u001b[0m)]                  │                │ lstm_1[\u001b[38;5;34m1\u001b[0m][\u001b[38;5;34m2\u001b[0m]           │\n",
              "├───────────────────────────┼────────────────────────┼────────────────┼────────────────────────┤\n",
              "│ lstm_3 (\u001b[38;5;33mLSTM\u001b[0m)             │ [(\u001b[38;5;45mNone\u001b[0m, \u001b[38;5;45mNone\u001b[0m, \u001b[38;5;34m300\u001b[0m),    │        \u001b[38;5;34m721,200\u001b[0m │ lstm_2[\u001b[38;5;34m0\u001b[0m][\u001b[38;5;34m0\u001b[0m],          │\n",
              "│                           │ (\u001b[38;5;45mNone\u001b[0m, \u001b[38;5;34m300\u001b[0m), (\u001b[38;5;45mNone\u001b[0m,    │                │ lstm_2[\u001b[38;5;34m0\u001b[0m][\u001b[38;5;34m1\u001b[0m],          │\n",
              "│                           │ \u001b[38;5;34m300\u001b[0m)]                  │                │ lstm_2[\u001b[38;5;34m0\u001b[0m][\u001b[38;5;34m2\u001b[0m]           │\n",
              "├───────────────────────────┼────────────────────────┼────────────────┼────────────────────────┤\n",
              "│ time_distributed          │ (\u001b[38;5;45mNone\u001b[0m, \u001b[38;5;45mNone\u001b[0m, \u001b[38;5;34m710\u001b[0m)      │        \u001b[38;5;34m213,710\u001b[0m │ lstm_3[\u001b[38;5;34m1\u001b[0m][\u001b[38;5;34m0\u001b[0m]           │\n",
              "│ (\u001b[38;5;33mTimeDistributed\u001b[0m)         │                        │                │                        │\n",
              "└───────────────────────────┴────────────────────────┴────────────────┴────────────────────────┘\n"
            ],
            "text/html": [
              "<pre style=\"white-space:pre;overflow-x:auto;line-height:normal;font-family:Menlo,'DejaVu Sans Mono',consolas,'Courier New',monospace\">┏━━━━━━━━━━━━━━━━━━━━━━━━━━━┳━━━━━━━━━━━━━━━━━━━━━━━━┳━━━━━━━━━━━━━━━━┳━━━━━━━━━━━━━━━━━━━━━━━━┓\n",
              "┃<span style=\"font-weight: bold\"> Layer (type)              </span>┃<span style=\"font-weight: bold\"> Output Shape           </span>┃<span style=\"font-weight: bold\">        Param # </span>┃<span style=\"font-weight: bold\"> Connected to           </span>┃\n",
              "┡━━━━━━━━━━━━━━━━━━━━━━━━━━━╇━━━━━━━━━━━━━━━━━━━━━━━━╇━━━━━━━━━━━━━━━━╇━━━━━━━━━━━━━━━━━━━━━━━━┩\n",
              "│ input_layer (<span style=\"color: #0087ff; text-decoration-color: #0087ff\">InputLayer</span>)  │ (<span style=\"color: #00d7ff; text-decoration-color: #00d7ff\">None</span>, <span style=\"color: #00af00; text-decoration-color: #00af00\">65</span>)             │              <span style=\"color: #00af00; text-decoration-color: #00af00\">0</span> │ -                      │\n",
              "├───────────────────────────┼────────────────────────┼────────────────┼────────────────────────┤\n",
              "│ embedding (<span style=\"color: #0087ff; text-decoration-color: #0087ff\">Embedding</span>)     │ (<span style=\"color: #00d7ff; text-decoration-color: #00d7ff\">None</span>, <span style=\"color: #00af00; text-decoration-color: #00af00\">65</span>, <span style=\"color: #00af00; text-decoration-color: #00af00\">200</span>)        │        <span style=\"color: #00af00; text-decoration-color: #00af00\">868,800</span> │ input_layer[<span style=\"color: #00af00; text-decoration-color: #00af00\">0</span>][<span style=\"color: #00af00; text-decoration-color: #00af00\">0</span>]      │\n",
              "├───────────────────────────┼────────────────────────┼────────────────┼────────────────────────┤\n",
              "│ input_layer_1             │ (<span style=\"color: #00d7ff; text-decoration-color: #00d7ff\">None</span>, <span style=\"color: #00d7ff; text-decoration-color: #00d7ff\">None</span>)           │              <span style=\"color: #00af00; text-decoration-color: #00af00\">0</span> │ -                      │\n",
              "│ (<span style=\"color: #0087ff; text-decoration-color: #0087ff\">InputLayer</span>)              │                        │                │                        │\n",
              "├───────────────────────────┼────────────────────────┼────────────────┼────────────────────────┤\n",
              "│ lstm (<span style=\"color: #0087ff; text-decoration-color: #0087ff\">LSTM</span>)               │ [(<span style=\"color: #00d7ff; text-decoration-color: #00d7ff\">None</span>, <span style=\"color: #00af00; text-decoration-color: #00af00\">65</span>, <span style=\"color: #00af00; text-decoration-color: #00af00\">300</span>),      │        <span style=\"color: #00af00; text-decoration-color: #00af00\">601,200</span> │ embedding[<span style=\"color: #00af00; text-decoration-color: #00af00\">0</span>][<span style=\"color: #00af00; text-decoration-color: #00af00\">0</span>]        │\n",
              "│                           │ (<span style=\"color: #00d7ff; text-decoration-color: #00d7ff\">None</span>, <span style=\"color: #00af00; text-decoration-color: #00af00\">300</span>), (<span style=\"color: #00d7ff; text-decoration-color: #00d7ff\">None</span>,    │                │                        │\n",
              "│                           │ <span style=\"color: #00af00; text-decoration-color: #00af00\">300</span>)]                  │                │                        │\n",
              "├───────────────────────────┼────────────────────────┼────────────────┼────────────────────────┤\n",
              "│ embedding_1 (<span style=\"color: #0087ff; text-decoration-color: #0087ff\">Embedding</span>)   │ (<span style=\"color: #00d7ff; text-decoration-color: #00d7ff\">None</span>, <span style=\"color: #00d7ff; text-decoration-color: #00d7ff\">None</span>, <span style=\"color: #00af00; text-decoration-color: #00af00\">200</span>)      │        <span style=\"color: #00af00; text-decoration-color: #00af00\">142,000</span> │ input_layer_1[<span style=\"color: #00af00; text-decoration-color: #00af00\">0</span>][<span style=\"color: #00af00; text-decoration-color: #00af00\">0</span>]    │\n",
              "├───────────────────────────┼────────────────────────┼────────────────┼────────────────────────┤\n",
              "│ lstm_1 (<span style=\"color: #0087ff; text-decoration-color: #0087ff\">LSTM</span>)             │ [(<span style=\"color: #00d7ff; text-decoration-color: #00d7ff\">None</span>, <span style=\"color: #00af00; text-decoration-color: #00af00\">65</span>, <span style=\"color: #00af00; text-decoration-color: #00af00\">300</span>),      │        <span style=\"color: #00af00; text-decoration-color: #00af00\">721,200</span> │ lstm[<span style=\"color: #00af00; text-decoration-color: #00af00\">0</span>][<span style=\"color: #00af00; text-decoration-color: #00af00\">0</span>]             │\n",
              "│                           │ (<span style=\"color: #00d7ff; text-decoration-color: #00d7ff\">None</span>, <span style=\"color: #00af00; text-decoration-color: #00af00\">300</span>), (<span style=\"color: #00d7ff; text-decoration-color: #00d7ff\">None</span>,    │                │                        │\n",
              "│                           │ <span style=\"color: #00af00; text-decoration-color: #00af00\">300</span>)]                  │                │                        │\n",
              "├───────────────────────────┼────────────────────────┼────────────────┼────────────────────────┤\n",
              "│ lstm_2 (<span style=\"color: #0087ff; text-decoration-color: #0087ff\">LSTM</span>)             │ [(<span style=\"color: #00d7ff; text-decoration-color: #00d7ff\">None</span>, <span style=\"color: #00d7ff; text-decoration-color: #00d7ff\">None</span>, <span style=\"color: #00af00; text-decoration-color: #00af00\">300</span>),    │        <span style=\"color: #00af00; text-decoration-color: #00af00\">601,200</span> │ embedding_1[<span style=\"color: #00af00; text-decoration-color: #00af00\">0</span>][<span style=\"color: #00af00; text-decoration-color: #00af00\">0</span>],     │\n",
              "│                           │ (<span style=\"color: #00d7ff; text-decoration-color: #00d7ff\">None</span>, <span style=\"color: #00af00; text-decoration-color: #00af00\">300</span>), (<span style=\"color: #00d7ff; text-decoration-color: #00d7ff\">None</span>,    │                │ lstm_1[<span style=\"color: #00af00; text-decoration-color: #00af00\">1</span>][<span style=\"color: #00af00; text-decoration-color: #00af00\">1</span>],          │\n",
              "│                           │ <span style=\"color: #00af00; text-decoration-color: #00af00\">300</span>)]                  │                │ lstm_1[<span style=\"color: #00af00; text-decoration-color: #00af00\">1</span>][<span style=\"color: #00af00; text-decoration-color: #00af00\">2</span>]           │\n",
              "├───────────────────────────┼────────────────────────┼────────────────┼────────────────────────┤\n",
              "│ lstm_3 (<span style=\"color: #0087ff; text-decoration-color: #0087ff\">LSTM</span>)             │ [(<span style=\"color: #00d7ff; text-decoration-color: #00d7ff\">None</span>, <span style=\"color: #00d7ff; text-decoration-color: #00d7ff\">None</span>, <span style=\"color: #00af00; text-decoration-color: #00af00\">300</span>),    │        <span style=\"color: #00af00; text-decoration-color: #00af00\">721,200</span> │ lstm_2[<span style=\"color: #00af00; text-decoration-color: #00af00\">0</span>][<span style=\"color: #00af00; text-decoration-color: #00af00\">0</span>],          │\n",
              "│                           │ (<span style=\"color: #00d7ff; text-decoration-color: #00d7ff\">None</span>, <span style=\"color: #00af00; text-decoration-color: #00af00\">300</span>), (<span style=\"color: #00d7ff; text-decoration-color: #00d7ff\">None</span>,    │                │ lstm_2[<span style=\"color: #00af00; text-decoration-color: #00af00\">0</span>][<span style=\"color: #00af00; text-decoration-color: #00af00\">1</span>],          │\n",
              "│                           │ <span style=\"color: #00af00; text-decoration-color: #00af00\">300</span>)]                  │                │ lstm_2[<span style=\"color: #00af00; text-decoration-color: #00af00\">0</span>][<span style=\"color: #00af00; text-decoration-color: #00af00\">2</span>]           │\n",
              "├───────────────────────────┼────────────────────────┼────────────────┼────────────────────────┤\n",
              "│ time_distributed          │ (<span style=\"color: #00d7ff; text-decoration-color: #00d7ff\">None</span>, <span style=\"color: #00d7ff; text-decoration-color: #00d7ff\">None</span>, <span style=\"color: #00af00; text-decoration-color: #00af00\">710</span>)      │        <span style=\"color: #00af00; text-decoration-color: #00af00\">213,710</span> │ lstm_3[<span style=\"color: #00af00; text-decoration-color: #00af00\">1</span>][<span style=\"color: #00af00; text-decoration-color: #00af00\">0</span>]           │\n",
              "│ (<span style=\"color: #0087ff; text-decoration-color: #0087ff\">TimeDistributed</span>)         │                        │                │                        │\n",
              "└───────────────────────────┴────────────────────────┴────────────────┴────────────────────────┘\n",
              "</pre>\n"
            ]
          },
          "metadata": {}
        },
        {
          "output_type": "display_data",
          "data": {
            "text/plain": [
              "\u001b[1m Total params: \u001b[0m\u001b[38;5;34m3,869,310\u001b[0m (14.76 MB)\n"
            ],
            "text/html": [
              "<pre style=\"white-space:pre;overflow-x:auto;line-height:normal;font-family:Menlo,'DejaVu Sans Mono',consolas,'Courier New',monospace\"><span style=\"font-weight: bold\"> Total params: </span><span style=\"color: #00af00; text-decoration-color: #00af00\">3,869,310</span> (14.76 MB)\n",
              "</pre>\n"
            ]
          },
          "metadata": {}
        },
        {
          "output_type": "display_data",
          "data": {
            "text/plain": [
              "\u001b[1m Trainable params: \u001b[0m\u001b[38;5;34m3,869,310\u001b[0m (14.76 MB)\n"
            ],
            "text/html": [
              "<pre style=\"white-space:pre;overflow-x:auto;line-height:normal;font-family:Menlo,'DejaVu Sans Mono',consolas,'Courier New',monospace\"><span style=\"font-weight: bold\"> Trainable params: </span><span style=\"color: #00af00; text-decoration-color: #00af00\">3,869,310</span> (14.76 MB)\n",
              "</pre>\n"
            ]
          },
          "metadata": {}
        },
        {
          "output_type": "display_data",
          "data": {
            "text/plain": [
              "\u001b[1m Non-trainable params: \u001b[0m\u001b[38;5;34m0\u001b[0m (0.00 B)\n"
            ],
            "text/html": [
              "<pre style=\"white-space:pre;overflow-x:auto;line-height:normal;font-family:Menlo,'DejaVu Sans Mono',consolas,'Courier New',monospace\"><span style=\"font-weight: bold\"> Non-trainable params: </span><span style=\"color: #00af00; text-decoration-color: #00af00\">0</span> (0.00 B)\n",
              "</pre>\n"
            ]
          },
          "metadata": {}
        }
      ]
    },
    {
      "cell_type": "code",
      "metadata": {
        "id": "htFMbQCr1rK9"
      },
      "source": [
        "from tensorflow.keras.optimizers import RMSprop\n",
        "from tensorflow.keras.callbacks import EarlyStopping\n",
        "\n",
        "# Reduce learning rate further to 0.0003 for more stable training\n",
        "optimizer = RMSprop(learning_rate=0.0003)\n",
        "\n",
        "# Update model compile step\n",
        "model.compile(optimizer=optimizer, loss='sparse_categorical_crossentropy')\n",
        "\n",
        "# Add EarlyStopping to stop training if val_loss doesn't improve for 5 consecutive epochs\n",
        "early_stopping = EarlyStopping(monitor='val_loss', patience=5, restore_best_weights=True, verbose=1)"
      ],
      "execution_count": null,
      "outputs": []
    },
    {
      "cell_type": "code",
      "source": [
        "import tensorflow as tf\n",
        "\n",
        "# Check if GPU is available\n",
        "if tf.config.list_physical_devices('GPU'):\n",
        "    print(\"GPU is available and being used.\")\n",
        "else:\n",
        "    print(\"GPU is not available. Running on CPU.\")\n",
        "\n",
        "# You can also get more details about the available devices:\n",
        "print(tf.config.list_physical_devices())"
      ],
      "metadata": {
        "id": "Fawr89hvVlRg",
        "outputId": "fb537b65-63e0-43b4-c0e2-e587a4bc3136",
        "colab": {
          "base_uri": "https://localhost:8080/"
        }
      },
      "execution_count": null,
      "outputs": [
        {
          "output_type": "stream",
          "name": "stdout",
          "text": [
            "GPU is available and being used.\n",
            "[PhysicalDevice(name='/physical_device:CPU:0', device_type='CPU'), PhysicalDevice(name='/physical_device:GPU:0', device_type='GPU')]\n"
          ]
        }
      ]
    },
    {
      "cell_type": "code",
      "metadata": {
        "id": "KpTeErqG1ybM",
        "outputId": "7f441712-e2d8-4ff3-a09c-b2b43c1dd557",
        "colab": {
          "base_uri": "https://localhost:8080/"
        }
      },
      "source": [
        " #Train model with early stopping\n",
        "history = model.fit(\n",
        "    [x_tr, y_tr[:, :-1]],\n",
        "    y_tr.reshape(y_tr.shape[0], y_tr.shape[1], 1)[:, 1:],\n",
        "    epochs=40,\n",
        "    batch_size=128,\n",
        "    validation_data=([x_val, y_val[:, :-1]], y_val.reshape(y_val.shape[0], y_val.shape[1], 1)[:, 1:]),\n",
        "    callbacks=[early_stopping]  # Include early stopping here\n",
        ")"
      ],
      "execution_count": null,
      "outputs": [
        {
          "output_type": "stream",
          "name": "stdout",
          "text": [
            "Epoch 1/40\n",
            "\u001b[1m18/18\u001b[0m \u001b[32m━━━━━━━━━━━━━━━━━━━━\u001b[0m\u001b[37m\u001b[0m \u001b[1m12s\u001b[0m 649ms/step - loss: 3.1398 - val_loss: 2.8272\n",
            "Epoch 2/40\n",
            "\u001b[1m18/18\u001b[0m \u001b[32m━━━━━━━━━━━━━━━━━━━━\u001b[0m\u001b[37m\u001b[0m \u001b[1m18s\u001b[0m 481ms/step - loss: 3.0148 - val_loss: 2.7699\n",
            "Epoch 3/40\n",
            "\u001b[1m18/18\u001b[0m \u001b[32m━━━━━━━━━━━━━━━━━━━━\u001b[0m\u001b[37m\u001b[0m \u001b[1m11s\u001b[0m 639ms/step - loss: 3.0024 - val_loss: 2.7453\n",
            "Epoch 4/40\n",
            "\u001b[1m18/18\u001b[0m \u001b[32m━━━━━━━━━━━━━━━━━━━━\u001b[0m\u001b[37m\u001b[0m \u001b[1m10s\u001b[0m 580ms/step - loss: 2.9506 - val_loss: 2.7664\n",
            "Epoch 5/40\n",
            "\u001b[1m18/18\u001b[0m \u001b[32m━━━━━━━━━━━━━━━━━━━━\u001b[0m\u001b[37m\u001b[0m \u001b[1m19s\u001b[0m 484ms/step - loss: 2.9773 - val_loss: 2.6909\n",
            "Epoch 6/40\n",
            "\u001b[1m18/18\u001b[0m \u001b[32m━━━━━━━━━━━━━━━━━━━━\u001b[0m\u001b[37m\u001b[0m \u001b[1m11s\u001b[0m 486ms/step - loss: 2.9055 - val_loss: 2.6266\n",
            "Epoch 7/40\n",
            "\u001b[1m18/18\u001b[0m \u001b[32m━━━━━━━━━━━━━━━━━━━━\u001b[0m\u001b[37m\u001b[0m \u001b[1m11s\u001b[0m 585ms/step - loss: 2.8666 - val_loss: 2.5395\n",
            "Epoch 8/40\n",
            "\u001b[1m18/18\u001b[0m \u001b[32m━━━━━━━━━━━━━━━━━━━━\u001b[0m\u001b[37m\u001b[0m \u001b[1m20s\u001b[0m 580ms/step - loss: 2.7964 - val_loss: 2.4805\n",
            "Epoch 9/40\n",
            "\u001b[1m18/18\u001b[0m \u001b[32m━━━━━━━━━━━━━━━━━━━━\u001b[0m\u001b[37m\u001b[0m \u001b[1m9s\u001b[0m 483ms/step - loss: 2.7170 - val_loss: 2.4655\n",
            "Epoch 10/40\n",
            "\u001b[1m18/18\u001b[0m \u001b[32m━━━━━━━━━━━━━━━━━━━━\u001b[0m\u001b[37m\u001b[0m \u001b[1m11s\u001b[0m 477ms/step - loss: 2.7178 - val_loss: 2.4199\n",
            "Epoch 11/40\n",
            "\u001b[1m18/18\u001b[0m \u001b[32m━━━━━━━━━━━━━━━━━━━━\u001b[0m\u001b[37m\u001b[0m \u001b[1m12s\u001b[0m 580ms/step - loss: 2.6664 - val_loss: 2.4169\n",
            "Epoch 12/40\n",
            "\u001b[1m18/18\u001b[0m \u001b[32m━━━━━━━━━━━━━━━━━━━━\u001b[0m\u001b[37m\u001b[0m \u001b[1m22s\u001b[0m 683ms/step - loss: 2.6594 - val_loss: 2.3854\n",
            "Epoch 13/40\n",
            "\u001b[1m18/18\u001b[0m \u001b[32m━━━━━━━━━━━━━━━━━━━━\u001b[0m\u001b[37m\u001b[0m \u001b[1m10s\u001b[0m 552ms/step - loss: 2.6157 - val_loss: 2.3828\n",
            "Epoch 14/40\n",
            "\u001b[1m18/18\u001b[0m \u001b[32m━━━━━━━━━━━━━━━━━━━━\u001b[0m\u001b[37m\u001b[0m \u001b[1m9s\u001b[0m 477ms/step - loss: 2.6383 - val_loss: 2.3795\n",
            "Epoch 15/40\n",
            "\u001b[1m18/18\u001b[0m \u001b[32m━━━━━━━━━━━━━━━━━━━━\u001b[0m\u001b[37m\u001b[0m \u001b[1m12s\u001b[0m 572ms/step - loss: 2.6007 - val_loss: 2.3355\n",
            "Epoch 16/40\n",
            "\u001b[1m18/18\u001b[0m \u001b[32m━━━━━━━━━━━━━━━━━━━━\u001b[0m\u001b[37m\u001b[0m \u001b[1m20s\u001b[0m 584ms/step - loss: 2.5793 - val_loss: 2.3262\n",
            "Epoch 17/40\n",
            "\u001b[1m18/18\u001b[0m \u001b[32m━━━━━━━━━━━━━━━━━━━━\u001b[0m\u001b[37m\u001b[0m \u001b[1m19s\u001b[0m 477ms/step - loss: 2.5652 - val_loss: 2.3298\n",
            "Epoch 18/40\n",
            "\u001b[1m18/18\u001b[0m \u001b[32m━━━━━━━━━━━━━━━━━━━━\u001b[0m\u001b[37m\u001b[0m \u001b[1m12s\u001b[0m 539ms/step - loss: 2.5557 - val_loss: 2.3494\n",
            "Epoch 19/40\n",
            "\u001b[1m18/18\u001b[0m \u001b[32m━━━━━━━━━━━━━━━━━━━━\u001b[0m\u001b[37m\u001b[0m \u001b[1m10s\u001b[0m 578ms/step - loss: 2.5373 - val_loss: 2.2718\n",
            "Epoch 20/40\n",
            "\u001b[1m18/18\u001b[0m \u001b[32m━━━━━━━━━━━━━━━━━━━━\u001b[0m\u001b[37m\u001b[0m \u001b[1m19s\u001b[0m 515ms/step - loss: 2.4989 - val_loss: 2.3277\n",
            "Epoch 21/40\n",
            "\u001b[1m18/18\u001b[0m \u001b[32m━━━━━━━━━━━━━━━━━━━━\u001b[0m\u001b[37m\u001b[0m \u001b[1m9s\u001b[0m 469ms/step - loss: 2.5103 - val_loss: 2.3042\n",
            "Epoch 22/40\n",
            "\u001b[1m18/18\u001b[0m \u001b[32m━━━━━━━━━━━━━━━━━━━━\u001b[0m\u001b[37m\u001b[0m \u001b[1m10s\u001b[0m 580ms/step - loss: 2.5039 - val_loss: 2.2698\n",
            "Epoch 23/40\n",
            "\u001b[1m18/18\u001b[0m \u001b[32m━━━━━━━━━━━━━━━━━━━━\u001b[0m\u001b[37m\u001b[0m \u001b[1m20s\u001b[0m 573ms/step - loss: 2.4800 - val_loss: 2.2997\n",
            "Epoch 24/40\n",
            "\u001b[1m18/18\u001b[0m \u001b[32m━━━━━━━━━━━━━━━━━━━━\u001b[0m\u001b[37m\u001b[0m \u001b[1m20s\u001b[0m 509ms/step - loss: 2.4769 - val_loss: 2.2355\n",
            "Epoch 25/40\n",
            "\u001b[1m18/18\u001b[0m \u001b[32m━━━━━━━━━━━━━━━━━━━━\u001b[0m\u001b[37m\u001b[0m \u001b[1m10s\u001b[0m 582ms/step - loss: 2.4670 - val_loss: 2.2191\n",
            "Epoch 26/40\n",
            "\u001b[1m18/18\u001b[0m \u001b[32m━━━━━━━━━━━━━━━━━━━━\u001b[0m\u001b[37m\u001b[0m \u001b[1m20s\u001b[0m 551ms/step - loss: 2.4453 - val_loss: 2.2158\n",
            "Epoch 27/40\n",
            "\u001b[1m18/18\u001b[0m \u001b[32m━━━━━━━━━━━━━━━━━━━━\u001b[0m\u001b[37m\u001b[0m \u001b[1m9s\u001b[0m 471ms/step - loss: 2.4740 - val_loss: 2.3270\n",
            "Epoch 28/40\n",
            "\u001b[1m18/18\u001b[0m \u001b[32m━━━━━━━━━━━━━━━━━━━━\u001b[0m\u001b[37m\u001b[0m \u001b[1m10s\u001b[0m 578ms/step - loss: 2.4793 - val_loss: 2.2253\n",
            "Epoch 29/40\n",
            "\u001b[1m18/18\u001b[0m \u001b[32m━━━━━━━━━━━━━━━━━━━━\u001b[0m\u001b[37m\u001b[0m \u001b[1m10s\u001b[0m 571ms/step - loss: 2.4046 - val_loss: 2.2023\n",
            "Epoch 30/40\n",
            "\u001b[1m18/18\u001b[0m \u001b[32m━━━━━━━━━━━━━━━━━━━━\u001b[0m\u001b[37m\u001b[0m \u001b[1m9s\u001b[0m 510ms/step - loss: 2.4362 - val_loss: 2.1965\n",
            "Epoch 31/40\n",
            "\u001b[1m18/18\u001b[0m \u001b[32m━━━━━━━━━━━━━━━━━━━━\u001b[0m\u001b[37m\u001b[0m \u001b[1m10s\u001b[0m 470ms/step - loss: 2.4261 - val_loss: 2.1904\n",
            "Epoch 32/40\n",
            "\u001b[1m18/18\u001b[0m \u001b[32m━━━━━━━━━━━━━━━━━━━━\u001b[0m\u001b[37m\u001b[0m \u001b[1m10s\u001b[0m 575ms/step - loss: 2.4102 - val_loss: 2.1896\n",
            "Epoch 33/40\n",
            "\u001b[1m18/18\u001b[0m \u001b[32m━━━━━━━━━━━━━━━━━━━━\u001b[0m\u001b[37m\u001b[0m \u001b[1m10s\u001b[0m 581ms/step - loss: 2.4169 - val_loss: 2.1853\n",
            "Epoch 34/40\n",
            "\u001b[1m18/18\u001b[0m \u001b[32m━━━━━━━━━━━━━━━━━━━━\u001b[0m\u001b[37m\u001b[0m \u001b[1m19s\u001b[0m 472ms/step - loss: 2.4074 - val_loss: 2.1808\n",
            "Epoch 35/40\n",
            "\u001b[1m18/18\u001b[0m \u001b[32m━━━━━━━━━━━━━━━━━━━━\u001b[0m\u001b[37m\u001b[0m \u001b[1m13s\u001b[0m 610ms/step - loss: 2.4002 - val_loss: 2.1794\n",
            "Epoch 36/40\n",
            "\u001b[1m18/18\u001b[0m \u001b[32m━━━━━━━━━━━━━━━━━━━━\u001b[0m\u001b[37m\u001b[0m \u001b[1m19s\u001b[0m 581ms/step - loss: 2.3937 - val_loss: 2.1765\n",
            "Epoch 37/40\n",
            "\u001b[1m18/18\u001b[0m \u001b[32m━━━━━━━━━━━━━━━━━━━━\u001b[0m\u001b[37m\u001b[0m \u001b[1m19s\u001b[0m 487ms/step - loss: 2.3645 - val_loss: 2.1785\n",
            "Epoch 38/40\n",
            "\u001b[1m18/18\u001b[0m \u001b[32m━━━━━━━━━━━━━━━━━━━━\u001b[0m\u001b[37m\u001b[0m \u001b[1m10s\u001b[0m 476ms/step - loss: 2.4200 - val_loss: 2.1708\n",
            "Epoch 39/40\n",
            "\u001b[1m18/18\u001b[0m \u001b[32m━━━━━━━━━━━━━━━━━━━━\u001b[0m\u001b[37m\u001b[0m \u001b[1m12s\u001b[0m 555ms/step - loss: 2.3609 - val_loss: 2.1716\n",
            "Epoch 40/40\n",
            "\u001b[1m18/18\u001b[0m \u001b[32m━━━━━━━━━━━━━━━━━━━━\u001b[0m\u001b[37m\u001b[0m \u001b[1m21s\u001b[0m 587ms/step - loss: 2.3569 - val_loss: 2.2084\n",
            "Restoring model weights from the end of the best epoch: 38.\n"
          ]
        }
      ]
    },
    {
      "cell_type": "code",
      "metadata": {
        "id": "V0PlIT3t106k",
        "colab": {
          "base_uri": "https://localhost:8080/",
          "height": 430
        },
        "outputId": "7c5e342c-59da-4b8b-8b82-52a2cbc3f232"
      },
      "source": [
        "from matplotlib import pyplot\n",
        "pyplot.plot(history.history['loss'], label='train')\n",
        "pyplot.plot(history.history['val_loss'], label='test')\n",
        "pyplot.legend()\n",
        "pyplot.show()"
      ],
      "execution_count": null,
      "outputs": [
        {
          "output_type": "display_data",
          "data": {
            "text/plain": [
              "<Figure size 640x480 with 1 Axes>"
            ],
            "image/png": "[encoded data removed]"
          },
          "metadata": {}
        }
      ]
    },
    {
      "cell_type": "code",
      "metadata": {
        "id": "oJ8lyIhB2oOT"
      },
      "source": [
        "reverse_target_word_index=y_tokenizer.index_word\n",
        "reverse_source_word_index=x_tokenizer.index_word\n",
        "target_word_index=y_tokenizer.word_index"
      ],
      "execution_count": null,
      "outputs": []
    },
    {
      "cell_type": "code",
      "metadata": {
        "id": "p1cpOJ9e2t5I"
      },
      "source": [
        "# Encoder Model\n",
        "encoder_model = Model(inputs=encoder_inputs, outputs=[encoder_outputs, state_h2, state_c2])\n",
        "\n",
        "# Decoder setup\n",
        "# Inputs for the decoder's previous state\n",
        "decoder_state_input_h = Input(shape=(latent_dim,))\n",
        "decoder_state_input_c = Input(shape=(latent_dim,))\n",
        "decoder_hidden_state_input = Input(shape=(max_text_len, latent_dim))\n",
        "\n",
        "# Get the embeddings of the decoder sequence\n",
        "dec_emb2 = dec_emb_layer(decoder_inputs)\n",
        "\n",
        "# 3 LSTM layers for the decoder (matching training model)\n",
        "decoder_output1, decoder_state_h1, decoder_state_c1 = decoder_lstm1(dec_emb2, initial_state=[decoder_state_input_h, decoder_state_input_c])\n",
        "decoder_output2, decoder_state_h2, decoder_state_c2 = decoder_lstm2(decoder_output1, initial_state=[decoder_state_h1, decoder_state_c1])\n",
        "# decoder_outputs3, decoder_state_h3, decoder_state_c3 = decoder_lstm3(decoder_output2, initial_state=[decoder_state_h2, decoder_state_c2])\n",
        "\n",
        "# Dense softmax layer to generate probability distribution over the target vocabulary\n",
        "decoder_outputs2 = decoder_dense(decoder_output1)\n",
        "\n",
        "# Final decoder model\n",
        "decoder_model = Model(\n",
        "    [decoder_inputs, decoder_hidden_state_input, decoder_state_input_h, decoder_state_input_c],\n",
        "    [decoder_outputs2, decoder_state_h2, decoder_state_c2]\n",
        ")\n"
      ],
      "execution_count": null,
      "outputs": []
    },
    {
      "cell_type": "code",
      "source": [
        "##retrieves word to index mapping\n",
        "#Ensure the target word index is taken from the actual tokenizer\n",
        "target_word_index = y_tokenizer.word_index\n",
        "\n",
        "# Correctly rebuild reverse_target_word_index\n",
        "reverse_target_word_index = {v: k for k, v in target_word_index.items()}"
      ],
      "metadata": {
        "id": "a_M5_tqzBJRH"
      },
      "execution_count": null,
      "outputs": []
    },
    {
      "cell_type": "code",
      "source": [
        "\n",
        "# Cell 117\n",
        "reverse_target_word_index = {v: k for k, v in target_word_index.items()}"
      ],
      "metadata": {
        "id": "aSy7t5wPi-dk"
      },
      "execution_count": null,
      "outputs": []
    },
    {
      "cell_type": "code",
      "source": [
        "print(\"Is '[UNK]' in target_word_index?\", \"[UNK]\" in target_word_index) # Changed target_word_index.word_index to target_word_index"
      ],
      "metadata": {
        "colab": {
          "base_uri": "https://localhost:8080/"
        },
        "id": "EJC-6MqikNxR",
        "outputId": "185a2a12-6946-4dbb-ace0-96cb2fc348d4"
      },
      "execution_count": null,
      "outputs": [
        {
          "output_type": "stream",
          "name": "stdout",
          "text": [
            "Is '[UNK]' in target_word_index? False\n"
          ]
        }
      ]
    },
    {
      "cell_type": "code",
      "source": [
        "print(\"Is '[UNK]' in target_word_index?\", \"[UNK]\" in target_word_index)\n"
      ],
      "metadata": {
        "colab": {
          "base_uri": "https://localhost:8080/"
        },
        "id": "muv2viuIllGR",
        "outputId": "9d254e1f-87a7-4dba-c295-33ee4cb3c1e3"
      },
      "execution_count": null,
      "outputs": [
        {
          "output_type": "stream",
          "name": "stdout",
          "text": [
            "Is '[UNK]' in target_word_index? False\n"
          ]
        }
      ]
    },
    {
      "cell_type": "code",
      "source": [
        "target_word_index[\"[UNK]\"] = len(target_word_index) + 1\n",
        "reverse_target_word_index[len(target_word_index)] = \"[UNK]\"\n"
      ],
      "metadata": {
        "id": "-gZX_ENxlny6"
      },
      "execution_count": null,
      "outputs": []
    },
    {
      "cell_type": "code",
      "source": [
        "# Get the current number of words in the vocabulary (including UNK, if already present)\n",
        "num_words = len(target_word_index)  # Removed .word_index\n",
        "\n",
        "# Add 1 to assign the index to '[UNK]'\n",
        "target_word_index[\"[UNK]\"] = num_words + 1\n",
        "\n",
        "# Update reverse_target_word_index\n",
        "reverse_target_word_index = {v: k for k, v in target_word_index.items()}  # Removed .word_index"
      ],
      "metadata": {
        "id": "yN7pT6WmkQb-"
      },
      "execution_count": null,
      "outputs": []
    },
    {
      "cell_type": "code",
      "metadata": {
        "id": "G1wcxvzP2ybO"
      },
      "source": [
        "def decode_sequence(input_seq):\n",
        "    # Encode the input sequence to get the initial states\n",
        "    e_out, e_h, e_c = encoder_model.predict(input_seq)\n",
        "\n",
        "    # Start with an empty target sequence (1 timestep)\n",
        "    target_seq = np.zeros((1, 1))\n",
        "    target_seq[0, 0] = target_word_index.get('sostok', 0)  # Ensure sostok exists\n",
        "\n",
        "    decoded_sentence = []\n",
        "    max_iterations = max_summary_len  # Prevents infinite loop\n",
        "\n",
        "    for _ in range(max_iterations):\n",
        "        # Predict next word & update states\n",
        "        output_tokens, h, c = decoder_model.predict([target_seq] + [e_out, e_h, e_c])\n",
        "\n",
        "        # Get the token with the highest probability\n",
        "        sampled_token_index = np.argmax(output_tokens[0, -1, :])\n",
        "\n",
        "        # Debugging: Print predicted token index\n",
        "        print(f\"Predicted token index: {sampled_token_index}\")\n",
        "\n",
        "        # Handle unknown token case\n",
        "        if sampled_token_index in reverse_target_word_index:\n",
        "            sampled_token = reverse_target_word_index[sampled_token_index]\n",
        "        else:\n",
        "            print(f\"[WARNING] Unknown token index: {sampled_token_index}\")  # Debugging\n",
        "            sampled_token = \"[UNK]\"  # Placeholder for unknown words\n",
        "\n",
        "        # Stop if end token (eostok) is reached\n",
        "        if sampled_token == 'eostok':\n",
        "            break\n",
        "\n",
        "        # Append word to decoded sentence\n",
        "        decoded_sentence.append(sampled_token)\n",
        "\n",
        "        # Update target sequence for the next prediction step\n",
        "        target_seq = np.zeros((1, 1))\n",
        "        target_seq[0, 0] = sampled_token_index\n",
        "\n",
        "        # Update LSTM states\n",
        "        e_h, e_c = h, c\n",
        "\n",
        "    return ' '.join(decoded_sentence)  # Return formatted summary\n"
      ],
      "execution_count": null,
      "outputs": []
    },
    {
      "cell_type": "code",
      "metadata": {
        "id": "EI51tKki23MX"
      },
      "source": [
        "def seq2summary(input_seq):\n",
        "    newString=''\n",
        "    for i in input_seq:\n",
        "        if((i!=0 and i!=target_word_index['sostok']) and i!=target_word_index['eostok']):\n",
        "            newString=newString+reverse_target_word_index[i]+' '\n",
        "    return newString\n",
        "\n",
        "def seq2text(input_seq):\n",
        "    newString=''\n",
        "    for i in input_seq:\n",
        "        if(i!=0):\n",
        "            newString=newString+reverse_source_word_index[i]+' '\n",
        "    return newString"
      ],
      "execution_count": null,
      "outputs": []
    },
    {
      "cell_type": "code",
      "source": [
        "# Print some mappings to check if words exist\n",
        "for i in range(10):\n",
        "    print(i, reverse_target_word_index.get(i, \"[UNK]\"))\n"
      ],
      "metadata": {
        "colab": {
          "base_uri": "https://localhost:8080/"
        },
        "id": "1KmlLNIYia84",
        "outputId": "50419202-4b5c-4777-b29e-c30ad0cb60dc"
      },
      "execution_count": null,
      "outputs": [
        {
          "output_type": "stream",
          "name": "stdout",
          "text": [
            "0 [UNK]\n",
            "1 sostok\n",
            "2 sos\n",
            "3 eos\n",
            "4 eostok\n",
            "5 to\n",
            "6 in\n",
            "7 for\n",
            "8 on\n",
            "9 of\n"
          ]
        }
      ]
    },
    {
      "cell_type": "code",
      "source": [
        "print(f\"Total words in target_word_index: {len(target_word_index)}\")\n",
        "print(f\"Total words in reverse_target_word_index: {len(reverse_target_word_index)}\")\n"
      ],
      "metadata": {
        "colab": {
          "base_uri": "https://localhost:8080/"
        },
        "id": "nlwUh6YJilfu",
        "outputId": "57a1f0f4-7a04-4b60-b367-7aea698962a5"
      },
      "execution_count": null,
      "outputs": [
        {
          "output_type": "stream",
          "name": "stdout",
          "text": [
            "Total words in target_word_index: 6293\n",
            "Total words in reverse_target_word_index: 6293\n"
          ]
        }
      ]
    },
    {
      "cell_type": "code",
      "source": [],
      "metadata": {
        "id": "7n7BgxLfilcO"
      },
      "execution_count": null,
      "outputs": []
    },
    {
      "cell_type": "code",
      "metadata": {
        "id": "k0mj_Bgk26n2",
        "colab": {
          "base_uri": "https://localhost:8080/"
        },
        "outputId": "17c24d4e-e804-4986-a9a7-46b3c14cf61d"
      },
      "source": [
        "for i in range(0,5):\n",
        "    print(\"Review:\",seq2text(x_tr[i]))\n",
        "    print(\"Original summary:\",seq2summary(y_tr[i]))\n",
        "    print(\"Predicted summary:\",decode_sequence(x_tr[i].reshape(1,max_text_len)))\n",
        "    print(\"\\n\")\n",
        "    #abstractive summarization"
      ],
      "execution_count": null,
      "outputs": [
        {
          "output_type": "stream",
          "name": "stdout",
          "text": [
            "Review: shiv sena chief uddhav thackeray has slammed prime minister narendra modi for power and taking away the independence of the states do we have true democracy in the country if all affairs are going to be run according to the wishes of the prime minister thackeray questioned in an interview to the party \n",
            "Original summary: sos sena slams pm modi for power eos \n",
            "\u001b[1m1/1\u001b[0m \u001b[32m━━━━━━━━━━━━━━━━━━━━\u001b[0m\u001b[37m\u001b[0m \u001b[1m1s\u001b[0m 810ms/step\n",
            "\u001b[1m1/1\u001b[0m \u001b[32m━━━━━━━━━━━━━━━━━━━━\u001b[0m\u001b[37m\u001b[0m \u001b[1m1s\u001b[0m 702ms/step\n",
            "Predicted token index: 411\n",
            "\u001b[1m1/1\u001b[0m \u001b[32m━━━━━━━━━━━━━━━━━━━━\u001b[0m\u001b[37m\u001b[0m \u001b[1m0s\u001b[0m 41ms/step\n",
            "Predicted token index: 35\n",
            "\u001b[1m1/1\u001b[0m \u001b[32m━━━━━━━━━━━━━━━━━━━━\u001b[0m\u001b[37m\u001b[0m \u001b[1m0s\u001b[0m 41ms/step\n",
            "Predicted token index: 643\n",
            "\u001b[1m1/1\u001b[0m \u001b[32m━━━━━━━━━━━━━━━━━━━━\u001b[0m\u001b[37m\u001b[0m \u001b[1m0s\u001b[0m 44ms/step\n",
            "Predicted token index: 497\n",
            "\u001b[1m1/1\u001b[0m \u001b[32m━━━━━━━━━━━━━━━━━━━━\u001b[0m\u001b[37m\u001b[0m \u001b[1m0s\u001b[0m 39ms/step\n",
            "Predicted token index: 512\n",
            "\u001b[1m1/1\u001b[0m \u001b[32m━━━━━━━━━━━━━━━━━━━━\u001b[0m\u001b[37m\u001b[0m \u001b[1m0s\u001b[0m 53ms/step\n",
            "Predicted token index: 110\n",
            "\u001b[1m1/1\u001b[0m \u001b[32m━━━━━━━━━━━━━━━━━━━━\u001b[0m\u001b[37m\u001b[0m \u001b[1m0s\u001b[0m 42ms/step\n",
            "Predicted token index: 589\n",
            "\u001b[1m1/1\u001b[0m \u001b[32m━━━━━━━━━━━━━━━━━━━━\u001b[0m\u001b[37m\u001b[0m \u001b[1m0s\u001b[0m 41ms/step\n",
            "Predicted token index: 228\n",
            "\u001b[1m1/1\u001b[0m \u001b[32m━━━━━━━━━━━━━━━━━━━━\u001b[0m\u001b[37m\u001b[0m \u001b[1m0s\u001b[0m 42ms/step\n",
            "Predicted token index: 65\n",
            "\u001b[1m1/1\u001b[0m \u001b[32m━━━━━━━━━━━━━━━━━━━━\u001b[0m\u001b[37m\u001b[0m \u001b[1m0s\u001b[0m 46ms/step\n",
            "Predicted token index: 234\n",
            "\u001b[1m1/1\u001b[0m \u001b[32m━━━━━━━━━━━━━━━━━━━━\u001b[0m\u001b[37m\u001b[0m \u001b[1m0s\u001b[0m 55ms/step\n",
            "Predicted token index: 694\n",
            "\u001b[1m1/1\u001b[0m \u001b[32m━━━━━━━━━━━━━━━━━━━━\u001b[0m\u001b[37m\u001b[0m \u001b[1m0s\u001b[0m 41ms/step\n",
            "Predicted token index: 602\n",
            "\u001b[1m1/1\u001b[0m \u001b[32m━━━━━━━━━━━━━━━━━━━━\u001b[0m\u001b[37m\u001b[0m \u001b[1m0s\u001b[0m 46ms/step\n",
            "Predicted token index: 158\n",
            "\u001b[1m1/1\u001b[0m \u001b[32m━━━━━━━━━━━━━━━━━━━━\u001b[0m\u001b[37m\u001b[0m \u001b[1m0s\u001b[0m 43ms/step\n",
            "Predicted token index: 194\n",
            "\u001b[1m1/1\u001b[0m \u001b[32m━━━━━━━━━━━━━━━━━━━━\u001b[0m\u001b[37m\u001b[0m \u001b[1m0s\u001b[0m 45ms/step\n",
            "Predicted token index: 383\n",
            "Predicted summary: biopic no border removed jobs president tells bill killed fight per signs court opposition zealand\n",
            "\n",
            "\n",
            "Review: a 40 year old man has been arrested for allegedly killing and chopping his friend into over financial dispute said maharashtra police on wednesday the accused his friend body parts down toilet following which the system got blocked the police arrested him after started from the in which he was staying \n",
            "Original summary: sos man kills body and it down the eos \n",
            "\u001b[1m1/1\u001b[0m \u001b[32m━━━━━━━━━━━━━━━━━━━━\u001b[0m\u001b[37m\u001b[0m \u001b[1m0s\u001b[0m 148ms/step\n",
            "\u001b[1m1/1\u001b[0m \u001b[32m━━━━━━━━━━━━━━━━━━━━\u001b[0m\u001b[37m\u001b[0m \u001b[1m0s\u001b[0m 69ms/step\n",
            "Predicted token index: 411\n",
            "\u001b[1m1/1\u001b[0m \u001b[32m━━━━━━━━━━━━━━━━━━━━\u001b[0m\u001b[37m\u001b[0m \u001b[1m0s\u001b[0m 59ms/step\n",
            "Predicted token index: 35\n",
            "\u001b[1m1/1\u001b[0m \u001b[32m━━━━━━━━━━━━━━━━━━━━\u001b[0m\u001b[37m\u001b[0m \u001b[1m0s\u001b[0m 76ms/step\n",
            "Predicted token index: 643\n",
            "\u001b[1m1/1\u001b[0m \u001b[32m━━━━━━━━━━━━━━━━━━━━\u001b[0m\u001b[37m\u001b[0m \u001b[1m0s\u001b[0m 66ms/step\n",
            "Predicted token index: 497\n",
            "\u001b[1m1/1\u001b[0m \u001b[32m━━━━━━━━━━━━━━━━━━━━\u001b[0m\u001b[37m\u001b[0m \u001b[1m0s\u001b[0m 60ms/step\n",
            "Predicted token index: 512\n",
            "\u001b[1m1/1\u001b[0m \u001b[32m━━━━━━━━━━━━━━━━━━━━\u001b[0m\u001b[37m\u001b[0m \u001b[1m0s\u001b[0m 58ms/step\n",
            "Predicted token index: 186\n",
            "\u001b[1m1/1\u001b[0m \u001b[32m━━━━━━━━━━━━━━━━━━━━\u001b[0m\u001b[37m\u001b[0m \u001b[1m0s\u001b[0m 61ms/step\n",
            "Predicted token index: 521\n",
            "\u001b[1m1/1\u001b[0m \u001b[32m━━━━━━━━━━━━━━━━━━━━\u001b[0m\u001b[37m\u001b[0m \u001b[1m0s\u001b[0m 58ms/step\n",
            "Predicted token index: 403\n",
            "\u001b[1m1/1\u001b[0m \u001b[32m━━━━━━━━━━━━━━━━━━━━\u001b[0m\u001b[37m\u001b[0m \u001b[1m0s\u001b[0m 70ms/step\n",
            "Predicted token index: 525\n",
            "\u001b[1m1/1\u001b[0m \u001b[32m━━━━━━━━━━━━━━━━━━━━\u001b[0m\u001b[37m\u001b[0m \u001b[1m0s\u001b[0m 71ms/step\n",
            "Predicted token index: 139\n",
            "\u001b[1m1/1\u001b[0m \u001b[32m━━━━━━━━━━━━━━━━━━━━\u001b[0m\u001b[37m\u001b[0m \u001b[1m0s\u001b[0m 62ms/step\n",
            "Predicted token index: 677\n",
            "\u001b[1m1/1\u001b[0m \u001b[32m━━━━━━━━━━━━━━━━━━━━\u001b[0m\u001b[37m\u001b[0m \u001b[1m0s\u001b[0m 59ms/step\n",
            "Predicted token index: 1\n",
            "\u001b[1m1/1\u001b[0m \u001b[32m━━━━━━━━━━━━━━━━━━━━\u001b[0m\u001b[37m\u001b[0m \u001b[1m0s\u001b[0m 66ms/step\n",
            "Predicted token index: 391\n",
            "\u001b[1m1/1\u001b[0m \u001b[32m━━━━━━━━━━━━━━━━━━━━\u001b[0m\u001b[37m\u001b[0m \u001b[1m0s\u001b[0m 63ms/step\n",
            "Predicted token index: 391\n",
            "\u001b[1m1/1\u001b[0m \u001b[32m━━━━━━━━━━━━━━━━━━━━\u001b[0m\u001b[37m\u001b[0m \u001b[1m0s\u001b[0m 73ms/step\n",
            "Predicted token index: 42\n",
            "Predicted summary: biopic no border removed jobs shah less andhra 9 gurugram doctor sostok under under was\n",
            "\n",
            "\n",
            "Review: as many as one have been and killed in the country since 2008 ministry of environment and forests revealed in an rti reply around have been arrested since 2008 for the crime the reply stated the maximum number of killings of one have been reported in assam \n",
            "Original summary: sos one killed since held eos \n",
            "\u001b[1m1/1\u001b[0m \u001b[32m━━━━━━━━━━━━━━━━━━━━\u001b[0m\u001b[37m\u001b[0m \u001b[1m0s\u001b[0m 191ms/step\n",
            "\u001b[1m1/1\u001b[0m \u001b[32m━━━━━━━━━━━━━━━━━━━━\u001b[0m\u001b[37m\u001b[0m \u001b[1m0s\u001b[0m 64ms/step\n",
            "Predicted token index: 411\n",
            "\u001b[1m1/1\u001b[0m \u001b[32m━━━━━━━━━━━━━━━━━━━━\u001b[0m\u001b[37m\u001b[0m \u001b[1m0s\u001b[0m 63ms/step\n",
            "Predicted token index: 35\n",
            "\u001b[1m1/1\u001b[0m \u001b[32m━━━━━━━━━━━━━━━━━━━━\u001b[0m\u001b[37m\u001b[0m \u001b[1m0s\u001b[0m 42ms/step\n",
            "Predicted token index: 643\n",
            "\u001b[1m1/1\u001b[0m \u001b[32m━━━━━━━━━━━━━━━━━━━━\u001b[0m\u001b[37m\u001b[0m \u001b[1m0s\u001b[0m 47ms/step\n",
            "Predicted token index: 497\n",
            "\u001b[1m1/1\u001b[0m \u001b[32m━━━━━━━━━━━━━━━━━━━━\u001b[0m\u001b[37m\u001b[0m \u001b[1m0s\u001b[0m 42ms/step\n",
            "Predicted token index: 512\n",
            "\u001b[1m1/1\u001b[0m \u001b[32m━━━━━━━━━━━━━━━━━━━━\u001b[0m\u001b[37m\u001b[0m \u001b[1m0s\u001b[0m 44ms/step\n",
            "Predicted token index: 186\n",
            "\u001b[1m1/1\u001b[0m \u001b[32m━━━━━━━━━━━━━━━━━━━━\u001b[0m\u001b[37m\u001b[0m \u001b[1m0s\u001b[0m 45ms/step\n",
            "Predicted token index: 521\n",
            "\u001b[1m1/1\u001b[0m \u001b[32m━━━━━━━━━━━━━━━━━━━━\u001b[0m\u001b[37m\u001b[0m \u001b[1m0s\u001b[0m 57ms/step\n",
            "Predicted token index: 403\n",
            "\u001b[1m1/1\u001b[0m \u001b[32m━━━━━━━━━━━━━━━━━━━━\u001b[0m\u001b[37m\u001b[0m \u001b[1m0s\u001b[0m 45ms/step\n",
            "Predicted token index: 525\n",
            "\u001b[1m1/1\u001b[0m \u001b[32m━━━━━━━━━━━━━━━━━━━━\u001b[0m\u001b[37m\u001b[0m \u001b[1m0s\u001b[0m 44ms/step\n",
            "Predicted token index: 139\n",
            "\u001b[1m1/1\u001b[0m \u001b[32m━━━━━━━━━━━━━━━━━━━━\u001b[0m\u001b[37m\u001b[0m \u001b[1m0s\u001b[0m 42ms/step\n",
            "Predicted token index: 677\n",
            "\u001b[1m1/1\u001b[0m \u001b[32m━━━━━━━━━━━━━━━━━━━━\u001b[0m\u001b[37m\u001b[0m \u001b[1m0s\u001b[0m 44ms/step\n",
            "Predicted token index: 1\n",
            "\u001b[1m1/1\u001b[0m \u001b[32m━━━━━━━━━━━━━━━━━━━━\u001b[0m\u001b[37m\u001b[0m \u001b[1m0s\u001b[0m 43ms/step\n",
            "Predicted token index: 391\n",
            "\u001b[1m1/1\u001b[0m \u001b[32m━━━━━━━━━━━━━━━━━━━━\u001b[0m\u001b[37m\u001b[0m \u001b[1m0s\u001b[0m 43ms/step\n",
            "Predicted token index: 391\n",
            "\u001b[1m1/1\u001b[0m \u001b[32m━━━━━━━━━━━━━━━━━━━━\u001b[0m\u001b[37m\u001b[0m \u001b[1m0s\u001b[0m 43ms/step\n",
            "Predicted token index: 42\n",
            "Predicted summary: biopic no border removed jobs shah less andhra 9 gurugram doctor sostok under under was\n",
            "\n",
            "\n",
            "Review: a 36 year old woman and her teenage daughter fell after they and baby snake along with in indore madhya pradesh snake poison becomes dangerous when it in blood and gets we will monitor the condition of both the patients for the next couple of days doctor the mother daughter duo said \n",
            "Original summary: sos mother daughter fall after with eos \n",
            "\u001b[1m1/1\u001b[0m \u001b[32m━━━━━━━━━━━━━━━━━━━━\u001b[0m\u001b[37m\u001b[0m \u001b[1m0s\u001b[0m 98ms/step\n",
            "\u001b[1m1/1\u001b[0m \u001b[32m━━━━━━━━━━━━━━━━━━━━\u001b[0m\u001b[37m\u001b[0m \u001b[1m0s\u001b[0m 44ms/step\n",
            "Predicted token index: 411\n",
            "\u001b[1m1/1\u001b[0m \u001b[32m━━━━━━━━━━━━━━━━━━━━\u001b[0m\u001b[37m\u001b[0m \u001b[1m0s\u001b[0m 49ms/step\n",
            "Predicted token index: 35\n",
            "\u001b[1m1/1\u001b[0m \u001b[32m━━━━━━━━━━━━━━━━━━━━\u001b[0m\u001b[37m\u001b[0m \u001b[1m0s\u001b[0m 45ms/step\n",
            "Predicted token index: 643\n",
            "\u001b[1m1/1\u001b[0m \u001b[32m━━━━━━━━━━━━━━━━━━━━\u001b[0m\u001b[37m\u001b[0m \u001b[1m0s\u001b[0m 44ms/step\n",
            "Predicted token index: 497\n",
            "\u001b[1m1/1\u001b[0m \u001b[32m━━━━━━━━━━━━━━━━━━━━\u001b[0m\u001b[37m\u001b[0m \u001b[1m0s\u001b[0m 48ms/step\n",
            "Predicted token index: 512\n",
            "\u001b[1m1/1\u001b[0m \u001b[32m━━━━━━━━━━━━━━━━━━━━\u001b[0m\u001b[37m\u001b[0m \u001b[1m0s\u001b[0m 42ms/step\n",
            "Predicted token index: 186\n",
            "\u001b[1m1/1\u001b[0m \u001b[32m━━━━━━━━━━━━━━━━━━━━\u001b[0m\u001b[37m\u001b[0m \u001b[1m0s\u001b[0m 44ms/step\n",
            "Predicted token index: 521\n",
            "\u001b[1m1/1\u001b[0m \u001b[32m━━━━━━━━━━━━━━━━━━━━\u001b[0m\u001b[37m\u001b[0m \u001b[1m0s\u001b[0m 45ms/step\n",
            "Predicted token index: 403\n",
            "\u001b[1m1/1\u001b[0m \u001b[32m━━━━━━━━━━━━━━━━━━━━\u001b[0m\u001b[37m\u001b[0m \u001b[1m0s\u001b[0m 44ms/step\n",
            "Predicted token index: 525\n",
            "\u001b[1m1/1\u001b[0m \u001b[32m━━━━━━━━━━━━━━━━━━━━\u001b[0m\u001b[37m\u001b[0m \u001b[1m0s\u001b[0m 41ms/step\n",
            "Predicted token index: 139\n",
            "\u001b[1m1/1\u001b[0m \u001b[32m━━━━━━━━━━━━━━━━━━━━\u001b[0m\u001b[37m\u001b[0m \u001b[1m0s\u001b[0m 40ms/step\n",
            "Predicted token index: 677\n",
            "\u001b[1m1/1\u001b[0m \u001b[32m━━━━━━━━━━━━━━━━━━━━\u001b[0m\u001b[37m\u001b[0m \u001b[1m0s\u001b[0m 42ms/step\n",
            "Predicted token index: 1\n",
            "\u001b[1m1/1\u001b[0m \u001b[32m━━━━━━━━━━━━━━━━━━━━\u001b[0m\u001b[37m\u001b[0m \u001b[1m0s\u001b[0m 46ms/step\n",
            "Predicted token index: 391\n",
            "\u001b[1m1/1\u001b[0m \u001b[32m━━━━━━━━━━━━━━━━━━━━\u001b[0m\u001b[37m\u001b[0m \u001b[1m0s\u001b[0m 47ms/step\n",
            "Predicted token index: 391\n",
            "\u001b[1m1/1\u001b[0m \u001b[32m━━━━━━━━━━━━━━━━━━━━\u001b[0m\u001b[37m\u001b[0m \u001b[1m0s\u001b[0m 43ms/step\n",
            "Predicted token index: 42\n",
            "Predicted summary: biopic no border removed jobs shah less andhra 9 gurugram doctor sostok under under was\n",
            "\n",
            "\n",
            "Review: the congress flew of its gujarat mlas to bengaluru on friday night to reportedly prevent them from sides to the bjp this comes after six congress mlas resigned and five of them joined the bjp over the last two days the legislators will reportedly stay at resort till the rajya sabha elections on august 8 \n",
            "Original summary: sos congress gujarat mlas to bengaluru eos \n",
            "\u001b[1m1/1\u001b[0m \u001b[32m━━━━━━━━━━━━━━━━━━━━\u001b[0m\u001b[37m\u001b[0m \u001b[1m0s\u001b[0m 103ms/step\n",
            "\u001b[1m1/1\u001b[0m \u001b[32m━━━━━━━━━━━━━━━━━━━━\u001b[0m\u001b[37m\u001b[0m \u001b[1m0s\u001b[0m 44ms/step\n",
            "Predicted token index: 411\n",
            "\u001b[1m1/1\u001b[0m \u001b[32m━━━━━━━━━━━━━━━━━━━━\u001b[0m\u001b[37m\u001b[0m \u001b[1m0s\u001b[0m 41ms/step\n",
            "Predicted token index: 35\n",
            "\u001b[1m1/1\u001b[0m \u001b[32m━━━━━━━━━━━━━━━━━━━━\u001b[0m\u001b[37m\u001b[0m \u001b[1m0s\u001b[0m 41ms/step\n",
            "Predicted token index: 643\n",
            "\u001b[1m1/1\u001b[0m \u001b[32m━━━━━━━━━━━━━━━━━━━━\u001b[0m\u001b[37m\u001b[0m \u001b[1m0s\u001b[0m 41ms/step\n",
            "Predicted token index: 55\n",
            "\u001b[1m1/1\u001b[0m \u001b[32m━━━━━━━━━━━━━━━━━━━━\u001b[0m\u001b[37m\u001b[0m \u001b[1m0s\u001b[0m 42ms/step\n",
            "Predicted token index: 325\n",
            "\u001b[1m1/1\u001b[0m \u001b[32m━━━━━━━━━━━━━━━━━━━━\u001b[0m\u001b[37m\u001b[0m \u001b[1m0s\u001b[0m 45ms/step\n",
            "Predicted token index: 525\n",
            "\u001b[1m1/1\u001b[0m \u001b[32m━━━━━━━━━━━━━━━━━━━━\u001b[0m\u001b[37m\u001b[0m \u001b[1m0s\u001b[0m 46ms/step\n",
            "Predicted token index: 319\n",
            "\u001b[1m1/1\u001b[0m \u001b[32m━━━━━━━━━━━━━━━━━━━━\u001b[0m\u001b[37m\u001b[0m \u001b[1m0s\u001b[0m 44ms/step\n",
            "Predicted token index: 527\n",
            "\u001b[1m1/1\u001b[0m \u001b[32m━━━━━━━━━━━━━━━━━━━━\u001b[0m\u001b[37m\u001b[0m \u001b[1m0s\u001b[0m 44ms/step\n",
            "Predicted token index: 457\n",
            "\u001b[1m1/1\u001b[0m \u001b[32m━━━━━━━━━━━━━━━━━━━━\u001b[0m\u001b[37m\u001b[0m \u001b[1m0s\u001b[0m 45ms/step\n",
            "Predicted token index: 174\n",
            "\u001b[1m1/1\u001b[0m \u001b[32m━━━━━━━━━━━━━━━━━━━━\u001b[0m\u001b[37m\u001b[0m \u001b[1m0s\u001b[0m 47ms/step\n",
            "Predicted token index: 174\n",
            "\u001b[1m1/1\u001b[0m \u001b[32m━━━━━━━━━━━━━━━━━━━━\u001b[0m\u001b[37m\u001b[0m \u001b[1m0s\u001b[0m 41ms/step\n",
            "Predicted token index: 234\n",
            "\u001b[1m1/1\u001b[0m \u001b[32m━━━━━━━━━━━━━━━━━━━━\u001b[0m\u001b[37m\u001b[0m \u001b[1m0s\u001b[0m 45ms/step\n",
            "Predicted token index: 515\n",
            "\u001b[1m1/1\u001b[0m \u001b[32m━━━━━━━━━━━━━━━━━━━━\u001b[0m\u001b[37m\u001b[0m \u001b[1m0s\u001b[0m 45ms/step\n",
            "Predicted token index: 543\n",
            "\u001b[1m1/1\u001b[0m \u001b[32m━━━━━━━━━━━━━━━━━━━━\u001b[0m\u001b[37m\u001b[0m \u001b[1m0s\u001b[0m 44ms/step\n",
            "Predicted token index: 250\n",
            "Predicted summary: biopic no border world refuses 9 big bans rajasthan into into fight arrest 500 pic\n",
            "\n",
            "\n"
          ]
        }
      ]
    },
    {
      "cell_type": "markdown",
      "source": [
        "**SCORES**"
      ],
      "metadata": {
        "id": "0kUuqJso0-yz"
      }
    },
    {
      "cell_type": "code",
      "source": [
        "pip install nltk rouge-score"
      ],
      "metadata": {
        "id": "RmzhMrksyCpb",
        "colab": {
          "base_uri": "https://localhost:8080/"
        },
        "outputId": "f2f57139-32e4-4b65-8b8e-c04b7fde7a52"
      },
      "execution_count": null,
      "outputs": [
        {
          "output_type": "stream",
          "name": "stdout",
          "text": [
            "Requirement already satisfied: nltk in /usr/local/lib/python3.11/dist-packages (3.9.1)\n",
            "Collecting rouge-score\n",
            "  Downloading rouge_score-0.1.2.tar.gz (17 kB)\n",
            "  Preparing metadata (setup.py) ... \u001b[?25l\u001b[?25hdone\n",
            "Requirement already satisfied: click in /usr/local/lib/python3.11/dist-packages (from nltk) (8.1.8)\n",
            "Requirement already satisfied: joblib in /usr/local/lib/python3.11/dist-packages (from nltk) (1.4.2)\n",
            "Requirement already satisfied: regex>=2021.8.3 in /usr/local/lib/python3.11/dist-packages (from nltk) (2024.11.6)\n",
            "Requirement already satisfied: tqdm in /usr/local/lib/python3.11/dist-packages (from nltk) (4.67.1)\n",
            "Requirement already satisfied: absl-py in /usr/local/lib/python3.11/dist-packages (from rouge-score) (1.4.0)\n",
            "Requirement already satisfied: numpy in /usr/local/lib/python3.11/dist-packages (from rouge-score) (1.26.4)\n",
            "Requirement already satisfied: six>=1.14.0 in /usr/local/lib/python3.11/dist-packages (from rouge-score) (1.17.0)\n",
            "Building wheels for collected packages: rouge-score\n",
            "  Building wheel for rouge-score (setup.py) ... \u001b[?25l\u001b[?25hdone\n",
            "  Created wheel for rouge-score: filename=rouge_score-0.1.2-py3-none-any.whl size=24934 sha256=8f32e533341cf0b55bf4fb958a8ce07726e8d25341467d158a3c90729a7158e9\n",
            "  Stored in directory: /root/.cache/pip/wheels/1e/19/43/8a442dc83660ca25e163e1bd1f89919284ab0d0c1475475148\n",
            "Successfully built rouge-score\n",
            "Installing collected packages: rouge-score\n",
            "Successfully installed rouge-score-0.1.2\n"
          ]
        }
      ]
    },
    {
      "cell_type": "code",
      "metadata": {
        "id": "GDtf2y2BwEP2",
        "colab": {
          "base_uri": "https://localhost:8080/"
        },
        "outputId": "d7d423e9-0578-4b2b-d268-53cab54daa9d"
      },
      "source": [
        "from nltk.translate.bleu_score import sentence_bleu, SmoothingFunction\n",
        "from rouge_score.rouge_scorer import RougeScorer  # Correct import\n",
        "\n",
        "# Function to calculate BLEU Score\n",
        "def calculate_bleu(reference, hypothesis):\n",
        "    smoothie = SmoothingFunction().method4  # Smoothing to handle small n-grams\n",
        "    return sentence_bleu([reference.split()], hypothesis.split(), smoothing_function=smoothie)\n",
        "\n",
        "# Function to calculate ROUGE Score\n",
        "def calculate_rouge(reference, hypothesis):\n",
        "    scorer = RougeScorer(['rouge1', 'rouge2', 'rougeL'], use_stemmer=True)  # Corrected Import\n",
        "    scores = scorer.score(reference, hypothesis)\n",
        "    return scores\n",
        "\n",
        "# Example Predictions and References\n",
        "references = [\n",
        "    \"this is a great product and i love it\",  # Ground truth summary\n",
        "    \"the food tastes amazing and very delicious\"  # Ground truth summary\n",
        "]\n",
        "\n",
        "hypotheses = [\n",
        "    \"great product love it\",  # Model's predicted summary\n",
        "    \"delicious food tastes amazing\"  # Model's predicted summary\n",
        "]\n",
        "\n",
        "# Calculate BLEU and ROUGE scores for each summary\n",
        "for ref, hyp in zip(references, hypotheses):\n",
        "    bleu_score = calculate_bleu(ref, hyp)\n",
        "    rouge_scores = calculate_rouge(ref, hyp)\n",
        "\n",
        "    print(f\"Reference: {ref}\")\n",
        "    print(f\"Prediction: {hyp}\")\n",
        "    #bilingual evalutaion understudy\n",
        "    #compares n grams\n",
        "    #for machine translation\n",
        "    #struggles when re-ordered\n",
        "    print(f\"BLEU Score: {bleu_score:.4f}\")\n",
        "    print(f\"ROUGE Scores: {rouge_scores}\\n\")\n",
        "    #recall oriented understudy\n",
        "    #rouge l- longest common subsequences\n",
        "    # text summarization\n"
      ],
      "execution_count": null,
      "outputs": [
        {
          "output_type": "stream",
          "name": "stdout",
          "text": [
            "Reference: this is a great product and i love it\n",
            "Prediction: great product love it\n",
            "BLEU Score: 0.0682\n",
            "ROUGE Scores: {'rouge1': Score(precision=1.0, recall=0.4444444444444444, fmeasure=0.6153846153846153), 'rouge2': Score(precision=0.6666666666666666, recall=0.25, fmeasure=0.36363636363636365), 'rougeL': Score(precision=1.0, recall=0.4444444444444444, fmeasure=0.6153846153846153)}\n",
            "\n",
            "Reference: the food tastes amazing and very delicious\n",
            "Prediction: delicious food tastes amazing\n",
            "BLEU Score: 0.2190\n",
            "ROUGE Scores: {'rouge1': Score(precision=1.0, recall=0.5714285714285714, fmeasure=0.7272727272727273), 'rouge2': Score(precision=0.6666666666666666, recall=0.3333333333333333, fmeasure=0.4444444444444444), 'rougeL': Score(precision=0.75, recall=0.42857142857142855, fmeasure=0.5454545454545454)}\n",
            "\n"
          ]
        }
      ]
    },
    {
      "cell_type": "code",
      "source": [
        "import nltk\n",
        "nltk.download('wordnet')\n",
        "nltk.download('stopwords')\n"
      ],
      "metadata": {
        "id": "-AGawosX01wA",
        "colab": {
          "base_uri": "https://localhost:8080/"
        },
        "outputId": "e5ec5946-93bc-44b9-d5ed-46bc6fca9e1f"
      },
      "execution_count": null,
      "outputs": [
        {
          "output_type": "stream",
          "name": "stderr",
          "text": [
            "[nltk_data] Downloading package wordnet to /root/nltk_data...\n",
            "[nltk_data] Downloading package stopwords to /root/nltk_data...\n",
            "[nltk_data]   Unzipping corpora/stopwords.zip.\n"
          ]
        },
        {
          "output_type": "execute_result",
          "data": {
            "text/plain": [
              "True"
            ]
          },
          "metadata": {},
          "execution_count": 77
        }
      ]
    },
    {
      "cell_type": "code",
      "source": [
        "from nltk.translate.meteor_score import meteor_score\n",
        "#semantic meaning and word alignment\n",
        "def calculate_meteor(reference, candidate):\n",
        "    return meteor_score([reference.split()], candidate.split())\n",
        "\n",
        "reference = \"congress got seats than apna dal in up\"\n",
        "candidate = \"congress won fewer seats than apna dal in up\"\n",
        "\n",
        "# Example usage\n",
        "print(\"METEOR Score:\", calculate_meteor(reference, candidate)) # Call the function after it's been defined\n",
        "#(Very close to human-level summarization)"
      ],
      "metadata": {
        "id": "jfL9TwBR0URc",
        "colab": {
          "base_uri": "https://localhost:8080/"
        },
        "outputId": "da14c7f9-49b6-4d8a-c513-9c1dd7c96623"
      },
      "execution_count": null,
      "outputs": [
        {
          "output_type": "stream",
          "name": "stdout",
          "text": [
            "METEOR Score: 0.854119425547997\n"
          ]
        }
      ]
    },
    {
      "cell_type": "code",
      "source": [
        "!pip install jiwer\n"
      ],
      "metadata": {
        "id": "hi5eJQ6K0qCg",
        "colab": {
          "base_uri": "https://localhost:8080/"
        },
        "outputId": "5b6e5014-e420-4fd4-9cf8-968133618204"
      },
      "execution_count": null,
      "outputs": [
        {
          "output_type": "stream",
          "name": "stdout",
          "text": [
            "Collecting jiwer\n",
            "  Downloading jiwer-3.1.0-py3-none-any.whl.metadata (2.6 kB)\n",
            "Requirement already satisfied: click>=8.1.8 in /usr/local/lib/python3.11/dist-packages (from jiwer) (8.1.8)\n",
            "Collecting rapidfuzz>=3.9.7 (from jiwer)\n",
            "  Downloading rapidfuzz-3.13.0-cp311-cp311-manylinux_2_17_x86_64.manylinux2014_x86_64.whl.metadata (12 kB)\n",
            "Downloading jiwer-3.1.0-py3-none-any.whl (22 kB)\n",
            "Downloading rapidfuzz-3.13.0-cp311-cp311-manylinux_2_17_x86_64.manylinux2014_x86_64.whl (3.1 MB)\n",
            "\u001b[2K   \u001b[90m━━━━━━━━━━━━━━━━━━━━━━━━━━━━━━━━━━━━━━━━\u001b[0m \u001b[32m3.1/3.1 MB\u001b[0m \u001b[31m46.0 MB/s\u001b[0m eta \u001b[36m0:00:00\u001b[0m\n",
            "\u001b[?25hInstalling collected packages: rapidfuzz, jiwer\n",
            "Successfully installed jiwer-3.1.0 rapidfuzz-3.13.0\n"
          ]
        }
      ]
    },
    {
      "cell_type": "code",
      "source": [
        "import jiwer\n",
        "#count the edit distance in a way\n",
        "#if it is low, it is good\n",
        "def calculate_wer(reference, candidate):\n",
        "    return jiwer.wer(reference, candidate)\n",
        "\n",
        "# Example usage\n",
        "reference = \"congress got seats than apna dal in up\"\n",
        "candidate = \"congress won fewer seats than apna dal in up\"\n",
        "\n",
        "print(\"WER Score:\", calculate_wer(reference, candidate))\n"
      ],
      "metadata": {
        "id": "NsuW1i-30Wje",
        "colab": {
          "base_uri": "https://localhost:8080/"
        },
        "outputId": "f73f1f98-78d5-4fa8-92aa-919482bb716c"
      },
      "execution_count": null,
      "outputs": [
        {
          "output_type": "stream",
          "name": "stdout",
          "text": [
            "WER Score: 0.25\n"
          ]
        }
      ]
    },
    {
      "cell_type": "markdown",
      "source": [
        " 1. Plot Training & Validation Loss and Accuracy"
      ],
      "metadata": {
        "id": "utrdt56O_gDH"
      }
    },
    {
      "cell_type": "code",
      "source": [
        "import matplotlib.pyplot as plt\n",
        "\n",
        "# Assuming you have the history object after training your model\n",
        "def plot_training_history(history):\n",
        "    plt.figure(figsize=(12, 4))\n",
        "\n",
        "    # Plot loss\n",
        "    plt.subplot(1, 2, 1)\n",
        "    plt.plot(history.history['loss'], label='Train Loss')\n",
        "    plt.plot(history.history['val_loss'], label='Validation Loss')\n",
        "    plt.xlabel('Epochs')\n",
        "    plt.ylabel('Loss')\n",
        "    plt.title('Training & Validation Loss')\n",
        "    plt.legend()\n",
        "    plt.show()\n",
        "\n",
        "    # Plot accuracy\n",
        "    plt.subplot(1, 2, 2)\n",
        "    plt.plot(history.history['accuracy'], label='Train Accuracy')\n",
        "    plt.plot(history.history['val_accuracy'], label='Validation Accuracy')\n",
        "    plt.xlabel('Epochs')\n",
        "    plt.ylabel('Accuracy')\n",
        "    plt.title('Training & Validation Accuracy')\n",
        "    plt.legend()\n",
        "\n",
        "    plt.show()\n",
        "\n",
        "# Call this function after training\n",
        "# plot_training_history(history)\n"
      ],
      "metadata": {
        "id": "SqIc1CRm_dNh"
      },
      "execution_count": null,
      "outputs": []
    },
    {
      "cell_type": "markdown",
      "source": [
        "2. ROUGE Score Distribution"
      ],
      "metadata": {
        "id": "2soP57Pw_gue"
      }
    },
    {
      "cell_type": "code",
      "source": [
        "!pip install rouge-score # make sure rouge-score package is installed\n",
        "from rouge_score import rouge_scorer  # import rouge_scorer from rouge-score\n",
        "import seaborn as sns\n",
        "\n",
        "# Function to calculate ROUGE scores\n",
        "def compute_rouge_scores(actual_summaries, generated_summaries):\n",
        "    scorer = rouge_scorer.RougeScorer(['rouge1', 'rouge2', 'rougeL'], use_stemmer=True)\n",
        "    scores = [scorer.score(gen, act)[0]['rouge-l']['f'] for act, gen in zip(actual_summaries, generated_summaries)]\n",
        "    return scores\n",
        "\n",
        "# Example usage:\n",
        "# rouge_scores = compute_rouge_scores(y_val, predicted_summaries)\n",
        "\n",
        "# Plot ROUGE score distribution\n",
        "def plot_rouge_distribution(rouge_scores):\n",
        "    plt.figure(figsize=(8, 5))\n",
        "    sns.histplot(rouge_scores, bins=20, kde=True, color='blue')\n",
        "    plt.xlabel('ROUGE-L Score')\n",
        "    plt.ylabel('Frequency')\n",
        "    plt.title('ROUGE Score Distribution')\n",
        "    plt.show()\n",
        "\n",
        "# Call function with computed scores\n",
        "# plot_rouge_distribution(rouge_scores)"
      ],
      "metadata": {
        "id": "kVLDBTex_igf",
        "colab": {
          "base_uri": "https://localhost:8080/"
        },
        "outputId": "ea173b21-4647-4635-ccf8-4b72145e9501"
      },
      "execution_count": null,
      "outputs": [
        {
          "output_type": "stream",
          "name": "stdout",
          "text": [
            "Requirement already satisfied: rouge-score in /usr/local/lib/python3.11/dist-packages (0.1.2)\n",
            "Requirement already satisfied: absl-py in /usr/local/lib/python3.11/dist-packages (from rouge-score) (1.4.0)\n",
            "Requirement already satisfied: nltk in /usr/local/lib/python3.11/dist-packages (from rouge-score) (3.9.1)\n",
            "Requirement already satisfied: numpy in /usr/local/lib/python3.11/dist-packages (from rouge-score) (1.26.4)\n",
            "Requirement already satisfied: six>=1.14.0 in /usr/local/lib/python3.11/dist-packages (from rouge-score) (1.17.0)\n",
            "Requirement already satisfied: click in /usr/local/lib/python3.11/dist-packages (from nltk->rouge-score) (8.1.8)\n",
            "Requirement already satisfied: joblib in /usr/local/lib/python3.11/dist-packages (from nltk->rouge-score) (1.4.2)\n",
            "Requirement already satisfied: regex>=2021.8.3 in /usr/local/lib/python3.11/dist-packages (from nltk->rouge-score) (2024.11.6)\n",
            "Requirement already satisfied: tqdm in /usr/local/lib/python3.11/dist-packages (from nltk->rouge-score) (4.67.1)\n"
          ]
        }
      ]
    },
    {
      "cell_type": "markdown",
      "source": [
        "3. Histogram of Word Counts"
      ],
      "metadata": {
        "id": "I4Dv8X0B_kDh"
      }
    },
    {
      "cell_type": "code",
      "source": [
        "import numpy as np\n",
        "\n",
        "# Word count distribution\n",
        "text_lengths = [len([word for word in text if word != 0]) for text in x_tr]  # Count non-zero elements (tokens)\n",
        "summary_lengths = [len([word for word in summary if word != 0]) for summary in y_tr]  # Count non-zero elements (tokens)\n",
        "\n",
        "plt.figure(figsize=(12, 5))\n",
        "\n",
        "# Histogram for text lengths\n",
        "plt.subplot(1, 2, 1)\n",
        "plt.hist(text_lengths, bins=30, color='teal', alpha=0.7)\n",
        "plt.xlabel('Number of Words')\n",
        "plt.ylabel('Frequency')\n",
        "plt.title('Distribution of Text Lengths')\n",
        "\n",
        "# Histogram for summary lengths\n",
        "plt.subplot(1, 2, 2)\n",
        "plt.hist(summary_lengths, bins=30, color='orange', alpha=0.7)\n",
        "plt.xlabel('Number of Words')\n",
        "plt.ylabel('Frequency')\n",
        "plt.title('Distribution of Summary Lengths')\n",
        "\n",
        "plt.show()\n",
        "#max_summary_len- adjust it, it is too low"
      ],
      "metadata": {
        "id": "9_uYzxFd_muD",
        "colab": {
          "base_uri": "https://localhost:8080/",
          "height": 487
        },
        "outputId": "2311d9b4-3234-4903-8623-3217a2c6912a"
      },
      "execution_count": null,
      "outputs": [
        {
          "output_type": "display_data",
          "data": {
            "text/plain": [
              "<Figure size 1200x500 with 2 Axes>"
            ],
            "image/png": "[encoded data removed]"
          },
          "metadata": {}
        }
      ]
    },
    {
      "cell_type": "markdown",
      "source": [
        " 4. Example Summarization Results"
      ],
      "metadata": {
        "id": "eCE8wy6G_oSq"
      }
    },
    {
      "cell_type": "code",
      "source": [
        "import random\n",
        "#print(num_examples)\n",
        "def display_examples(x_val, y_val, predicted_summaries, num_examples=5):\n",
        "    for i in range(num_examples):\n",
        "        idx = random.randint(0, len(x_val)-1)\n",
        "        print(f\"\\n🔹 **Original Text**: {x_val[idx]}\")\n",
        "        print(f\"✅ **Actual Summary**: {y_val[idx]}\")\n",
        "        print(f\"🔻 **Generated Summary**: {predicted_summaries[idx]}\")\n",
        "        print(\"-\" * 100)\n",
        "\n",
        "# Example usage (assuming `predicted_summaries` is available)\n",
        "# display_examples(x_val, y_val, predicted_summaries)\n"
      ],
      "metadata": {
        "id": "VAkasYKX_p7R"
      },
      "execution_count": null,
      "outputs": []
    }
  ]
}